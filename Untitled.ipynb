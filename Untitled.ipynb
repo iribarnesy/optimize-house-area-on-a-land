{
 "cells": [
  {
   "cell_type": "code",
   "execution_count": 9,
   "metadata": {},
   "outputs": [],
   "source": [
    "from scipy import *\n",
    "from math import *\n",
    "from sympy.geometry import Polygon as SympyPolygon\n",
    "import numpy as np"
   ]
  },
  {
   "cell_type": "code",
   "execution_count": 2,
   "metadata": {},
   "outputs": [],
   "source": [
    "def sol_to_rect(sol):\n",
    "    \"\"\"Convert a minimal rectangle to a full rectangle\"\"\"\n",
    "    x1, x2, y1, y2, length = sol\n",
    "    vect = (x2 - x1, y2 - y1)\n",
    "    distance = dist((x1,y1),(x2,y2))\n",
    "    vectUnitaire = (vect[0] / distance * length, vect[1] / distance * length)\n",
    "    normalVect = (-vectUnitaire[1], vectUnitaire[0])\n",
    "    point1 = (x1, y1)\n",
    "    point2 = (x2, y2)\n",
    "    point3 = (x2 + normalVect[0], y2 + normalVect[1])\n",
    "    point4 = (x1 + normalVect[0], y1 + normalVect[1])\n",
    "    return [point1, point2, point3, point4]\n",
    "\n",
    "def estValide(rectangle,polygon):\n",
    "    try:\n",
    "        pc = pyclipper.Pyclipper()\n",
    "        pc.AddPath(polygon, pyclipper.PT_SUBJECT, True)\n",
    "        pc.AddPath(rectangle, pyclipper.PT_CLIP, True)\n",
    "    \n",
    "        clip = pc.Execute(pyclipper.CT_INTERSECTION, pyclipper.PFT_EVENODD, pyclipper.PFT_EVENODD)\n",
    "        return (clip!= []) and (len(clip[0]) == len(rectangle)) and np.all([[int(coord) for coord in sommet] in clip[0] for sommet in rectangle]) \n",
    "    except pyclipper.ClipperException:\n",
    "        return False\n",
    "    \n",
    "def sol2rect(solution):\n",
    "    x1, y1, x2, y2, length = solution\n",
    "    normal_vect = [-(y2-y1), (x2-x1)]\n",
    "    \n",
    "    coeff = length / hypot(normal_vect[0], normal_vect[1])\n",
    "    x3, y3 = x2 + normal_vect[0] * coeff, y2 + normal_vect[1] * coeff\n",
    "    x4, y4 = x1 + normal_vect[0] * coeff, y1 + normal_vect[1] * coeff\n",
    "    return [[x1, y1], [x2, y2], [x3, y3], [x4, y4]]"
   ]
  },
  {
   "cell_type": "code",
   "execution_count": 32,
   "metadata": {},
   "outputs": [],
   "source": [
    "import pyclipper\n",
    "\n",
    "def isValid_Nico(polygon, sol):\n",
    "    x1, y1, x2, y2, length = sol\n",
    "    SIZE=1\n",
    "    if(dist((x1, y1), (x2, y2)) >= SIZE and abs(length) >= SIZE):\n",
    "        rectangle = sol2rect(sol)\n",
    "        \n",
    "        # test intersection\n",
    "        pc = pyclipper.Pyclipper()\n",
    "        pc.AddPath(polygon, pyclipper.PT_CLIP, True)\n",
    "        try:\n",
    "            pc.AddPath(rectangle, pyclipper.PT_SUBJECT, True)\n",
    "        except:\n",
    "            print(\"rectangle invalide \", rectangle)\n",
    "        intersect = pc.Execute(pyclipper.CT_INTERSECTION, pyclipper.PFT_EVENODD, pyclipper.PFT_EVENODD)\n",
    "        \n",
    "        if len(intersect) > 0:\n",
    "            return sorted(intersect[0]) == sorted([[int(x), int(y)] for [x,y] in rectangle])\n",
    "    \n",
    "    return False"
   ]
  },
  {
   "cell_type": "code",
   "execution_count": 30,
   "metadata": {},
   "outputs": [],
   "source": [
    "import time\n",
    "\n",
    "def initSwarm(nb,dim,land=None):\n",
    "    positions = []\n",
    "    for i in range(nb):\n",
    "        positions.append([10,19,27,-46,-47])\n",
    "    fits = [pos for pos in positions]\n",
    "    return [{'vit':[0]*dim, 'pos':positions[i], 'fit':fits[i], 'bestpos':positions[i], 'bestfit':fits[i], 'bestvois':[]} for i in range(nb)]"
   ]
  },
  {
   "cell_type": "code",
   "execution_count": 43,
   "metadata": {},
   "outputs": [
    {
     "name": "stdout",
     "output_type": "stream",
     "text": [
      "0.00122833251953125\n"
     ]
    }
   ],
   "source": [
    "land = [(0,0), (0,100), (100,100), (110, 50), (100, 0)]\n",
    "\n",
    "swarm = initSwarm(20,5,land)\n",
    "start_time = time.time()\n",
    "[isValid_Nico(land, s[\"pos\"]) for s in swarm]\n",
    "print(time.time() - start_time)"
   ]
  }
 ],
 "metadata": {
  "kernelspec": {
   "display_name": "Python 3",
   "language": "python",
   "name": "python3"
  },
  "language_info": {
   "codemirror_mode": {
    "name": "ipython",
    "version": 3
   },
   "file_extension": ".py",
   "mimetype": "text/x-python",
   "name": "python",
   "nbconvert_exporter": "python",
   "pygments_lexer": "ipython3",
   "version": "3.8.3"
  }
 },
 "nbformat": 4,
 "nbformat_minor": 4
}
