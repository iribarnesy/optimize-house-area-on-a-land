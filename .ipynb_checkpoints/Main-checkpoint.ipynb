{
 "cells": [
  {
   "cell_type": "markdown",
   "metadata": {},
   "source": [
    "# Optimization : Place the biggest possible house on a land"
   ]
  },
  {
   "cell_type": "markdown",
   "metadata": {},
   "source": [
    "Constraints for the problem : \n",
    "- The house is a rectangle\n",
    "- The land is any polygon, it can be convex or concave\n",
    "\n",
    "\n",
    "\n",
    "The optimization is implemented with two different optimizers : PSO and DE\n",
    "\n",
    "<a id=\"tableOfContents\"></a>\n",
    "### Table of contents :\n",
    "- <a href=\"#section1\">Problem definition</a>, a rectangle in a polygon\n",
    "- <a href=\"#section2\">PSO algorithm</a> \n",
    "- <a href=\"#section3\">DE algorithm</a> \n",
    "- <a href=\"#section4\">Optimizers comparison</a>"
   ]
  },
  {
   "cell_type": "code",
   "execution_count": null,
   "metadata": {},
   "outputs": [],
   "source": [
    "from math import sqrt\n",
    "import time\n",
    "import pandas as pd\n",
    "\n",
    "from sympy.geometry import Polygon as SympyPolygon\n",
    "import matplotlib.pyplot as plt\n",
    "\n",
    "from scipy.stats import wilcoxon\n",
    "\n",
    "from IPython.display import Markdown, display, clear_output\n",
    "def printmd(string):\n",
    "    display(Markdown(string))"
   ]
  },
  {
   "cell_type": "code",
   "execution_count": null,
   "metadata": {},
   "outputs": [],
   "source": [
    "from ipynb.fs.full.Rectangle import Rectangle\n",
    "from ipynb.fs.full.Rectangle import create_animation, draw_polygons, draw_polygon, get_color\n",
    "from ipynb.fs.full.Rectangle import erase_logs, LOGS"
   ]
  },
  {
   "cell_type": "code",
   "execution_count": null,
   "metadata": {},
   "outputs": [],
   "source": [
    "from ipynb.fs.full.OptimizerBuilder import OptimizerBuilder"
   ]
  },
  {
   "cell_type": "markdown",
   "metadata": {},
   "source": [
    "<a id=\"section1\"></a> \n",
    "## 1 - Definition of the problem \n",
    "<a href=\"#tableOfContents\">Go back to the table of contents</a>"
   ]
  },
  {
   "cell_type": "code",
   "execution_count": null,
   "metadata": {},
   "outputs": [],
   "source": [
    "poly1 = [(0,0), (0,100), (100,100), (110, 50), (100, 0)]\n",
    "poly2 = [(0,0), (0,100), (50,90), (30,40), (71,25), (71,100), (100,100), (100,0)]\n",
    "poly3 = [(0,0), (0,100), (30,90), (40,40), (71,25), (71,100), (100,100), (100,0)]\n",
    "poly4 = [[10,10],[10,400],[400,400],[400,10]]\n",
    "poly5 = [[10,10],[10,300],[250,300],[350,130],[200,10]] \n",
    "poly6 = [[50,150],[200,50],[350,150],[350,300],[250,300],[200,250],[150,350],[100,250],[100,200]]\n",
    "poly7 = [[50,50],[50,400],[220,310],[220,170],[330,170],[330,480],[450,480],[450,50]]\n",
    "POLY_LIST = [poly1, poly2, poly3, poly4, poly5, poly6, poly7]\n",
    "POLY_NAMES = [\"Poly\"+str(poly_number+1) for poly_number in range(len(POLY_LIST))]"
   ]
  },
  {
   "cell_type": "code",
   "execution_count": null,
   "metadata": {},
   "outputs": [],
   "source": [
    "n_poly = len(POLY_LIST)\n",
    "m = int(sqrt(n_poly)) + 1\n",
    "fig, ax = plt.subplots(m, m, figsize=(16,16))\n",
    "for i in range(n_poly):\n",
    "    LAND = POLY_LIST[i]\n",
    "    ax = plt.subplot(m, m, i+1)\n",
    "    ax.set_title(f\"Poly{i+1} : area = {int(abs(SympyPolygon(*LAND).area))} m²\", fontsize=18)\n",
    "    draw_polygon(LAND, color=get_color(\"Land\"))\n",
    "plt.plot()"
   ]
  },
  {
   "cell_type": "markdown",
   "metadata": {},
   "source": [
    "<a id=\"hyperparameters\"></a> \n",
    "## Hyperparameters and builder initialization\n",
    "\n",
    "You can change the hyperparameters here if you want"
   ]
  },
  {
   "cell_type": "code",
   "execution_count": null,
   "metadata": {},
   "outputs": [],
   "source": [
    "# Common parameters\n",
    "DIM = 5\n",
    "NB_PARTICLES = 60\n",
    "NB_CYCLES = 800\n",
    "LAND = poly7\n",
    "\n",
    "# PSO specific\n",
    "PSI, CMAX = 0.17, 1.47\n",
    "# DE specific\n",
    "CR, F = 0.9, 0.8\n",
    "\n",
    "# Common operating parameters\n",
    "# for the evaluation function\n",
    "ACCEPT_WHEN_INVALID_MOVE = False\n",
    "# for the logs and historization of data\n",
    "LOG_PADDING = 50\n",
    "SHOW_LOGS = False"
   ]
  },
  {
   "cell_type": "code",
   "execution_count": null,
   "metadata": {},
   "outputs": [],
   "source": [
    "BUILDER = OptimizerBuilder(LAND,\n",
    "                           accept_when_invalid_move = ACCEPT_WHEN_INVALID_MOVE,\n",
    "                           dim=DIM, \n",
    "                           n_agents=NB_PARTICLES, \n",
    "                           n_cycles=NB_CYCLES,\n",
    "                           log_padding=LOG_PADDING,\n",
    "                           isbetter_func=lambda f1, f2: f1 > f2,\n",
    "                           show_logs=SHOW_LOGS)"
   ]
  },
  {
   "cell_type": "markdown",
   "metadata": {},
   "source": [
    "<a id=\"section2\"></a>\n",
    "## 2 - Particule Swarm Optimization\n",
    "<a href=\"#tableOfContents\">Go back to the table of contents</a>"
   ]
  },
  {
   "cell_type": "code",
   "execution_count": null,
   "metadata": {},
   "outputs": [],
   "source": [
    "pso_optimizer = BUILDER.build_PSO(PSI=PSI, CMAX=CMAX)"
   ]
  },
  {
   "cell_type": "markdown",
   "metadata": {},
   "source": [
    "### Visualization"
   ]
  },
  {
   "cell_type": "code",
   "execution_count": null,
   "metadata": {},
   "outputs": [],
   "source": [
    "erase_logs(\"PSO\")\n",
    "pso_optimizer.fit()"
   ]
  },
  {
   "cell_type": "code",
   "execution_count": null,
   "metadata": {},
   "outputs": [],
   "source": [
    "create_animation(LOGS[\"PSO - Swarm\"], LAND, \"Swarm\")"
   ]
  },
  {
   "cell_type": "code",
   "execution_count": null,
   "metadata": {},
   "outputs": [],
   "source": [
    "create_animation(LOGS[\"PSO - Best\"], LAND, \"Best\")"
   ]
  },
  {
   "cell_type": "code",
   "execution_count": null,
   "metadata": {},
   "outputs": [],
   "source": [
    "printmd(f\"### Best fitness = **{pso_optimizer.best_agent['bestfit']}**\")"
   ]
  },
  {
   "cell_type": "markdown",
   "metadata": {},
   "source": [
    "We observe that 800 iterations is not enough for the PSO to improve the global optimum with these hyperparameters. Let's keep 60 agents and 800 iterations to compare with DE."
   ]
  },
  {
   "cell_type": "markdown",
   "metadata": {},
   "source": [
    "<a id=\"section3\"></a>\n",
    "## 3 - Differential Evolution\n",
    "<a href=\"#tableOfContents\">Go back to the table of contents</a>"
   ]
  },
  {
   "cell_type": "code",
   "execution_count": null,
   "metadata": {},
   "outputs": [],
   "source": [
    "de_optimizer = BUILDER.build_DE(CR=CR, F=F)"
   ]
  },
  {
   "cell_type": "markdown",
   "metadata": {},
   "source": [
    "### Visualization"
   ]
  },
  {
   "cell_type": "code",
   "execution_count": null,
   "metadata": {},
   "outputs": [],
   "source": [
    "erase_logs(\"DE\")\n",
    "de_optimizer.fit()"
   ]
  },
  {
   "cell_type": "code",
   "execution_count": null,
   "metadata": {},
   "outputs": [],
   "source": [
    "create_animation(LOGS[\"DE - Swarm\"], LAND, \"Swarm\")"
   ]
  },
  {
   "cell_type": "code",
   "execution_count": null,
   "metadata": {},
   "outputs": [],
   "source": [
    "printmd(f\"### Best fitness = **{de_optimizer.best_agent['fit']}**\")"
   ]
  },
  {
   "cell_type": "markdown",
   "metadata": {},
   "source": [
    "We observe that DE find the optimum and improve it quicker than PSO. 300 iterations is enough for DE."
   ]
  },
  {
   "cell_type": "markdown",
   "metadata": {},
   "source": [
    "First, we want to find a compromize in the hyperparameters to compare DE and PSO. If, with the given set of hyperparameters (60/800) DE is still better than PSO we will increase the number of iterations. **Then, if DE is still better we would like to improve the PSO algorithm to reach the robustness and effectiveness of DE for this problem.**"
   ]
  },
  {
   "cell_type": "markdown",
   "metadata": {},
   "source": [
    "<a id=\"section4\"></a>\n",
    "## 4 - Optimizers comparison\n",
    "<a href=\"#tableOfContents\">Go back to the table of contents</a>\n",
    "\n",
    "To compare the optimizers fairly we should evaluate the following criterias\n",
    "- **Average iteration number** required to reach the global optimum\n",
    "- **Average optimization value**\n",
    "- **Rate of reach** of the global optimum\n",
    "\n",
    "**We will prefer the Wilcoxon test :**\n",
    "\n",
    "A good statistic test that is easier to set up is the Wilcoxon test. By calculating the medians over several instances of the problem for the two optimizers we can deduce the difference between the two optimizers.\n",
    "\n",
    "But this test ignores the time necessary to find the optimum and the number of iteration required. It is also unable to determine the most robust or the most precise of the two.\n",
    "\n",
    "***\n",
    "\n",
    "The comparison is based on the current state of the optimizers. Indeed, the results are intrinsically linked to the hyperparameters given to the optimizers.\n",
    "\n",
    "**To be sure to compare them fairly we should first find the best hyperparameters for them**\n",
    "\n",
    "We decided here to compare them without optimizing their hyperparameters. **So we suppose that the two optimizers are equivalent**"
   ]
  },
  {
   "cell_type": "markdown",
   "metadata": {},
   "source": [
    "### Functions to fit the optimizers many times"
   ]
  },
  {
   "cell_type": "markdown",
   "metadata": {},
   "source": [
    "Extract the fitness over several instances of the problem"
   ]
  },
  {
   "cell_type": "code",
   "execution_count": null,
   "metadata": {},
   "outputs": [],
   "source": [
    "def run_n_times(optimizer, n_runs, optimizer_label=\"Opt?\", show=False, land=LAND):\n",
    "    global LOGS\n",
    "    if show:\n",
    "        m = int(sqrt(n_runs - 1)) + 1\n",
    "        fig, ax = plt.subplots(m, m, figsize=(16, 16))\n",
    "        fig.suptitle(f\"{optimizer_label} - {n_runs} runs comparison\", fontsize=24)\n",
    "    print(LOGS.keys())\n",
    "    erase_logs(optimizer_label)\n",
    "    print(LOGS.keys())\n",
    "    times = []\n",
    "    for i in range(n_runs):\n",
    "        start_time = time.time()\n",
    "        print(LOGS.keys())\n",
    "        optimizer.fit()\n",
    "        print(\"after fit\", LOGS.keys())\n",
    "#         clear_output(wait=True)\n",
    "        times.append(time.time() - start_time)\n",
    "        if show:\n",
    "            ax = plt.subplot(m, m, i+1)\n",
    "            ax.set_title(f\"Trial {i+1}: fit = {int(optimizer.best_agent['fit'])} m²\", fontsize=18)\n",
    "            draw_polygons([land, Rectangle(*optimizer.best_agent['pos']).to_rect()], colors=[get_color(\"Land\"), get_color(\"Best final\")])\n",
    "    if show:\n",
    "        plt.plot()\n",
    "    return times"
   ]
  },
  {
   "cell_type": "code",
   "execution_count": null,
   "metadata": {},
   "outputs": [],
   "source": [
    "def get_scores(optimizer_label, optimizer_params, lands, n_runs, show=False):\n",
    "    global BUILDER, LOGS\n",
    "    scores = pd.DataFrame(columns=[\"land\", \"fitness\", \"iteration\", \"polygons\"])\n",
    "    land_number = 1\n",
    "    for land in lands:\n",
    "        land_name = \"Poly\" + str(land_number)\n",
    "        BUILDER.set_land(land)\n",
    "        optimizer = BUILDER.build(optimizer_label, *optimizer_params)\n",
    "        print(LOGS.keys())\n",
    "        run_n_times(optimizer, n_runs, optimizer_label, show=show, land=land)\n",
    "        print(\"after run_n_times\", LOGS.keys())\n",
    "        runs_df = pd.DataFrame(LOGS[f\"{optimizer_label} - Best final\"])\n",
    "        runs_df = runs_df[[\"fitness\", \"iteration\", \"polygons\"]]\n",
    "        runs_df['land'] = land_name\n",
    "        \n",
    "        scores = scores.append(runs_df)\n",
    "        land_number += 1\n",
    "    return scores"
   ]
  },
  {
   "cell_type": "markdown",
   "metadata": {},
   "source": [
    "### Comparison with **60 agents and 800 iterations**"
   ]
  },
  {
   "cell_type": "code",
   "execution_count": null,
   "metadata": {},
   "outputs": [],
   "source": [
    "LOGS.keys()"
   ]
  },
  {
   "cell_type": "code",
   "execution_count": null,
   "metadata": {},
   "outputs": [],
   "source": [
    "BUILDER.n_agents = 10\n",
    "BUILDER.n_cycles = 80\n",
    "pso_scores = get_scores(BUILDER.PSO_label, [PSI, CMAX], POLY_LIST, 4, show=False)\n",
    "de_scores = get_scores(BUILDER.DE_label, [CR, F], POLY_LIST, 4, show=False)"
   ]
  },
  {
   "cell_type": "code",
   "execution_count": null,
   "metadata": {},
   "outputs": [],
   "source": [
    "log_file_v1 = 'logs/nbAgents=60_it=800_nRuns=36_polys=7.h5'\n",
    "pso_scores.to_hdf(log_file_v1, key='pso_scores', mode='w')\n",
    "de_scores.to_hdf(log_file_v1, key='de_scores', mode='a')"
   ]
  },
  {
   "cell_type": "code",
   "execution_count": null,
   "metadata": {},
   "outputs": [],
   "source": [
    "pso_scores = pd.read_hdf(log_file_v1, 'pso_scores')\n",
    "de_scores = pd.read_hdf(log_file_v1, 'de_scores')\n",
    "display(pso_scores)\n",
    "display(de_scores)\n",
    "\n",
    "pso_medians = [float(pso_scores.loc[pso_scores['land'] == poly_name][['fitness']].median()) for poly_name in POLY_NAMES]\n",
    "de_medians = [float(de_scores.loc[de_scores['land'] == poly_name][['fitness']].median()) for poly_name in POLY_NAMES]\n",
    "print(\"PSO medians :\", pso_medians)\n",
    "print(\"DE medians :\", de_medians)"
   ]
  },
  {
   "cell_type": "code",
   "execution_count": null,
   "metadata": {},
   "outputs": [],
   "source": [
    "wilcoxon_pvalue = wilcoxon([pso_medians[i] - de_medians[i] for i in range(len(pso_medians))]).pvalue\n",
    "printmd(f\"The wilcoxon test return a **pvalue = {wilcoxon_pvalue}**\")"
   ]
  },
  {
   "cell_type": "markdown",
   "metadata": {},
   "source": [
    "The pvalue is between 0.01 and 0.05. So we strongly assume that the 2 optimizers are different.\n",
    "\n",
    "Regarding the medians we can say that **Differential Evolution is better**.\n",
    "Regarding the plots we can see that PSO does not reach the best value of the detected optimum. Let's try to increase the iteration number."
   ]
  },
  {
   "cell_type": "markdown",
   "metadata": {},
   "source": [
    "### Comparison with **90 agents and 2000 iterations**"
   ]
  },
  {
   "cell_type": "code",
   "execution_count": null,
   "metadata": {},
   "outputs": [],
   "source": [
    "BUILDER.n_agents = 90\n",
    "BUILDER.n_cycles = 2000\n",
    "pso_scores = get_scores(BUILDER.PSO_label, [PSI, CMAX], POLY_LIST, 36, show=True)\n",
    "de_scores = get_scores(BUILDER.DE_label, [CR, F], POLY_LIST, 36, show=True)\n",
    "\n",
    "log_file_v2 = 'logs/nbAgents=90_it=2000_nRuns=36_polys=7.h5'\n",
    "pso_scores.to_hdf(log_file_v2, key='pso_scores', mode='w')\n",
    "de_scores.to_hdf(log_file_v2, key='de_scores', mode='a')\n",
    "\n",
    "pso_scores = pd.read_hdf(log_file_v2, 'pso_scores')\n",
    "de_scores = pd.read_hdf(log_file_v2, 'de_scores')\n",
    "display(pso_scores)\n",
    "display(de_scores)"
   ]
  },
  {
   "cell_type": "code",
   "execution_count": null,
   "metadata": {},
   "outputs": [],
   "source": [
    "pso_medians = [float(pso_scores.loc[pso_scores['land'] == poly_name][['fitness']].median()) for poly_name in POLY_NAMES]\n",
    "de_medians = [float(de_scores.loc[de_scores['land'] == poly_name][['fitness']].median()) for poly_name in POLY_NAMES]\n",
    "print(\"PSO medians :\", pso_medians)\n",
    "print(\"DE medians :\", de_medians)"
   ]
  },
  {
   "cell_type": "code",
   "execution_count": null,
   "metadata": {},
   "outputs": [],
   "source": [
    "wilcoxon_pvalue = wilcoxon([pso_medians[i] - de_medians[i] for i in range(len(pso_medians))]).pvalue\n",
    "printmd(f\"The wilcoxon test return a **pvalue = {wilcoxon_pvalue}**\")"
   ]
  },
  {
   "cell_type": "markdown",
   "metadata": {},
   "source": [
    "The pvalue is between 0.01 and 0.05. So we strongly assume that the 2 optimizers are different.\n",
    "\n",
    "Regarding the medians we can say that **Differential Evolution is better**.\n",
    "Regarding the plots we can see that PSO does not reach the best value of the detected optimum. Let's try to increase the iteration number."
   ]
  }
 ],
 "metadata": {
  "kernelspec": {
   "display_name": "Python 3",
   "language": "python",
   "name": "python3"
  },
  "language_info": {
   "codemirror_mode": {
    "name": "ipython",
    "version": 3
   },
   "file_extension": ".py",
   "mimetype": "text/x-python",
   "name": "python",
   "nbconvert_exporter": "python",
   "pygments_lexer": "ipython3",
   "version": "3.8.3"
  }
 },
 "nbformat": 4,
 "nbformat_minor": 4
}
