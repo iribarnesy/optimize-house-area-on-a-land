{
 "cells": [
  {
   "cell_type": "code",
   "execution_count": 8,
   "metadata": {},
   "outputs": [],
   "source": [
    "# Some libraries\n",
    "from scipy import *\n",
    "from math import *\n",
    "from matplotlib.pyplot import *\n",
    "from functools import *\n",
    "import sys"
   ]
  },
  {
   "cell_type": "code",
   "execution_count": 9,
   "metadata": {},
   "outputs": [],
   "source": [
    "FUNCTION = \"levy\"\n",
    "DIM = 4    # problem dimension\n",
    "# domain of variation definition\n",
    "INF = -50  \n",
    "SUP = 50\n",
    "\n",
    "Nb_cycles = 2000\n",
    "Nb_particle = 20\n",
    "# usual params\n",
    "psi,cmax = (0.7, 1.47) \n",
    "# psi,cmax = (0.8, 1.62)"
   ]
  },
  {
   "cell_type": "code",
   "execution_count": 10,
   "metadata": {},
   "outputs": [],
   "source": [
    "# Displaying the best found particle\n",
    "# pre-conditions :\n",
    "#   - best : best found particle,\n",
    "def dispRes(best):\n",
    "    print(\"point = {}\".format(best['pos']))\n",
    "    print(\"eval = {}\".format(best['fit']))"
   ]
  },
  {
   "cell_type": "code",
   "execution_count": 11,
   "metadata": {},
   "outputs": [],
   "source": [
    "# Test functions and evaluations\n",
    "def w(x):\n",
    "    return 1 + (x-1)/4\n",
    "def jourdan(sol):\n",
    "    wsol = [w(x) for x in sol]\n",
    "    return sin(math.pi * wsol[0])**2 + (wsol[0]-1)**2 * (1 + 20*sin(math.pi * wsol[0]+1)**2)/10 + 2*(wsol[1]-1)\n",
    "\n",
    "def levy(sol):\n",
    "    wsol = [w(x) for x in sol]\n",
    "    som = reduce(lambda acc,e:acc+(e-1)**2 * (1 + 10*sin(math.pi * e + 1)**2),wsol,0)\n",
    "    return sin(math.pi * wsol[0])**2 + som + (wsol[DIM-1]-1)**2 * (1 + sin(2*math.pi * wsol[DIM-1])**2)\n",
    "\n",
    "def sphere(sol):\n",
    "    return reduce(lambda acc,e:acc+e*e,sol,0)\n",
    "\n",
    "def griewank(sol):\n",
    "    (s,p,i) = reduce(lambda acc,e:(acc[0]+e*e,acc[1]*cos(e/sqrt(acc[2])),acc[2]+1),sol,(0,1,1))\n",
    "    return s/4000\n",
    "\n",
    "# Evaluation function,\n",
    "# pre-condition:\n",
    "# - sol: point of the plan\n",
    "# post-condition: f (point)\n",
    "def eval(sol):\n",
    "    global FUNCTION\n",
    "    if FUNCTION == \"sphere\":\n",
    "        return sphere(sol)\n",
    "    elif FUNCTION == \"griewank\":\n",
    "        return griewank(sol)\n",
    "    elif FUNCTION == \"levy\":\n",
    "        return levy(sol)\n",
    "    elif FUNCTION == \"jourdan\":\n",
    "        return jourdan(sol)\n",
    "    else:\n",
    "        print(\"error!\")\n",
    "        exit(1)"
   ]
  },
  {
   "cell_type": "code",
   "execution_count": 12,
   "metadata": {},
   "outputs": [],
   "source": [
    "# Initialization\n",
    "\n",
    "# create a particle \n",
    "# one particle is discribed by : \n",
    "#   - pos : solution list of variables\n",
    "#   - vit : movement velocity (null at the initialization)\n",
    "#   - fit :  fitness of the solution\n",
    "#   - bestpos : best visited position \n",
    "#   - bestfit : evaluation of the best visited solution\n",
    "#   - bestvois : best neighbor (global for this version)\n",
    "def initOne(dim,inf,sup):\n",
    "    pos = [random.uniform(inf, sup) for i in range(dim)]\n",
    "    fit = eval(pos)\n",
    "    return {'vit':[0]*dim, 'pos':pos, 'fit':fit, 'bestpos':pos, 'bestfit':fit, 'bestvois':[]}\n",
    "\n",
    "\n",
    "# Init of the population (swarm)\n",
    "def initSwarm(nb,dim,inf,sup):\n",
    "    return [initOne(dim,inf,sup) for i in range(nb)]"
   ]
  },
  {
   "cell_type": "code",
   "execution_count": 13,
   "metadata": {},
   "outputs": [],
   "source": [
    "# Return the particle with the best fitness\n",
    "def maxParticle(p1,p2):\n",
    "    if (p1[\"fit\"] < p2[\"fit\"]):\n",
    "        return p1 \n",
    "    else:\n",
    "        return p2\n",
    "\n",
    "# Returns a copy of the particle with the best fitness in the population\n",
    "def getBest(swarm):\n",
    "    return dict(reduce(lambda acc, e: maxParticle(acc,e),swarm[1:],swarm[0]))\n",
    "\n",
    "# function to stop at boundaries of the search space\n",
    "def bornage(val, inf, sup):\n",
    "    return min (sup, max (inf, val))"
   ]
  },
  {
   "cell_type": "code",
   "execution_count": 14,
   "metadata": {},
   "outputs": [],
   "source": [
    "# Update information for the particles of the population (swarm)\n",
    "def update(particle,bestParticle):\n",
    "    nv = dict(particle)\n",
    "    if(particle[\"fit\"] < particle[\"bestfit\"]):\n",
    "        nv['bestpos'] = particle[\"pos\"][:]\n",
    "        nv['bestfit'] = particle[\"fit\"]\n",
    "    nv['bestvois'] = bestParticle[\"bestpos\"][:]\n",
    "    return nv\n",
    "\n",
    "# Calculate the velocity and move a paticule\n",
    "def move(particle,dim):\n",
    "    global ksi,c1,c2,psi,cmax,INF,SUP\n",
    "\n",
    "    nv = dict(particle)\n",
    "\n",
    "    velocity = [0]*dim\n",
    "    for i in range(dim):\n",
    "        velocity[i] = (particle[\"vit\"][i]*psi + \\\n",
    "        cmax*random.uniform()*(particle[\"bestpos\"][i] - particle[\"pos\"][i]) + \\\n",
    "        cmax*random.uniform()*(particle[\"bestvois\"][i] - particle[\"pos\"][i]))\n",
    "    position = [0]*dim\n",
    "    for i in range(dim):\n",
    "        position[i] = bornage(particle[\"pos\"][i] + velocity[i], INF, SUP)\n",
    "\n",
    "    nv['vit'] = velocity\n",
    "    nv['pos'] = position\n",
    "    nv['fit'] = eval(position)\n",
    "\n",
    "    return nv"
   ]
  },
  {
   "cell_type": "code",
   "execution_count": 15,
   "metadata": {},
   "outputs": [
    {
     "name": "stdout",
     "output_type": "stream",
     "text": [
      "point = [0.9999999999999994, 0.9999999999999989, 1.0, 0.9999999999999999]\n",
      "eval = 8.189970039328776e-31\n"
     ]
    }
   ],
   "source": [
    "# MAIN LOOP\n",
    "\n",
    "Htemps = []       # temps\n",
    "Hbest = []        # distance\n",
    "\n",
    "# initialization of the population\n",
    "swarm = initSwarm(Nb_particle,DIM,INF,SUP)\n",
    "# initialization of the best solution\n",
    "best = getBest(swarm)\n",
    "best_cycle = best\n",
    "\n",
    "for i in range(Nb_cycles):\n",
    "    #Update informations\n",
    "    swarm = [update(e,best_cycle) for e in swarm]\n",
    "    # velocity calculations and displacement\n",
    "    swarm = [move(e,DIM) for e in swarm]\n",
    "    # Update of the best solution\n",
    "    best_cycle = getBest(swarm)\n",
    "    if (best_cycle[\"bestfit\"] < best[\"bestfit\"]):\n",
    "        best = best_cycle\n",
    "        # draw(best['pos'], best['fit'])\n",
    "\n",
    "    # historization of data\n",
    "    if i % 10 == 0:\n",
    "        Htemps.append(i)\n",
    "        Hbest.append(best['bestfit'])\n",
    "\n",
    "# END, displaying results\n",
    "Htemps.append(i)\n",
    "Hbest.append(best['bestfit'])\n",
    "\n",
    "#displaying result on the console\n",
    "dispRes(best)"
   ]
  }
 ],
 "metadata": {
  "kernelspec": {
   "display_name": "Python 3",
   "language": "python",
   "name": "python3"
  },
  "language_info": {
   "codemirror_mode": {
    "name": "ipython",
    "version": 3
   },
   "file_extension": ".py",
   "mimetype": "text/x-python",
   "name": "python",
   "nbconvert_exporter": "python",
   "pygments_lexer": "ipython3",
   "version": "3.8.3"
  }
 },
 "nbformat": 4,
 "nbformat_minor": 4
}
