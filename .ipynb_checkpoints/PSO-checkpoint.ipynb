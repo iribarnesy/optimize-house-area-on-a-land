{
 "cells": [
  {
   "cell_type": "markdown",
   "metadata": {},
   "source": [
    "# Particle Swarm Optimization\n",
    "\n",
    "## Implementation of the PSO optimizer (vanilla, no extra feature)\n",
    "\n",
    "A particle move according to the direction of the best particle in the field\n"
   ]
  },
  {
   "cell_type": "code",
   "execution_count": 1,
   "metadata": {},
   "outputs": [],
   "source": [
    "# Some libraries\n",
    "from scipy import *\n",
    "from math import *\n",
    "from matplotlib.pyplot import *\n",
    "from functools import *\n",
    "import sys\n",
    "from tqdm import tqdm\n",
    "import time\n",
    "\n",
    "from IPython.display import Markdown, display\n",
    "def printmd(string):\n",
    "    display(Markdown(string))"
   ]
  },
  {
   "cell_type": "code",
   "execution_count": 8,
   "metadata": {},
   "outputs": [],
   "source": [
    "class PSO:\n",
    "    \"\"\"Particle Swarm Optimizer\"\"\"\n",
    "    \n",
    "    def __init__(self, eval_func,\n",
    "                 dim=2, \n",
    "                 inf=0, \n",
    "                 sup=100, \n",
    "                 n_agents=30, \n",
    "                 n_cycles=500, \n",
    "                 PSI=0.9, \n",
    "                 CMAX=0.8,\n",
    "                 isbetter_func=lambda f1, f2: f1 < f2,\n",
    "                 bounding_func=None,\n",
    "                 init_func=None,\n",
    "                 log_func=None):\n",
    "        self.dim = dim\n",
    "        self.inf = inf\n",
    "        self.sup = sup\n",
    "        self.n_agents = n_agents\n",
    "        self.n_cycles = n_cycles\n",
    "        self.PSI = PSI\n",
    "        self.CMAX = CMAX\n",
    "        \n",
    "        self.eval_func = eval_func\n",
    "        self.isbetter_func = isbetter_func\n",
    "        self.bounding_func = bounding_func if bounding_func is not None else self.bounding\n",
    "        self.init_func = init_func if init_func is not None else self.plain_init\n",
    "        self.log_func = log_func if log_func is not None else self.display_result\n",
    "        \n",
    "        self.population = []\n",
    "        self.best_agent = None\n",
    "        \n",
    "    def init_population(self):\n",
    "        positions = self.init_func()\n",
    "        fits = [self.eval_func(pos) for pos in positions]\n",
    "        self.population = [{'vit':[0]*self.dim, 'pos':positions[i], 'fit':fits[i], 'bestpos':positions[i], 'bestfit':fits[i], 'bestvois':[]} for i in range(self.n_agents)]\n",
    "        return self.population\n",
    "    \n",
    "    def max_particle(self, p1, p2):\n",
    "        if self.isbetter_func(p1[\"fit\"], p2[\"fit\"]):\n",
    "            return p1 \n",
    "        else:\n",
    "            return p2\n",
    "    \n",
    "    def get_best_agent(self):\n",
    "        return dict(reduce(lambda acc, e: self.max_particle(acc,e),self.population[1:],self.population[0]))\n",
    "    \n",
    "    def update_agent(self, particle):\n",
    "        nv = dict(particle)\n",
    "        if self.isbetter_func(particle[\"fit\"],particle[\"bestfit\"]):\n",
    "            nv['bestpos'] = particle[\"pos\"][:]\n",
    "            nv['bestfit'] = particle[\"fit\"]\n",
    "        nv['bestvois'] = self.best_agent[\"bestpos\"][:]\n",
    "        return nv\n",
    "\n",
    "    def move_agent(self, particle):\n",
    "        nv = dict(particle)\n",
    "\n",
    "        velocity = [0]*self.dim\n",
    "        for i in range(self.dim):\n",
    "            velocity[i] = (particle[\"vit\"][i]*self.PSI + \\\n",
    "            self.CMAX*random.uniform()*(particle[\"bestpos\"][i] - particle[\"pos\"][i]) + \\\n",
    "            self.CMAX*random.uniform()*(particle[\"bestvois\"][i] - particle[\"pos\"][i]))\n",
    "\n",
    "        new_pos = [particle[\"pos\"][i] + velocity[i] for i in range(self.dim)]\n",
    "        try:\n",
    "            position = self.bounding_func(new_pos)   \n",
    "        except ValueError:\n",
    "            position = particle[\"pos\"]\n",
    "\n",
    "        nv['vit'] = velocity\n",
    "        nv['pos'] = position\n",
    "        nv['fit'] = self.eval_func(position)\n",
    "        return nv\n",
    "    \n",
    "    def bounding(self, position):\n",
    "        return [min(self.sup, max(self.inf, dim_val)) for dim_val in position]\n",
    "    \n",
    "    def plain_init(self):\n",
    "        return [[random.uniform(self.inf, self.sup) for i in range(self.dim)] for a in range(self.n_agents)]\n",
    "    \n",
    "    def fit(self, reset=True):\n",
    "        self.init_population()\n",
    "        self.log_func(map(lambda s: s[\"pos\"], self.population), colors=[\"green\", \"purple\"], legend=\"PSO - Initialization\", padding=1)\n",
    "\n",
    "        self.best_agent = self.get_best_agent()\n",
    "        best_cycle = self.best_agent\n",
    "\n",
    "        for i in tqdm(range(self.n_cycles)):\n",
    "            self.population = [self.update_agent(e) for e in self.population]\n",
    "            # velocity calculations and displacement\n",
    "            self.population = [self.move_agent(e) for e in self.population]\n",
    "            self.log_func(map(lambda s: s[\"pos\"], self.population), colors=[\"green\", \"purple\"], legend=\"PSO - Swarm\", it=i+1)\n",
    "            # Update of the best solution\n",
    "            best_cycle = self.get_best_agent()\n",
    "            if self.isbetter_func(best_cycle[\"bestfit\"],self.best_agent[\"bestfit\"]):\n",
    "                self.best_agent = best_cycle\n",
    "\n",
    "            self.log_func(self.best_agent['bestpos'], legend=\"PSO - Best\", text=f\"{int(self.best_agent['bestfit'])}\", colors=[\"green\", \"blue\"], it=i+1, fitness=self.best_agent['bestfit'])\n",
    "\n",
    "        self.log_func(self.best_agent['bestpos'], legend=\"PSO - Best final\", text=f\"{int(self.best_agent['bestfit'])}\", colors=[\"green\", \"blue\"], it=self.n_cycles, fitness=self.best_agent['bestfit'])\n",
    "    \n",
    "    def display_result(self, sols, colors=None, legend=\"\", text=\"\", it=0, fitness=None, **kwargs):\n",
    "        if legend.split(\" - \")[-1].startswith(\"Best\") and it % (self.n_cycles / 5) == 0:\n",
    "            print(\"Itération\", it)\n",
    "            print(f\"{legend} : {text}\")\n",
    "            print(sols)\n",
    "            if fitness is not None:\n",
    "                print(\"fitness =\", fitness)\n",
    "            print(\"--------------------\\n\")"
   ]
  },
  {
   "cell_type": "markdown",
   "metadata": {},
   "source": [
    "## Main test"
   ]
  },
  {
   "cell_type": "code",
   "execution_count": 7,
   "metadata": {},
   "outputs": [
    {
     "name": "stderr",
     "output_type": "stream",
     "text": [
      " 50%|████▉     | 248/500 [00:00<00:00, 1264.07it/s]"
     ]
    },
    {
     "name": "stdout",
     "output_type": "stream",
     "text": [
      "Itération 100\n",
      "PSO - Best : 0\n",
      "[-0.04204249991641035, 0.1663901150069171, 0.23570950297982776, -0.2841574083758789, -0.17966997473945703]\n",
      "fitness = 0.19803894452400705\n",
      "--------------------\n",
      "\n",
      "Itération 200\n",
      "PSO - Best : 0\n",
      "[0.001915555280648234, -0.005583671452388093, 0.00045763928135621884, -0.013332568004979381, -0.00951455738977354]\n",
      "fitness = 0.0003033403445639675\n",
      "--------------------\n",
      "\n",
      "Itération 300\n",
      "PSO - Best : 0\n",
      "[0.00020032672349168433, 9.692624122787199e-06, 0.0004575280737093784, -3.23892236531687e-05, 1.6107191419184553e-05]\n",
      "fitness = 2.5086518476378297e-07\n",
      "--------------------\n",
      "\n"
     ]
    },
    {
     "name": "stderr",
     "output_type": "stream",
     "text": [
      "100%|██████████| 500/500 [00:00<00:00, 1263.09it/s]"
     ]
    },
    {
     "name": "stdout",
     "output_type": "stream",
     "text": [
      "Itération 400\n",
      "PSO - Best : 0\n",
      "[1.067412902331986e-05, 9.09619157007941e-06, -1.8727950730379696e-05, -3.5970027450383847e-06, 1.4328557082291127e-05]\n",
      "fitness = 7.656598468538814e-10\n",
      "--------------------\n",
      "\n",
      "Itération 500\n",
      "PSO - Best : 0\n",
      "[1.7936242955824602e-07, 1.2338385842630496e-07, -6.573030417512279e-07, 9.440838981569806e-07, 6.067184801130155e-07]\n",
      "fitness = 1.7388434672225436e-12\n",
      "--------------------\n",
      "\n",
      "Itération 500\n",
      "PSO - Best final : 0\n",
      "[1.7936242955824602e-07, 1.2338385842630496e-07, -6.573030417512279e-07, 9.440838981569806e-07, 6.067184801130155e-07]\n",
      "fitness = 1.7388434672225436e-12\n",
      "--------------------\n",
      "\n"
     ]
    },
    {
     "name": "stderr",
     "output_type": "stream",
     "text": [
      "\n"
     ]
    }
   ],
   "source": [
    "if __name__ == \"__main__\":\n",
    "    \n",
    "    def sphere(x):\n",
    "        return reduce(lambda acc,e: acc + e * e, x, 0)\n",
    "    \n",
    "    optimizer = PSO(eval_func=sphere, dim=5, inf=-50, sup=50)\n",
    "    optimizer.fit()"
   ]
  }
 ],
 "metadata": {
  "kernelspec": {
   "display_name": "Python 3",
   "language": "python",
   "name": "python3"
  },
  "language_info": {
   "codemirror_mode": {
    "name": "ipython",
    "version": 3
   },
   "file_extension": ".py",
   "mimetype": "text/x-python",
   "name": "python",
   "nbconvert_exporter": "python",
   "pygments_lexer": "ipython3",
   "version": "3.8.3"
  }
 },
 "nbformat": 4,
 "nbformat_minor": 4
}
