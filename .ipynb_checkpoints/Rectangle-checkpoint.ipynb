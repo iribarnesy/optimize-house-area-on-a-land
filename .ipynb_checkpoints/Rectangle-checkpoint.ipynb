{
 "cells": [
  {
   "cell_type": "markdown",
   "metadata": {},
   "source": [
    "# Rectangle class & drawing polygons functions\n",
    "## Minimal representation of a rectangle"
   ]
  },
  {
   "cell_type": "code",
   "execution_count": 1,
   "metadata": {},
   "outputs": [],
   "source": [
    "from sympy.geometry import Point\n",
    "from sympy.geometry import Polygon as SympyPolygon\n",
    "import matplotlib.pyplot as plt\n",
    "from matplotlib import animation\n",
    "from matplotlib.patches import Polygon\n",
    "import pyclipper\n",
    "\n",
    "import numpy as np\n",
    "from math import dist\n",
    "from copy import deepcopy\n",
    "\n",
    "from IPython.display import HTML"
   ]
  },
  {
   "cell_type": "markdown",
   "metadata": {},
   "source": [
    "## Class and converting functions"
   ]
  },
  {
   "cell_type": "code",
   "execution_count": 2,
   "metadata": {},
   "outputs": [],
   "source": [
    "class Rectangle:\n",
    "    \"\"\"Minimal representation of a rectangle\"\"\"\n",
    "    def __init__(self, point1_x, point1_y, point2_x, point2_y, longueur):\n",
    "        self.point1_x = point1_x\n",
    "        self.point1_y = point1_y\n",
    "        self.point2_x = point2_x\n",
    "        self.point2_y = point2_y\n",
    "        self.longueur = longueur\n",
    "        \n",
    "    def side_length(self):\n",
    "        return dist((self.point1_x, self.point1_y), (self.point2_x, self.point2_y))\n",
    "    \n",
    "    def area(self):\n",
    "        return abs(self.side_length() * self.longueur)\n",
    "    \n",
    "    def to_rect(self, strategy=\"Default\"):\n",
    "        \"\"\"Convert a minimal rectangle to a full rectangle\"\"\"\n",
    "        vect = (self.point2_x - self.point1_x, self.point2_y - self.point1_y)\n",
    "        distance = self.side_length()\n",
    "        vectUnitaire = (vect[0] / distance * self.longueur, vect[1] / distance * self.longueur)\n",
    "        normalVect = (-vectUnitaire[1], vectUnitaire[0])\n",
    "        point1 = (self.point1_x, self.point1_y)\n",
    "        point2 = (self.point2_x, self.point2_y)\n",
    "        point3 = (self.point2_x + normalVect[0], self.point2_y + normalVect[1])\n",
    "        point4 = (self.point1_x + normalVect[0], self.point1_y + normalVect[1])\n",
    "        if strategy == \"Default\":\n",
    "            return [point1, point2, point3, point4]\n",
    "        else:\n",
    "            return SimpyPolygon(point1, point2, point3, point4)\n",
    "    \n",
    "    def vertice_in_polygon(self, vertice, polygon):\n",
    "        \"\"\" Determine if the vertice is in the polygon\n",
    "        Not a strict check because of the pyclipper library in which\n",
    "        the coordinates are floored.\n",
    "        \"\"\"\n",
    "        x, y = vertice\n",
    "        x, y = int(x), int(y)\n",
    "        return [x,y] in polygon\n",
    "\n",
    "    def is_valid(self, polygon, verbose=False):\n",
    "        \"\"\" Determine if the rectangle is in the polygon\n",
    "\n",
    "        @param polygon: whether a polygon or a list of vertices\n",
    "        \"\"\"\n",
    "        if verbose:\n",
    "            print(\"entrée: est_valide\")\n",
    "            start_time = time.time()\n",
    "        try:\n",
    "            rectangle = self.to_rect()\n",
    "            pc = pyclipper.Pyclipper()\n",
    "            pc.AddPath(polygon, pyclipper.PT_CLIP, True)\n",
    "            pc.AddPath(rectangle, pyclipper.PT_SUBJECT, True)\n",
    "\n",
    "            intersections = pc.Execute(pyclipper.CT_INTERSECTION, pyclipper.PFT_EVENODD, pyclipper.PFT_EVENODD)\n",
    "\n",
    "            res = (intersections != []) and (len(intersections[0]) == len(rectangle)) and np.all([self.vertice_in_polygon(v, intersections[0]) for v in rectangle]) \n",
    "            if verbose:\n",
    "                print(\"--- %s seconds ---\" % (time.time() - start_time))\n",
    "            return res\n",
    "        except pyclipper.ClipperException:\n",
    "            if verbose:\n",
    "                print(\"Clipper exception\")\n",
    "            return False"
   ]
  },
  {
   "cell_type": "markdown",
   "metadata": {},
   "source": [
    "## Drawing functions"
   ]
  },
  {
   "cell_type": "code",
   "execution_count": 3,
   "metadata": {},
   "outputs": [],
   "source": [
    "COLORS_LEGEND_MAP = {\"Swarm\": \"purple\", \"Best\": \"blue\", \"Best final\": \"blue\", \"Land\": \"green\"}\n",
    "def get_color(legend):\n",
    "    return COLORS_LEGEND_MAP[legend.split(\" - \")[-1]]\n",
    "\n",
    "def draw_polygon(polygon, ax=None, color=\"green\"):\n",
    "    \"\"\"Draw a polygon over an axis (not shown directly)\n",
    "    \n",
    "    @param polygon: Whether a polygon or a path\n",
    "    \"\"\"\n",
    "    if ax is None:\n",
    "        ax = plt.gca()\n",
    "    if type(polygon) == SympyPolygon:\n",
    "        polygon = np.array(list(map(lambda p: [p.x, p.y], polygon.vertices)))\n",
    "    p = Polygon(polygon, closed=False, color=color, alpha=0.3, lw=0)\n",
    "    ax.add_patch(p)\n",
    "    ax.axis('equal')\n",
    "    return ax\n",
    "\n",
    "def draw_polygons(polygons, colors=None, verbose=False):\n",
    "    \"\"\"Draw polygons and print the figure\n",
    "    \n",
    "    @param polygons: SimpyPolygon or list(SympyPolygon)\n",
    "    @param colors: colors to match to the polygons\n",
    "    \"\"\"\n",
    "    ax = plt.gca()\n",
    "    if type(polygons) == SympyPolygon:\n",
    "        polygons = [polygons]\n",
    "    if colors is None:\n",
    "        colors = [\"grey\"]*len(polygons)\n",
    "    if len(colors) > 0 and len(colors) < len(polygons):\n",
    "        colors = colors + [colors[-1]] * (len(polygons) - len(colors))\n",
    "    colors.reverse()\n",
    "    \n",
    "    colors = deepcopy(colors)\n",
    "    for polygon in polygons:\n",
    "        color = colors.pop()\n",
    "        if verbose:\n",
    "            print(color, \"Polygon : \", polygon)\n",
    "        ax = draw_polygon(polygon, ax, color=color)\n",
    "    return ax"
   ]
  },
  {
   "cell_type": "code",
   "execution_count": 9,
   "metadata": {},
   "outputs": [],
   "source": [
    "def create_animation(legend, land, log_frames):\n",
    "    fig, ax = plt.subplots()\n",
    "    \n",
    "    ax = draw_polygons([land], colors=[get_color(\"Land\")])\n",
    "    n_frames = len(log_frames)\n",
    "    \n",
    "    def update(i):\n",
    "        log_frame = log_frames[i]\n",
    "\n",
    "        sols = log_frame['polygons']\n",
    "        polygons = [Rectangle(*sol).to_rect() for sol in sols]\n",
    "        ax.clear()\n",
    "        draw_polygons([land]+polygons, colors=[get_color(\"Land\"), get_color(legend)])\n",
    "        ax.set_title(log_frame['title'], fontsize=20)\n",
    "        return fig,\n",
    "\n",
    "    anim = animation.FuncAnimation(fig, update, frames=n_frames, blit=True)\n",
    "    anim = HTML(anim.to_html5_video())\n",
    "    plt.close()\n",
    "    return anim"
   ]
  },
  {
   "cell_type": "code",
   "execution_count": 7,
   "metadata": {},
   "outputs": [
    {
     "name": "stdout",
     "output_type": "stream",
     "text": [
      "33541.019662496845\n",
      "False\n"
     ]
    },
    {
     "data": {
      "image/png": "[encoded data removed]",
      "text/plain": [
       "<Figure size 432x288 with 1 Axes>"
      ]
     },
     "metadata": {
      "needs_background": "light"
     },
     "output_type": "display_data"
    }
   ],
   "source": [
    "if __name__ == \"__main__\":\n",
    "    poly = [[50,150],[200,50],[350,150],[350,300],[250,300],[200,250],[150,350],[100,250],[100,200]]\n",
    "    solution = [100, 100, 200, 50, 300]\n",
    "    rectangle = Rectangle(*solution)\n",
    "    print(rectangle.area())\n",
    "    print(rectangle.is_valid(poly))\n",
    "    draw_polygons([poly, rectangle.to_rect()], colors=[get_color(\"Land\"), get_color(\"Best\")])"
   ]
  }
 ],
 "metadata": {
  "kernelspec": {
   "display_name": "Python 3",
   "language": "python",
   "name": "python3"
  },
  "language_info": {
   "codemirror_mode": {
    "name": "ipython",
    "version": 3
   },
   "file_extension": ".py",
   "mimetype": "text/x-python",
   "name": "python",
   "nbconvert_exporter": "python",
   "pygments_lexer": "ipython3",
   "version": "3.8.3"
  }
 },
 "nbformat": 4,
 "nbformat_minor": 4
}
