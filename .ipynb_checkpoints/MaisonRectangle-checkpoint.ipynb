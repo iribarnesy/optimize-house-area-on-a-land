{
 "cells": [
  {
   "cell_type": "markdown",
   "metadata": {},
   "source": [
    "# Optimisation : Placer la plus grande maison possible dans un terrain"
   ]
  },
  {
   "cell_type": "markdown",
   "metadata": {},
   "source": [
    "- La maison est un rectangle\n",
    "- Le terrain est un polygone quelconque, il peut être convexe ou concave\n",
    "- L'optimisation peut être faite en utilisant les algorithmes PSO, DE ou ABC"
   ]
  },
  {
   "cell_type": "code",
   "execution_count": 1,
   "metadata": {},
   "outputs": [],
   "source": [
    "from sympy.geometry import Point\n",
    "from sympy.geometry import Polygon as SympyPolygon\n",
    "from scipy import *\n",
    "from math import *\n",
    "import sys\n",
    "import numpy as np\n",
    "import matplotlib.pyplot as plt\n",
    "from matplotlib.patches import Polygon\n",
    "import pyclipper\n",
    "import functools\n",
    "\n",
    "from IPython.display import Markdown, display\n",
    "def printmd(string):\n",
    "    display(Markdown(string))"
   ]
  },
  {
   "cell_type": "markdown",
   "metadata": {},
   "source": [
    "## Class and converting functions"
   ]
  },
  {
   "cell_type": "code",
   "execution_count": 2,
   "metadata": {},
   "outputs": [],
   "source": [
    "class Rectangle:\n",
    "    \"\"\"Minimal representation of a rectangle\"\"\"\n",
    "    def __init__(self, point1_x, point1_y, point2_x, point2_y, longueur):\n",
    "        self.point1_x = point1_x\n",
    "        self.point1_y = point1_y\n",
    "        self.point2_x = point2_x\n",
    "        self.point2_y = point2_y\n",
    "        self.longueur = longueur\n",
    "        \n",
    "    def side_length(self):\n",
    "        return dist((self.point1_x, self.point1_y), (self.point2_x, self.point2_y))\n",
    "    \n",
    "    def area(self):\n",
    "        return abs(self.side_length() * self.longueur)\n",
    "    \n",
    "    def to_rect(self, strategy=\"Default\"):\n",
    "        \"\"\"Convert a minimal rectangle to a full rectangle\"\"\"\n",
    "        vect = (self.point2_x - self.point1_x, self.point2_y - self.point1_y)\n",
    "        distance = self.side_length()\n",
    "        vectUnitaire = (vect[0] / distance * self.longueur, vect[1] / distance * self.longueur)\n",
    "        normalVect = (-vectUnitaire[1], vectUnitaire[0])\n",
    "        point1 = (self.point1_x, self.point1_y)\n",
    "        point2 = (self.point2_x, self.point2_y)\n",
    "        point3 = (self.point2_x + normalVect[0], self.point2_y + normalVect[1])\n",
    "        point4 = (self.point1_x + normalVect[0], self.point1_y + normalVect[1])\n",
    "        if strategy == \"Default\":\n",
    "            return [point1, point2, point3, point4]\n",
    "        else:\n",
    "            return SimpyPolygon(point1, point2, point3, point4)\n",
    "      \n",
    "    def is_valid(self, polygon, verbose=False):\n",
    "        \"\"\" Determine if the rectangle is in the polygon\n",
    "\n",
    "        @param polygon: whether a polygon or a list of vertices\n",
    "        \"\"\"\n",
    "        if verbose:\n",
    "            print(\"entrée: est_valide\")\n",
    "            start_time = time.time()\n",
    "        try:\n",
    "            rectangle = self.to_rect()\n",
    "            pc = pyclipper.Pyclipper()\n",
    "            pc.AddPath(polygon, pyclipper.PT_CLIP, True)\n",
    "            pc.AddPath(rectangle, pyclipper.PT_SUBJECT, True)\n",
    "\n",
    "            intersections = pc.Execute(pyclipper.CT_INTERSECTION, pyclipper.PFT_EVENODD, pyclipper.PFT_EVENODD)\n",
    "\n",
    "            res = (intersections != []) and (len(intersections[0]) == len(rectangle)) and np.all([vertice_in_polygon(v, intersections[0]) for v in rectangle]) \n",
    "            if verbose:\n",
    "                print(\"--- %s seconds ---\" % (time.time() - start_time))\n",
    "            return res\n",
    "        except pyclipper.ClipperException:\n",
    "            print(\"Clipper exception\")\n",
    "            return False"
   ]
  },
  {
   "cell_type": "markdown",
   "metadata": {},
   "source": [
    "### Util functions"
   ]
  },
  {
   "cell_type": "code",
   "execution_count": 3,
   "metadata": {},
   "outputs": [],
   "source": [
    "def vertice_in_polygon(vertice, polygon):\n",
    "    \"\"\" Determine if the vertice is in the polygon\n",
    "    Not a strict check because of the pyclipper library in which\n",
    "    the coordinates are floored.\n",
    "    \"\"\"\n",
    "    x, y = vertice\n",
    "    x, y = int(x), int(y)\n",
    "    return [x,y] in polygon"
   ]
  },
  {
   "cell_type": "markdown",
   "metadata": {},
   "source": [
    "## Drawing functions"
   ]
  },
  {
   "cell_type": "code",
   "execution_count": 4,
   "metadata": {},
   "outputs": [],
   "source": [
    "def draw_polygon(polygon, ax=None, color=\"green\"):\n",
    "    \"\"\"Draw a polygon over an axis (not shown directly)\n",
    "    \n",
    "    @param polygon: Whether a polygon or a path\n",
    "    \"\"\"\n",
    "    if ax is None:\n",
    "        ax = plt.gca()\n",
    "    if type(polygon) == SympyPolygon:\n",
    "        polygon = np.array(list(map(lambda p: [p.x, p.y], polygon.vertices)))\n",
    "    p = Polygon(polygon, closed=False, color=color, alpha=0.3, lw=0)\n",
    "    ax.add_patch(p)\n",
    "    ax.axis('equal')\n",
    "    return ax\n",
    "\n",
    "def draw_polygons(polygons, colors=None, verbose=False):\n",
    "    \"\"\"Draw polygons and print the figure\n",
    "    \n",
    "    @param polygons: SimpyPolygon or list(SimpyPolygon)\n",
    "    @param colors: colors to match to the polygons\n",
    "    \"\"\"\n",
    "    ax = plt.gca()\n",
    "    if type(polygons) == SympyPolygon:\n",
    "        polygons = [polygons]\n",
    "    if colors is None:\n",
    "        colors = [\"grey\"]*len(polygons)\n",
    "    if len(colors) > 0 and len(colors) < len(polygons):\n",
    "        colors = colors + [colors[-1]] * (len(polygons) - len(colors))\n",
    "    colors.reverse()\n",
    "    \n",
    "    for polygon in polygons:\n",
    "        color = colors.pop()\n",
    "        if verbose:\n",
    "            print(color, \"Polygon : \", polygon)\n",
    "        ax = draw_polygon(polygon, ax, color=color)\n",
    "    plt.show()"
   ]
  },
  {
   "cell_type": "markdown",
   "metadata": {},
   "source": [
    "## Lambda functions to use in the calls"
   ]
  },
  {
   "cell_type": "markdown",
   "metadata": {},
   "source": [
    "### Logger function"
   ]
  },
  {
   "cell_type": "code",
   "execution_count": 5,
   "metadata": {},
   "outputs": [],
   "source": [
    "def log_polygons(land, sols, colors=[\"green\", \"brown\"], legend=\"Best\", padding=1, iteration=0):\n",
    "    if (iteration % padding == 0):\n",
    "        sols = list(sols) if type(sols) == map else [sols]\n",
    "        legend_text = \" : \" + legend if legend is not None else \"\"\n",
    "        printmd(\"### Itération \"+str(iteration)+legend_text)\n",
    "        polygons = [land]+[Rectangle(*sol).to_rect() for sol in sols]\n",
    "        draw_polygons(polygons, colors)"
   ]
  },
  {
   "cell_type": "markdown",
   "metadata": {},
   "source": [
    "### Bornage function"
   ]
  },
  {
   "cell_type": "code",
   "execution_count": 6,
   "metadata": {},
   "outputs": [],
   "source": [
    "def polygon_bounding(sol, land_polygon, verbose=False):\n",
    "    if verbose:\n",
    "        print(\"entrée: polygon_bornage\")\n",
    "    solution = Rectangle(*sol)\n",
    "    if solution.is_valid(land_polygon):\n",
    "        if verbose:\n",
    "            print(sol)\n",
    "            printmd(\"## Est valide\")\n",
    "        return sol \n",
    "    else:\n",
    "        if verbose:\n",
    "            print(\"this one is invalid\")\n",
    "        # print(sol)\n",
    "        raise ValueError(\"Solution invalide par contrainte de bornage\")"
   ]
  },
  {
   "cell_type": "markdown",
   "metadata": {},
   "source": [
    "## Initialization function"
   ]
  },
  {
   "cell_type": "code",
   "execution_count": 7,
   "metadata": {},
   "outputs": [],
   "source": [
    "from sympy import Symbol\n",
    "def pick_random_sol(land, size=1, delta=0.05, stochastic=False):\n",
    "    t = Symbol('t', real=True)\n",
    "    p = SympyPolygon(*land).arbitrary_point('t')\n",
    "    if stochastic:\n",
    "        picks = sorted([random.rand() for i in range(size*2)])\n",
    "    else:\n",
    "        picks = np.linspace(0, 1, size*2+1)\n",
    "    points_on_perimeter = [p.subs(t, pick) for pick in picks]\n",
    "    sols = [[points_on_perimeter[i*2].x, points_on_perimeter[i*2].y, points_on_perimeter[i*2+1].x, points_on_perimeter[i*2+1].y, -10-delta*2000*random.rand()] for i in range(size)]\n",
    "    for sol in sols:\n",
    "        while not Rectangle(*sol).is_valid(land):\n",
    "            sol[4] = sol[4] / 2\n",
    "    return sols"
   ]
  },
  {
   "cell_type": "markdown",
   "metadata": {},
   "source": [
    "# Main"
   ]
  },
  {
   "cell_type": "code",
   "execution_count": 8,
   "metadata": {},
   "outputs": [
    {
     "data": {
      "image/png": "[encoded data removed]",
      "text/plain": [
       "<Figure size 432x288 with 1 Axes>"
      ]
     },
     "metadata": {
      "needs_background": "light"
     },
     "output_type": "display_data"
    },
    {
     "data": {
      "text/markdown": [
       "### Validité : C'est bon ça passe"
      ],
      "text/plain": [
       "<IPython.core.display.Markdown object>"
      ]
     },
     "metadata": {},
     "output_type": "display_data"
    },
    {
     "data": {
      "text/markdown": [
       "### L'aire de la maison est de **1791** m² sur 10500 m² possible\n",
       "\n"
      ],
      "text/plain": [
       "<IPython.core.display.Markdown object>"
      ]
     },
     "metadata": {},
     "output_type": "display_data"
    }
   ],
   "source": [
    "house = Rectangle(12, 66, 38, 37, 46)\n",
    "land = [(0,0), (0,100), (100,100), (110, 50), (100, 0)]\n",
    "\n",
    "# draw the situation\n",
    "draw_polygons([land, house.to_rect()], colors=[\"green\", \"brown\"], verbose=False)\n",
    "\n",
    "# determine if the house is well placed over the land\n",
    "res = house.is_valid(land)\n",
    "printmd(\"### Validité : C'est bon ça passe\" if res else \"### Validité : Noooooooon, construction incorrecte\")\n",
    "printmd(f\"### L'aire de la maison est de **{int(house.area())}** m² sur {abs(SympyPolygon(*land).area)} m² possible\\n\\n\")"
   ]
  },
  {
   "cell_type": "code",
   "execution_count": 9,
   "metadata": {},
   "outputs": [],
   "source": [
    "from ipynb.fs.full.PSO import fit as PSO_fit"
   ]
  },
  {
   "cell_type": "code",
   "execution_count": 11,
   "metadata": {},
   "outputs": [
    {
     "data": {
      "text/markdown": [
       "### Itération 0 : Initialization"
      ],
      "text/plain": [
       "<IPython.core.display.Markdown object>"
      ]
     },
     "metadata": {},
     "output_type": "display_data"
    },
    {
     "data": {
      "image/png": "[encoded data removed]",
      "text/plain": [
       "<Figure size 432x288 with 1 Axes>"
      ]
     },
     "metadata": {
      "needs_background": "light"
     },
     "output_type": "display_data"
    },
    {
     "name": "stderr",
     "output_type": "stream",
     "text": [
      " 20%|██        | 4/20 [00:11<00:44,  2.77s/it]"
     ]
    },
    {
     "data": {
      "text/markdown": [
       "### Itération 5 : Swarm"
      ],
      "text/plain": [
       "<IPython.core.display.Markdown object>"
      ]
     },
     "metadata": {},
     "output_type": "display_data"
    },
    {
     "data": {
      "image/png": "[encoded data removed]",
      "text/plain": [
       "<Figure size 432x288 with 1 Axes>"
      ]
     },
     "metadata": {
      "needs_background": "light"
     },
     "output_type": "display_data"
    },
    {
     "data": {
      "text/markdown": [
       "### Itération 5 : Best = **1091**"
      ],
      "text/plain": [
       "<IPython.core.display.Markdown object>"
      ]
     },
     "metadata": {},
     "output_type": "display_data"
    },
    {
     "data": {
      "image/png": "[encoded data removed]",
      "text/plain": [
       "<Figure size 432x288 with 1 Axes>"
      ]
     },
     "metadata": {
      "needs_background": "light"
     },
     "output_type": "display_data"
    },
    {
     "name": "stderr",
     "output_type": "stream",
     "text": [
      " 45%|████▌     | 9/20 [00:26<00:32,  3.00s/it]"
     ]
    },
    {
     "data": {
      "text/markdown": [
       "### Itération 10 : Swarm"
      ],
      "text/plain": [
       "<IPython.core.display.Markdown object>"
      ]
     },
     "metadata": {},
     "output_type": "display_data"
    },
    {
     "data": {
      "image/png": "[encoded data removed]",
      "text/plain": [
       "<Figure size 432x288 with 1 Axes>"
      ]
     },
     "metadata": {
      "needs_background": "light"
     },
     "output_type": "display_data"
    },
    {
     "data": {
      "text/markdown": [
       "### Itération 10 : Best = **1091**"
      ],
      "text/plain": [
       "<IPython.core.display.Markdown object>"
      ]
     },
     "metadata": {},
     "output_type": "display_data"
    },
    {
     "data": {
      "image/png": "[encoded data removed]",
      "text/plain": [
       "<Figure size 432x288 with 1 Axes>"
      ]
     },
     "metadata": {
      "needs_background": "light"
     },
     "output_type": "display_data"
    },
    {
     "name": "stderr",
     "output_type": "stream",
     "text": [
      " 70%|███████   | 14/20 [00:40<00:16,  2.82s/it]"
     ]
    },
    {
     "data": {
      "text/markdown": [
       "### Itération 15 : Swarm"
      ],
      "text/plain": [
       "<IPython.core.display.Markdown object>"
      ]
     },
     "metadata": {},
     "output_type": "display_data"
    },
    {
     "data": {
      "image/png": "[encoded data removed]",
      "text/plain": [
       "<Figure size 432x288 with 1 Axes>"
      ]
     },
     "metadata": {
      "needs_background": "light"
     },
     "output_type": "display_data"
    },
    {
     "data": {
      "text/markdown": [
       "### Itération 15 : Best = **1091**"
      ],
      "text/plain": [
       "<IPython.core.display.Markdown object>"
      ]
     },
     "metadata": {},
     "output_type": "display_data"
    },
    {
     "data": {
      "image/png": "[encoded data removed]",
      "text/plain": [
       "<Figure size 432x288 with 1 Axes>"
      ]
     },
     "metadata": {
      "needs_background": "light"
     },
     "output_type": "display_data"
    },
    {
     "name": "stderr",
     "output_type": "stream",
     "text": [
      " 95%|█████████▌| 19/20 [00:55<00:02,  2.91s/it]"
     ]
    },
    {
     "data": {
      "text/markdown": [
       "### Itération 20 : Swarm"
      ],
      "text/plain": [
       "<IPython.core.display.Markdown object>"
      ]
     },
     "metadata": {},
     "output_type": "display_data"
    },
    {
     "data": {
      "image/png": "[encoded data removed]",
      "text/plain": [
       "<Figure size 432x288 with 1 Axes>"
      ]
     },
     "metadata": {
      "needs_background": "light"
     },
     "output_type": "display_data"
    },
    {
     "data": {
      "text/markdown": [
       "### Itération 20 : Best = **1091**"
      ],
      "text/plain": [
       "<IPython.core.display.Markdown object>"
      ]
     },
     "metadata": {},
     "output_type": "display_data"
    },
    {
     "data": {
      "image/png": "[encoded data removed]",
      "text/plain": [
       "<Figure size 432x288 with 1 Axes>"
      ]
     },
     "metadata": {
      "needs_background": "light"
     },
     "output_type": "display_data"
    },
    {
     "name": "stderr",
     "output_type": "stream",
     "text": [
      "100%|██████████| 20/20 [00:59<00:00,  2.97s/it]\n"
     ]
    },
    {
     "data": {
      "text/markdown": [
       "### Itération 20 : Best final = **1091**"
      ],
      "text/plain": [
       "<IPython.core.display.Markdown object>"
      ]
     },
     "metadata": {},
     "output_type": "display_data"
    },
    {
     "data": {
      "image/png": "[encoded data removed]",
      "text/plain": [
       "<Figure size 432x288 with 1 Axes>"
      ]
     },
     "metadata": {
      "needs_background": "light"
     },
     "output_type": "display_data"
    }
   ],
   "source": [
    "dim = 5\n",
    "nb_particle = 20\n",
    "nb_cycles = 20\n",
    "psi, cmax = 0.7, 1.47\n",
    "\n",
    "log_padding = 5\n",
    "\n",
    "eval_function = lambda x: Rectangle(*x).area()\n",
    "bounding_function = lambda x: polygon_bounding(x, land)\n",
    "log_function = lambda x,it=0,legend=None,padding=log_padding,colors=[\"green\", \"red\"]:log_polygons(land, x, colors, legend, padding, it)\n",
    "init_function = lambda nb: pick_random_sol(land, nb)\n",
    "isbetter_function = lambda f1, f2: f1 > f2\n",
    "\n",
    "PSO_fit(eval_function=eval_function, \n",
    "    bounding_function=bounding_function, \n",
    "    log_function=log_function,\n",
    "    init_function=init_function,\n",
    "    isbetter_function=isbetter_function,\n",
    "    nb_particle=nb_particle, \n",
    "    dim=dim, \n",
    "    nb_cycles=nb_cycles,\n",
    "    psi=psi,\n",
    "    cmax=cmax)"
   ]
  }
 ],
 "metadata": {
  "kernelspec": {
   "display_name": "Python 3",
   "language": "python",
   "name": "python3"
  },
  "language_info": {
   "codemirror_mode": {
    "name": "ipython",
    "version": 3
   },
   "file_extension": ".py",
   "mimetype": "text/x-python",
   "name": "python",
   "nbconvert_exporter": "python",
   "pygments_lexer": "ipython3",
   "version": "3.8.3"
  }
 },
 "nbformat": 4,
 "nbformat_minor": 4
}
