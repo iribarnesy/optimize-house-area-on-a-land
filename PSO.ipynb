{
 "cells": [
  {
   "cell_type": "markdown",
   "metadata": {},
   "source": [
    "# PSO algorithm implementation\n",
    "Enough generic to be used with a lot of optimization problems\n",
    "\n",
    "You can pass the evaluation, bounding, initialization and logger functions to the fit method "
   ]
  },
  {
   "cell_type": "code",
   "execution_count": 1,
   "metadata": {},
   "outputs": [],
   "source": [
    "# Some libraries\n",
    "from scipy import *\n",
    "from math import *\n",
    "from matplotlib.pyplot import *\n",
    "from functools import *\n",
    "import sys\n",
    "from tqdm import tqdm\n",
    "import time\n",
    "\n",
    "from IPython.display import Markdown, display\n",
    "def printmd(string):\n",
    "    display(Markdown(string))"
   ]
  },
  {
   "cell_type": "markdown",
   "metadata": {},
   "source": [
    "## Initialization"
   ]
  },
  {
   "cell_type": "code",
   "execution_count": 2,
   "metadata": {},
   "outputs": [],
   "source": [
    "def initSwarm(nb,dim,eval_func,init_function):\n",
    "    positions = init_function()\n",
    "    fits = [eval_func(pos) for pos in positions]\n",
    "    return [{'vit':[0]*dim, 'pos':positions[i], 'fit':fits[i], 'bestpos':positions[i], 'bestfit':fits[i], 'bestvois':[]} for i in range(nb)]"
   ]
  },
  {
   "cell_type": "code",
   "execution_count": 3,
   "metadata": {},
   "outputs": [],
   "source": [
    "# Return the particle with the best fitness\n",
    "def maxParticle(p1,p2,isbetter_func):\n",
    "    if isbetter_func(p1[\"fit\"], p2[\"fit\"]):\n",
    "        return p1 \n",
    "    else:\n",
    "        return p2\n",
    "\n",
    "# Returns a copy of the particle with the best fitness in the population\n",
    "def getBest(swarm,isbetter_func):\n",
    "    return dict(reduce(lambda acc, e: maxParticle(acc,e,isbetter_func),swarm[1:],swarm[0]))"
   ]
  },
  {
   "cell_type": "code",
   "execution_count": 4,
   "metadata": {},
   "outputs": [],
   "source": [
    "# Update information for the particles of the population (swarm)\n",
    "def update(particle,bestParticle,isbetter_func):\n",
    "    nv = dict(particle)\n",
    "    if isbetter_func(particle[\"fit\"],particle[\"bestfit\"]):\n",
    "        nv['bestpos'] = particle[\"pos\"][:]\n",
    "        nv['bestfit'] = particle[\"fit\"]\n",
    "    nv['bestvois'] = bestParticle[\"bestpos\"][:]\n",
    "    return nv\n",
    "\n",
    "# Calculate the velocity and move a particule\n",
    "def move(particle, dim, eval_function, bounding_function, psi, cmax):\n",
    "    nv = dict(particle)\n",
    "\n",
    "    velocity = [0]*dim\n",
    "    for i in range(dim):\n",
    "        velocity[i] = (particle[\"vit\"][i]*psi + \\\n",
    "        cmax*random.uniform()*(particle[\"bestpos\"][i] - particle[\"pos\"][i]) + \\\n",
    "        cmax*random.uniform()*(particle[\"bestvois\"][i] - particle[\"pos\"][i]))\n",
    "\n",
    "    new_pos = [particle[\"pos\"][i] + velocity[i] for i in range(dim)]\n",
    "    \n",
    "    start_time = time.time()\n",
    "    try:\n",
    "        position = bounding_function(new_pos)   \n",
    "    except ValueError:\n",
    "        position = particle[\"pos\"]\n",
    "\n",
    "    nv['vit'] = velocity\n",
    "    nv['pos'] = position\n",
    "    nv['fit'] = eval_function(position)\n",
    "    return nv"
   ]
  },
  {
   "cell_type": "code",
   "execution_count": 5,
   "metadata": {},
   "outputs": [],
   "source": [
    "# MAIN LOOP\n",
    "def fit(eval_function, \n",
    "        bounding_function,\n",
    "        init_function,\n",
    "        isbetter_function,\n",
    "        nb_particle, \n",
    "        dim, \n",
    "        nb_cycles, \n",
    "        psi=0.7,\n",
    "        cmax=1.47,\n",
    "        log_function=print,\n",
    "        log_initialization=False):\n",
    "    Htemps = []       # temps\n",
    "    Hbest = []        # distance\n",
    "\n",
    "    # initialization of the population\n",
    "    swarm = initSwarm(nb_particle,dim,eval_func=eval_function,init_function=init_function)\n",
    "    if log_initialization:\n",
    "        log_function(map(lambda s: s[\"pos\"], swarm), colors=[\"green\", \"purple\"], legend=\"PSO - Initialization\", padding=1)\n",
    "    # initialization of the best solution\n",
    "    best = getBest(swarm, isbetter_function)\n",
    "    best_cycle = best\n",
    "\n",
    "    for i in tqdm(range(nb_cycles)):\n",
    "        #Update informations\n",
    "        swarm = [update(e,best_cycle,isbetter_function) for e in swarm]\n",
    "        # velocity calculations and displacement\n",
    "        swarm = [move(particle=e, dim=dim, psi=psi, cmax=cmax, eval_function=eval_function, bounding_function=bounding_function) for e in swarm]\n",
    "        log_function(map(lambda s: s[\"pos\"], swarm), colors=[\"green\", \"purple\"], legend=\"PSO - Swarm\", it=i+1)\n",
    "        # Update of the best solution\n",
    "        best_cycle = getBest(swarm, isbetter_function)\n",
    "        if isbetter_function(best_cycle[\"bestfit\"],best[\"bestfit\"]):\n",
    "            best = best_cycle\n",
    "            # draw(best['pos'], best['fit'])\n",
    "\n",
    "        # historization of data\n",
    "        log_function(best['bestpos'], legend=\"PSO - Best\", text=f\"{int(best['bestfit'])}\", colors=[\"green\", \"blue\"], it=i+1, fitness=best['bestfit'])\n",
    "\n",
    "    #displaying result on the console\n",
    "    log_function(best['bestpos'], legend=\"PSO - Best final\", text=f\"{int(best['bestfit'])}\", colors=[\"green\", \"blue\"], it=nb_cycles, fitness=best['bestfit'])\n",
    "    return best"
   ]
  },
  {
   "cell_type": "markdown",
   "metadata": {},
   "source": [
    "## Main test"
   ]
  },
  {
   "cell_type": "code",
   "execution_count": 7,
   "metadata": {},
   "outputs": [
    {
     "name": "stderr",
     "output_type": "stream",
     "text": [
      " 43%|████▎     | 856/2000 [00:00<00:00, 2121.75it/s]"
     ]
    },
    {
     "data": {
      "text/markdown": [
       "### Itération 1000 : Best"
      ],
      "text/plain": [
       "<IPython.core.display.Markdown object>"
      ]
     },
     "metadata": {},
     "output_type": "display_data"
    },
    {
     "name": "stderr",
     "output_type": "stream",
     "text": [
      " 75%|███████▌  | 1501/2000 [00:00<00:00, 2139.55it/s]"
     ]
    },
    {
     "name": "stdout",
     "output_type": "stream",
     "text": [
      "[7.757530459705862e-18, -9.173832217713878e-18, -5.015887600967483e-18, 6.236171331127854e-18, -5.841458945762562e-18]\n"
     ]
    },
    {
     "name": "stderr",
     "output_type": "stream",
     "text": [
      " 96%|█████████▋| 1930/2000 [00:00<00:00, 2141.43it/s]"
     ]
    },
    {
     "data": {
      "text/markdown": [
       "### Itération 2000 : Best"
      ],
      "text/plain": [
       "<IPython.core.display.Markdown object>"
      ]
     },
     "metadata": {},
     "output_type": "display_data"
    },
    {
     "name": "stderr",
     "output_type": "stream",
     "text": [
      "100%|██████████| 2000/2000 [00:00<00:00, 2137.62it/s]"
     ]
    },
    {
     "name": "stdout",
     "output_type": "stream",
     "text": [
      "[1.9680723496305343e-37, 2.7257310658443266e-37, 1.3161891808170876e-36, -2.055463825865009e-37, -3.4395822943694714e-37]\n"
     ]
    },
    {
     "name": "stderr",
     "output_type": "stream",
     "text": [
      "\n"
     ]
    },
    {
     "data": {
      "text/markdown": [
       "### Itération 2000 : Best final"
      ],
      "text/plain": [
       "<IPython.core.display.Markdown object>"
      ]
     },
     "metadata": {},
     "output_type": "display_data"
    },
    {
     "name": "stdout",
     "output_type": "stream",
     "text": [
      "[1.9680723496305343e-37, 2.7257310658443266e-37, 1.3161891808170876e-36, -2.055463825865009e-37, -3.4395822943694714e-37]\n"
     ]
    }
   ],
   "source": [
    "if __name__ == '__main__':\n",
    "    def sol_bounding(sol, inf, sup):\n",
    "        return [min (sup, max (inf, dim_val)) for dim_val in sol]\n",
    "    \n",
    "    def logger_function(sol, it, legend, padding, **kwargs):\n",
    "        if (it % padding == 0):\n",
    "            if (legend.startswith(\"Best\")):\n",
    "                printmd(f\"### Itération {it} : {legend}\")\n",
    "                print(list(sol))\n",
    "    \n",
    "    def initOne(dim,inf,sup,eval_function):\n",
    "        pos = [random.uniform(inf, sup) for i in range(dim)]\n",
    "        return pos\n",
    "\n",
    "    def initialization_function(nb,dim,inf,sup,eval_function):\n",
    "        return [initOne(dim,inf,sup,eval_function) for i in range(nb)]\n",
    "    \n",
    "    def compare_fitness(f1, f2):\n",
    "        # Minimize or maximize\n",
    "        return f1 < f2\n",
    "\n",
    "    dim = 5\n",
    "    inf, sup = -50, 50\n",
    "    nb_particle = 20\n",
    "    nb_cycles = 2000\n",
    "    psi, cmax = 0.7, 1.47\n",
    "    \n",
    "    log_padding = 1000\n",
    "    \n",
    "    eval_function = lambda x: reduce(lambda acc,e:acc+e*e,x,0) # sphere\n",
    "    bounding_function = lambda x: sol_bounding(x, inf=inf, sup=sup)\n",
    "    log_function = lambda x,it=0,legend=None,padding=log_padding,**kwargs:logger_function(x, it, legend, padding, **kwargs)\n",
    "    init_function = lambda: initialization_function(nb_particle,dim,inf,sup,eval_function)\n",
    "    isbetter_function = compare_fitness\n",
    "                  \n",
    "    fit(eval_function=eval_function, \n",
    "        bounding_function=bounding_function, \n",
    "        log_function=log_function,\n",
    "        init_function=init_function,\n",
    "        isbetter_function=isbetter_function,\n",
    "        nb_particle=nb_particle, \n",
    "        dim=dim, \n",
    "        nb_cycles=nb_cycles,\n",
    "        psi=psi,\n",
    "        cmax=cmax)"
   ]
  }
 ],
 "metadata": {
  "kernelspec": {
   "display_name": "Python 3",
   "language": "python",
   "name": "python3"
  },
  "language_info": {
   "codemirror_mode": {
    "name": "ipython",
    "version": 3
   },
   "file_extension": ".py",
   "mimetype": "text/x-python",
   "name": "python",
   "nbconvert_exporter": "python",
   "pygments_lexer": "ipython3",
   "version": "3.8.3"
  }
 },
 "nbformat": 4,
 "nbformat_minor": 4
}
