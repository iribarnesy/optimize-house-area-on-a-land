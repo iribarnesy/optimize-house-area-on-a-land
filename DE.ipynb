{
 "cells": [
  {
   "cell_type": "code",
   "execution_count": 1,
   "metadata": {},
   "outputs": [],
   "source": [
    "from functools import *\n",
    "from scipy import *\n",
    "from math import *\n",
    "import sys\n",
    "import random"
   ]
  },
  {
   "cell_type": "code",
   "execution_count": 2,
   "metadata": {},
   "outputs": [],
   "source": [
    "# DE configuration\n",
    "DIMENSION = 2\n",
    "LOWER_BOUND = -500\n",
    "UPPER_BOUND = 500\n",
    "CYCLES = 5000\n",
    "POP_SIZE = 50\n",
    "CR, F = (0.9, 0.8)\n",
    "\n",
    "# evaluation function\n",
    "def sphere(x):\n",
    "    return reduce(lambda acc,e: acc + e * e, x, 0)\n",
    "\n",
    "def griewank(sol):\n",
    "    (s,p,i) = reduce(lambda acc,e: (acc[0] + e * e, acc[1] * cos(e / sqrt(acc[2])), acc[2] + 1), sol, (0,1,1))\n",
    "    return s / 4000\n",
    "\n",
    "def schwefel(sol):\n",
    "    return reduce(lambda acc,e: acc - e * sin(sqrt(abs(e))), sol, 418.9829 * DIMENSION)\n",
    "\n",
    "def eval(x):\n",
    "    return schwefel(x)"
   ]
  },
  {
   "cell_type": "code",
   "execution_count": 3,
   "metadata": {},
   "outputs": [],
   "source": [
    "# population initialisation function\n",
    "def init_population(dim, inf, sup, n):\n",
    "    population = []\n",
    "    for n in range(n):\n",
    "        pos = [random.uniform(inf, sup) for i in range(dim)]\n",
    "        fit = eval(pos)\n",
    "        population.append({'pos': pos, 'fit': fit})\n",
    "    return population\n",
    "\n",
    "def get_best_agent(population):\n",
    "    best_agent = population[0]\n",
    "    for agent in population[1:]:\n",
    "        if agent['fit'] < best_agent['fit']:\n",
    "            best_agent = agent\n",
    "    return dict(best_agent)\n",
    "\n",
    "def update_agent(population, agent):\n",
    "    new_agent = dict(agent)\n",
    "    dim = len(new_agent[\"pos\"])\n",
    "    \n",
    "    temp_population = list(filter(lambda a: a is not agent, population))\n",
    "    # random selection of 3 individuals, distincts of themselves and of the currently concerned agent\n",
    "    a,b,c = random.choices(temp_population, k=3)\n",
    "    # ensured component heritance (index)\n",
    "    index = random.choice(list(range(dim))) \n",
    "    \n",
    "    new_pos = [0] * dim\n",
    "    for i in range(dim):\n",
    "        ri = random.uniform(0,1)\n",
    "        if ri < CR or i == index: # second condition to ensure that at least one component of the vector is herited\n",
    "            new_pos[i] = bornage(\n",
    "                a['pos'][i] + F * (b['pos'][i] - c['pos'][i]), LOWER_BOUND, UPPER_BOUND)\n",
    "        else:\n",
    "            new_pos[i] = new_agent['pos'][i]\n",
    "    new_eval = eval(new_pos)\n",
    "    if new_eval <= new_agent['fit']:\n",
    "        new_agent['pos'] = new_pos[:]\n",
    "        new_agent['fit'] = new_eval\n",
    "    \n",
    "    return new_agent\n",
    "\n",
    "def bornage(val, inf, sup):\n",
    "    return min (sup, max (inf, val))\n",
    "\n",
    "def display_result(best_agent):\n",
    "    print(\"point = {}\".format(best_agent['pos']))\n",
    "    print(\"eval = {}\".format(best_agent['fit']))"
   ]
  },
  {
   "cell_type": "code",
   "execution_count": 4,
   "metadata": {},
   "outputs": [
    {
     "name": "stdout",
     "output_type": "stream",
     "text": [
      "point = [420.9687465083046, 420.968746689436]\n",
      "eval = 2.5455132345086895e-05\n"
     ]
    }
   ],
   "source": [
    "population = init_population(DIMENSION, LOWER_BOUND, UPPER_BOUND, POP_SIZE)\n",
    "best_global = get_best_agent(population)\n",
    "best_local = best_global\n",
    "\n",
    "for i in range(CYCLES):\n",
    "    population = [update_agent(population, agent) for agent in population]\n",
    "    best_local = get_best_agent(population)\n",
    "    if (best_local[\"fit\"] < best_global[\"fit\"]):\n",
    "        best_global = best_local\n",
    "display_result(best_global)"
   ]
  },
  {
   "cell_type": "code",
   "execution_count": null,
   "metadata": {},
   "outputs": [],
   "source": []
  }
 ],
 "metadata": {
  "kernelspec": {
   "display_name": "Python 3",
   "language": "python",
   "name": "python3"
  },
  "language_info": {
   "codemirror_mode": {
    "name": "ipython",
    "version": 3
   },
   "file_extension": ".py",
   "mimetype": "text/x-python",
   "name": "python",
   "nbconvert_exporter": "python",
   "pygments_lexer": "ipython3",
   "version": "3.8.3"
  }
 },
 "nbformat": 4,
 "nbformat_minor": 4
}
