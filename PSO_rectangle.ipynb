{
 "cells": [
  {
   "cell_type": "code",
   "execution_count": 2,
   "metadata": {},
   "outputs": [],
   "source": [
    "# Some libraries\n",
    "from scipy import *\n",
    "from math import *\n",
    "from matplotlib.pyplot import *\n",
    "from functools import *\n",
    "import sys\n",
    "from tqdm import tqdm\n",
    "import time"
   ]
  },
  {
   "cell_type": "code",
   "execution_count": 3,
   "metadata": {},
   "outputs": [],
   "source": [
    "from sympy.geometry import Point\n",
    "from sympy.geometry import Polygon as SimpyPolygon\n",
    "import math\n",
    "import sys\n",
    "import numpy as np\n",
    "import matplotlib.pyplot as plt\n",
    "from matplotlib.patches import Polygon\n",
    "import pyclipper\n",
    "import functools\n",
    "\n",
    "from IPython.display import Markdown, display\n",
    "def printmd(string):\n",
    "    display(Markdown(string))"
   ]
  },
  {
   "cell_type": "markdown",
   "metadata": {},
   "source": [
    "## Class and converting functions"
   ]
  },
  {
   "cell_type": "code",
   "execution_count": 5,
   "metadata": {},
   "outputs": [],
   "source": [
    "class Rectangle:\n",
    "    \"\"\"Minimal representation of a rectangle\"\"\"\n",
    "    def __init__(self, point1_x, point1_y, point2_x, point2_y, longueur):\n",
    "        self.point1_x = point1_x\n",
    "        self.point1_y = point1_y\n",
    "        self.point2_x = point2_x\n",
    "        self.point2_y = point2_y\n",
    "        self.longueur = longueur\n",
    "        \n",
    "    def side_length(self):\n",
    "        return dist((self.point1_x, self.point1_y), (self.point2_x, self.point2_y))\n",
    "    \n",
    "    def area(self):\n",
    "        return abs(self.side_length() * self.longueur)\n",
    "    \n",
    "    def to_rect(self, strategy=\"Default\"):\n",
    "        \"\"\"Convert a minimal rectangle to a full rectangle\"\"\"\n",
    "        vect = (self.point2_x - self.point1_x, self.point2_y - self.point1_y)\n",
    "        distance = self.side_length()\n",
    "        vectUnitaire = (vect[0] / distance * self.longueur, vect[1] / distance * self.longueur)\n",
    "        normalVect = (-vectUnitaire[1], vectUnitaire[0])\n",
    "        point1 = (self.point1_x, self.point1_y)\n",
    "        point2 = (self.point2_x, self.point2_y)\n",
    "        point3 = (self.point2_x + normalVect[0], self.point2_y + normalVect[1])\n",
    "        point4 = (self.point1_x + normalVect[0], self.point1_y + normalVect[1])\n",
    "        if strategy == \"Default\":\n",
    "            return [point1, point2, point3, point4]\n",
    "        else:\n",
    "            return SimpyPolygon(point1, point2, point3, point4)\n",
    "   \n",
    "    def is_valid(self, polygon, verbose=False):\n",
    "        \"\"\" Determine if the rectangle is in the polygon\n",
    "\n",
    "        @param polygon: whether a polygon or a list of vertices\n",
    "        \"\"\"\n",
    "        if verbose:\n",
    "            print(\"entrée: est_valide\")\n",
    "            start_time = time.time()\n",
    "        try:\n",
    "            rectangle = self.to_rect()\n",
    "            pc = pyclipper.Pyclipper()\n",
    "            pc.AddPath(polygon, pyclipper.PT_CLIP, True)\n",
    "            pc.AddPath(rectangle, pyclipper.PT_SUBJECT, True)\n",
    "\n",
    "            intersections = pc.Execute(pyclipper.CT_INTERSECTION, pyclipper.PFT_EVENODD, pyclipper.PFT_EVENODD)\n",
    "\n",
    "            res = (intersections != []) and (len(intersections[0]) == len(rectangle)) and np.all([vertice_in_polygon(v, intersections[0]) for v in rectangle]) \n",
    "            if verbose:\n",
    "                print(\"--- %s seconds ---\" % (time.time() - start_time))\n",
    "            return res\n",
    "        except pyclipper.ClipperException:\n",
    "            print(\"Clipper exception\")\n",
    "            return False"
   ]
  },
  {
   "cell_type": "code",
   "execution_count": 6,
   "metadata": {},
   "outputs": [],
   "source": [
    "def vertice_in_polygon(vertice, polygon):\n",
    "    \"\"\" Determine if the vertice is in the polygon\n",
    "    Not a strict check because of the pyclipper library in which\n",
    "    the coordinates are floored.\n",
    "    \"\"\"\n",
    "    x, y = vertice\n",
    "    x, y = int(x), int(y)\n",
    "    return [x,y] in polygon"
   ]
  },
  {
   "cell_type": "code",
   "execution_count": 7,
   "metadata": {},
   "outputs": [],
   "source": [
    "def isValid_Nico(polygon, sol):\n",
    "    x1, y1, x2, y2, length = sol\n",
    "    SIZE=1\n",
    "    if(dist((x1, y1), (x2, y2)) >= SIZE and abs(length) >= SIZE):\n",
    "        rectangle = sol2rect(sol)\n",
    "        \n",
    "        # test intersection\n",
    "        pc = pyclipper.Pyclipper()\n",
    "        pc.AddPath(polygon, pyclipper.PT_CLIP, True)\n",
    "        try:\n",
    "            pc.AddPath(rectangle, pyclipper.PT_SUBJECT, True)\n",
    "        except:\n",
    "            print(\"rectangle invalide \", rectangle)\n",
    "        intersect = pc.Execute(pyclipper.CT_INTERSECTION, pyclipper.PFT_EVENODD, pyclipper.PFT_EVENODD)\n",
    "        \n",
    "        if len(intersect) > 0:\n",
    "            return sorted(intersect[0]) == sorted([[int(x), int(y)] for [x,y] in rectangle])\n",
    "    \n",
    "    return False"
   ]
  },
  {
   "cell_type": "markdown",
   "metadata": {},
   "source": [
    "## Drawing functions"
   ]
  },
  {
   "cell_type": "code",
   "execution_count": 8,
   "metadata": {},
   "outputs": [],
   "source": [
    "def draw_polygon(polygon, ax=None, color=\"green\"):\n",
    "    \"\"\"Draw a polygon over an axis (not shown directly)\n",
    "    \n",
    "    @param polygon: Whether a polygon or a path\n",
    "    \"\"\"\n",
    "    if ax is None:\n",
    "        ax = plt.gca()\n",
    "    if type(polygon) == SimpyPolygon:\n",
    "        polygon = np.array(list(map(lambda p: [p.x, p.y], polygon.vertices)))\n",
    "    p = Polygon(polygon, closed=False, color=color, alpha=0.3, lw=0)\n",
    "    ax.add_patch(p)\n",
    "    ax.axis('equal')\n",
    "    return ax"
   ]
  },
  {
   "cell_type": "code",
   "execution_count": 9,
   "metadata": {},
   "outputs": [],
   "source": [
    "def draw_polygons(polygons, colors=None, verbose=False):\n",
    "    \"\"\"Draw polygons and print the figure\n",
    "    \n",
    "    @param polygons: SimpyPolygon or list(SimpyPolygon)\n",
    "    @param colors: colors to match to the polygons\n",
    "    \"\"\"\n",
    "    ax = plt.gca()\n",
    "    if type(polygons) == SimpyPolygon:\n",
    "        polygons = [polygons]\n",
    "    if colors is None:\n",
    "        colors = [\"grey\"]*len(polygons)\n",
    "    if len(colors) > 0 and len(colors) < len(polygons):\n",
    "        colors = colors + [colors[-1]] * (len(polygons) - len(colors))\n",
    "    colors.reverse()\n",
    "    \n",
    "    for polygon in polygons:\n",
    "        color = colors.pop()\n",
    "        if verbose:\n",
    "            print(color, \"Polygon : \", polygon)\n",
    "        ax = draw_polygon(polygon, ax, color=color)\n",
    "    plt.show()"
   ]
  },
  {
   "cell_type": "code",
   "execution_count": 10,
   "metadata": {},
   "outputs": [],
   "source": [
    "def log_polygons(land, sols, colors=[\"green\", \"brown\"], legend=\"Best\", padding=1, iteration=0):\n",
    "    if (iteration % padding == 0):\n",
    "        sols = list(sols) if type(sols) == map else [sols]\n",
    "        legend_text = \" : \" + legend if legend is not None else \"\"\n",
    "        printmd(\"### Itération \"+str(iteration)+legend_text)\n",
    "        polygons = [land]+[Rectangle(*sol).to_rect() for sol in sols]\n",
    "        draw_polygons(polygons, colors)"
   ]
  },
  {
   "cell_type": "markdown",
   "metadata": {},
   "source": [
    "## Calculate the area of a polygon"
   ]
  },
  {
   "cell_type": "code",
   "execution_count": 11,
   "metadata": {},
   "outputs": [],
   "source": [
    "def get_bornage_search_field(polygon):\n",
    "    polygon = polygon_to_path(polygon)\n",
    "    min_func = lambda acc, vertice: min(min(*vertice),acc)\n",
    "    max_func = lambda acc, vertice: max(max(*vertice),acc)\n",
    "    \n",
    "    min_search_field = functools.reduce(min_func, polygon, sys.maxsize)\n",
    "    max_search_field = functools.reduce(max_func, polygon, -sys.maxsize)\n",
    "    \n",
    "    return min_search_field, max_search_field"
   ]
  },
  {
   "cell_type": "markdown",
   "metadata": {},
   "source": [
    "## Calculate the validity of a solution"
   ]
  },
  {
   "cell_type": "code",
   "execution_count": 12,
   "metadata": {},
   "outputs": [],
   "source": [
    "def polygon_bornage(sol, land_polygon, verbose=False):\n",
    "    if verbose:\n",
    "        print(\"entrée: polygon_bornage\")\n",
    "    solution = Rectangle(*sol)\n",
    "    if solution.is_valid(land_polygon):\n",
    "        if verbose:\n",
    "            print(sol)\n",
    "            printmd(\"## Est valide\")\n",
    "        return sol \n",
    "    else:\n",
    "        if verbose:\n",
    "            print(\"this one is invalid\")\n",
    "        # print(sol)\n",
    "        raise ValueError(\"Solution invalide par contrainte de bornage\")"
   ]
  },
  {
   "cell_type": "code",
   "execution_count": 13,
   "metadata": {},
   "outputs": [],
   "source": [
    "Nb_cycles = 2000\n",
    "Nb_particle = 20\n",
    "# usual params\n",
    "psi,cmax = (0.4, 1.12)\n",
    "# psi,cmax = (0,7, 1,47)\n",
    "# psi,cmax = (0.8, 1.62)"
   ]
  },
  {
   "cell_type": "markdown",
   "metadata": {},
   "source": [
    "### Calcul de temps"
   ]
  },
  {
   "cell_type": "code",
   "execution_count": 14,
   "metadata": {},
   "outputs": [],
   "source": [
    "from sympy import Symbol\n",
    "def pick_random_sol(land, size=1, delta=0.05, stochastic=False):\n",
    "    t = Symbol('t', real=True)\n",
    "    p = SimpyPolygon(*land).arbitrary_point('t')\n",
    "    if stochastic:\n",
    "        picks = sorted([random.rand() for i in range(size*2)])\n",
    "    else:\n",
    "        picks = np.linspace(0, 1, size*2+1)\n",
    "    points_on_perimeter = [p.subs(t, pick) for pick in picks]\n",
    "    #picks = [pick + delta if pick + delta < 1 else pick + (1 - pick) / 2 for pick in picks]\n",
    "    #second_points_on_perimeter = [p.subs(t, pick) for pick in picks]\n",
    "    sols = [[points_on_perimeter[i*2].x, points_on_perimeter[i*2].y, points_on_perimeter[i*2+1].x, points_on_perimeter[i*2+1].y, -10-delta*2000*random.rand()] for i in range(size)]\n",
    "    for sol in sols:\n",
    "        while not Rectangle(*sol).is_valid(land):\n",
    "            sol[4] = sol[4] / 2\n",
    "    return sols\n",
    "    # return p.subs(t, (s1 + s2/2)/perimeter)\n",
    "# sols = [Rectangle(*sol) for sol in pick_random_sol(land, 50)]\n",
    "# rects = [s.to_rect() for s in sols]\n",
    "# draw_polygons([*rects, land], colors=[\"red\", \"red\", \"red\", \"red\", \"red\", \"red\", \"red\", \"red\", \"red\", \"red\", \"red\", \"red\", \"red\", \"red\", \"red\", \"red\", \"red\", \"red\", \"red\", \"red\", \"green\"])\n",
    "# print(\"Tous valides ? \", list(all(sol.is_valid(land) for sol in sols)))"
   ]
  },
  {
   "cell_type": "code",
   "execution_count": 15,
   "metadata": {},
   "outputs": [],
   "source": [
    "# Init of the population (swarm)\n",
    "def initSwarm(nb,dim,eval_func,land=None):\n",
    "    positions = pick_random_sol(land, nb)\n",
    "    fits = [eval_func(pos) for pos in positions]\n",
    "    return [{'vit':[0]*dim, 'pos':positions[i], 'fit':fits[i], 'bestpos':positions[i], 'bestfit':fits[i], 'bestvois':[]} for i in range(nb)]"
   ]
  },
  {
   "cell_type": "code",
   "execution_count": 16,
   "metadata": {},
   "outputs": [],
   "source": [
    "# Return the particle with the best fitness\n",
    "def maxParticle(p1,p2):\n",
    "    if (p1[\"fit\"] > p2[\"fit\"]):\n",
    "        return p1 \n",
    "    else:\n",
    "        return p2\n",
    "\n",
    "# Returns a copy of the particle with the best fitness in the population\n",
    "def getBest(swarm):\n",
    "    return dict(reduce(lambda acc, e: maxParticle(acc,e),swarm[1:],swarm[0]))"
   ]
  },
  {
   "cell_type": "code",
   "execution_count": 17,
   "metadata": {},
   "outputs": [],
   "source": [
    "# Update information for the particles of the population (swarm)\n",
    "def update(particle,bestParticle):\n",
    "    nv = dict(particle)\n",
    "    if(particle[\"fit\"] > particle[\"bestfit\"]):\n",
    "        nv['bestpos'] = particle[\"pos\"][:]\n",
    "        nv['bestfit'] = particle[\"fit\"]\n",
    "    nv['bestvois'] = bestParticle[\"bestpos\"][:]\n",
    "    return nv\n",
    "\n",
    "# Calculate the velocity and move a particule\n",
    "def move(particle, dim, eval_function, bornage_function, psi, cmax, verbose=False):\n",
    "    if verbose:\n",
    "        print(\"entrée: move\")\n",
    "    nv = dict(particle)\n",
    "\n",
    "    velocity = [0]*dim\n",
    "    for i in range(dim):\n",
    "        velocity[i] = (particle[\"vit\"][i]*psi + \\\n",
    "        cmax*random.uniform()*(particle[\"bestpos\"][i] - particle[\"pos\"][i]) + \\\n",
    "        cmax*random.uniform()*(particle[\"bestvois\"][i] - particle[\"pos\"][i]))\n",
    "\n",
    "    new_pos = [particle[\"pos\"][i] + velocity[i] for i in range(dim)]\n",
    "    \n",
    "    start_time = time.time()\n",
    "    try:\n",
    "        position = bornage_function(new_pos)   \n",
    "    except ValueError:\n",
    "        position = particle[\"pos\"]\n",
    "    if verbose:\n",
    "        print(\"--- Bornage: %s seconds ---\" % (time.time() - start_time))\n",
    "    \n",
    "    nv['vit'] = velocity\n",
    "    nv['pos'] = position\n",
    "    nv['fit'] = eval_function(position)\n",
    "    if verbose:\n",
    "        print(\"Debug: \", particle[\"pos\"], \"is the previous solution\")\n",
    "        print(\"Debug: \", new_pos, \"is the new solution\")\n",
    "        print(\"sortie: move\")\n",
    "    return nv"
   ]
  },
  {
   "cell_type": "code",
   "execution_count": 20,
   "metadata": {},
   "outputs": [],
   "source": [
    "def sol_to_rect(sol):\n",
    "    \"\"\"Convert a minimal rectangle to a full rectangle\"\"\"\n",
    "    x1, x2, y1, y2, length = sol\n",
    "    vect = (x2 - x1, y2 - y1)\n",
    "    distance = dist((x1,y1),(x2,y2))\n",
    "    vectUnitaire = (vect[0] / distance * length, vect[1] / distance * length)\n",
    "    normalVect = (-vectUnitaire[1], vectUnitaire[0])\n",
    "    point1 = (x1, y1)\n",
    "    point2 = (x2, y2)\n",
    "    point3 = (x2 + normalVect[0], y2 + normalVect[1])\n",
    "    point4 = (x1 + normalVect[0], y1 + normalVect[1])\n",
    "    return [point1, point2, point3, point4]\n",
    "\n",
    "def estValide(rectangle,polygon):\n",
    "    try:\n",
    "        pc = pyclipper.Pyclipper()\n",
    "        pc.AddPath(polygon, pyclipper.PT_SUBJECT, True)\n",
    "        pc.AddPath(rectangle, pyclipper.PT_CLIP, True)\n",
    "    \n",
    "        clip = pc.Execute(pyclipper.CT_INTERSECTION, pyclipper.PFT_EVENODD, pyclipper.PFT_EVENODD)\n",
    "        return (clip!= []) and (len(clip[0]) == len(rectangle)) and np.all([[int(coord) for coord in sommet] in clip[0] for sommet in rectangle]) \n",
    "    except pyclipper.ClipperException:\n",
    "        return False\n",
    "    \n",
    "def sol2rect(solution):\n",
    "    x1, y1, x2, y2, length = solution\n",
    "    normal_vect = [-(y2-y1), (x2-x1)]\n",
    "    \n",
    "    coeff = length / hypot(normal_vect[0], normal_vect[1])\n",
    "    x3, y3 = x2 + normal_vect[0] * coeff, y2 + normal_vect[1] * coeff\n",
    "    x4, y4 = x1 + normal_vect[0] * coeff, y1 + normal_vect[1] * coeff\n",
    "    return [[x1, y1], [x2, y2], [x3, y3], [x4, y4]]"
   ]
  },
  {
   "cell_type": "code",
   "execution_count": 22,
   "metadata": {},
   "outputs": [
    {
     "name": "stdout",
     "output_type": "stream",
     "text": [
      "initSwarm\n",
      "CPU times: user 3.63 s, sys: 3.77 ms, total: 3.63 s\n",
      "Wall time: 3.63 s\n",
      "CPU times: user 15 µs, sys: 0 ns, total: 15 µs\n",
      "Wall time: 17.9 µs\n",
      "move\n",
      "CPU times: user 2.99 s, sys: 0 ns, total: 2.99 s\n",
      "Wall time: 2.99 s\n",
      "bounding\n",
      "CPU times: user 1.43 s, sys: 3.81 ms, total: 1.44 s\n",
      "Wall time: 1.44 s\n",
      "moi\n",
      "CPU times: user 216 µs, sys: 2 µs, total: 218 µs\n",
      "Wall time: 221 µs\n",
      "CPU times: user 1.44 s, sys: 0 ns, total: 1.44 s\n",
      "Wall time: 1.44 s\n",
      "Nico\n",
      "CPU times: user 1.34 s, sys: 0 ns, total: 1.34 s\n",
      "Wall time: 1.34 s\n",
      "ju\n",
      "CPU times: user 220 ms, sys: 0 ns, total: 220 ms\n",
      "Wall time: 219 ms\n",
      "CPU times: user 753 ms, sys: 0 ns, total: 753 ms\n",
      "Wall time: 752 ms\n"
     ]
    },
    {
     "data": {
      "text/plain": [
       "[True,\n",
       " False,\n",
       " False,\n",
       " False,\n",
       " False,\n",
       " False,\n",
       " False,\n",
       " False,\n",
       " False,\n",
       " False,\n",
       " False,\n",
       " False,\n",
       " False,\n",
       " False,\n",
       " False,\n",
       " False,\n",
       " False,\n",
       " False,\n",
       " False,\n",
       " False]"
      ]
     },
     "execution_count": 22,
     "metadata": {},
     "output_type": "execute_result"
    }
   ],
   "source": [
    "dim = 5\n",
    "eval_function = lambda x: Rectangle(*x).area()\n",
    "bornage_function = lambda x: polygon_bornage(x, land)\n",
    "log_function = lambda x,legend=None,padding=100,colors=[\"green\", \"red\"]:log_polygons(land, x, colors, legend, padding)\n",
    "land = [(0,0), (0,100), (100,100), (110, 50), (100, 0)]\n",
    "\n",
    "print(\"initSwarm\")\n",
    "%time swarm = initSwarm(20,dim,eval_func=eval_function, land=land)\n",
    "\n",
    "best = getBest(swarm)\n",
    "%time swarm = [update(e,best) for e in swarm]\n",
    "\n",
    "print(\"move\")\n",
    "%time swarm = [move(particle=e, dim=dim, eval_function=eval_function, bornage_function=bornage_function, psi=0.7, cmax=1.47) for e in swarm]\n",
    "\n",
    "print(\"bounding\")\n",
    "%time [bornage_function(e[\"pos\"]) for e in swarm]\n",
    "\n",
    "print(\"moi\")\n",
    "%time sols = [Rectangle(*e[\"pos\"]) for e in swarm]\n",
    "%time [s.is_valid(land) for s in sols]\n",
    "\n",
    "print(\"Nico\")\n",
    "%time [isValid_Nico(land, e[\"pos\"]) for e in swarm]\n",
    "\n",
    "print(\"ju\")\n",
    "%time sols = [sol_to_rect(e[\"pos\"]) for e in swarm]\n",
    "%time [estValide(s, land) for s in sols]\n"
   ]
  },
  {
   "cell_type": "code",
   "execution_count": null,
   "metadata": {},
   "outputs": [],
   "source": [
    "def fit(eval_function, \n",
    "        bornage_function, \n",
    "        nb_particle=Nb_particle, \n",
    "        dim=5, \n",
    "        nb_cycles=Nb_cycles, \n",
    "        psi=0.7,\n",
    "        cmax=1.47,\n",
    "        log_function=print):\n",
    "    Htemps = []       # temps\n",
    "    Hbest = []        # distance\n",
    "\n",
    "    # initialization of the population\n",
    "    swarm = initSwarm(nb_particle,dim,eval_func=eval_function, land=LAND)\n",
    "    log_function(map(lambda s: s[\"pos\"], swarm), colors=[\"green\", \"purple\"], legend=\"Initialization\", padding=1)\n",
    "    # initialization of the best solution\n",
    "    best = getBest(swarm)\n",
    "    best_cycle = best\n",
    "\n",
    "    for i in tqdm(range(nb_cycles)):\n",
    "        #Update informations\n",
    "        swarm = [update(e,best_cycle) for e in swarm]\n",
    "        # velocity calculations and displacement\n",
    "        swarm = [move(particle=e, dim=dim, psi=psi, cmax=cmax, eval_function=eval_function, bornage_function=bornage_function) for e in swarm]\n",
    "        log_function(map(lambda s: s[\"pos\"], swarm), colors=[\"green\", \"purple\"], legend=\"Swarm\", it=i+1)\n",
    "        # Update of the best solution\n",
    "        best_cycle = getBest(swarm)\n",
    "        if (best_cycle[\"bestfit\"] > best[\"bestfit\"]):\n",
    "            best = best_cycle\n",
    "            # draw(best['pos'], best['fit'])\n",
    "\n",
    "        # historization of data\n",
    "        if i % 10 == 0:\n",
    "            Htemps.append(i)\n",
    "            Hbest.append(best['bestfit'])\n",
    "            \n",
    "        log_function(best['pos'], legend=f\"Best = **{int(best['bestfit'])}**\", colors=[\"green\", \"blue\"], it=i+1)\n",
    "\n",
    "    # END, displaying results\n",
    "    Htemps.append(i)\n",
    "    Hbest.append(best['bestfit'])\n",
    "\n",
    "    #displaying result on the console\n",
    "    log_function(best['pos'], legend=f\"Best final = **{int(best['bestfit'])}**\", colors=[\"green\", \"blue\"], it=nb_cycles)\n",
    "    print(Htemps, Hbest)"
   ]
  },
  {
   "cell_type": "code",
   "execution_count": null,
   "metadata": {},
   "outputs": [],
   "source": [
    "fit(eval_function=lambda x: Rectangle(*x).area(), \n",
    "    bornage_function=lambda x: polygon_bornage(x, land), \n",
    "    log_function=lambda x,it=0,legend=None,padding=10,colors=[\"green\", \"red\"]:log_polygons(land, x, colors, legend, padding, it),\n",
    "    nb_particle=3, \n",
    "    dim=5, \n",
    "    nb_cycles=50,\n",
    "    psi=0.7,\n",
    "    cmax=1.47)"
   ]
  },
  {
   "cell_type": "code",
   "execution_count": null,
   "metadata": {},
   "outputs": [],
   "source": [
    "sol = {'vit': [-2.52650027135325e-9 - 9.500520874982e-13*sqrt(26)*(1/2 - 200/(20*sqrt(26) + 300))*(20*sqrt(26) + 300) - 9.03388401872037e-13*sqrt(26)*(20*sqrt(26) + 300)*(-200/(20*sqrt(26) + 300) - 10*sqrt(26)/(20*sqrt(26) + 300) + 5/8) - 6.56247635134616e-13*(sqrt(26)/5 + 3)*(-200/(20*sqrt(26) + 300) - 20*sqrt(26)/(20*sqrt(26) + 300) + 7/8) - 5.83755580724892e-13*(1/4 - 100/(20*sqrt(26) + 300))*(sqrt(26)/5 + 3) + 9.23325889916609e-13*sqrt(26)*(20*sqrt(26) + 300)*(-200/(20*sqrt(26) + 300) - 10*sqrt(26)/(20*sqrt(26) + 300) + 3/4) + 1.42751642707792e-9*(3/8 - 100/(20*sqrt(26) + 300))*(sqrt(26)/5 + 3), -1.60391696626868e-11*sqrt(26)*(20*sqrt(26) + 300)*(-200/(20*sqrt(26) + 300) - 10*sqrt(26)/(20*sqrt(26) + 300) + 3/4) - 5.44237596800181e-10*sqrt(26) + 6.23355197126566e-12*sqrt(26)*(20*sqrt(26) + 300)*(-200/(20*sqrt(26) + 300) - 10*sqrt(26)/(20*sqrt(26) + 300) + 5/8) + 1.87050362530917e-11*sqrt(26)*(1/2 - 200/(20*sqrt(26) + 300))*(20*sqrt(26) + 300) + 1.0597633262519e-8, -7.38902365445221e-9*(sqrt(26)/5 + 3)*(-200/(20*sqrt(26) + 300) - 20*sqrt(26)/(20*sqrt(26) + 300) + 13/16) - 5.30958966523229e-12*sqrt(26)*(9/16 - 200/(20*sqrt(26) + 300))*(20*sqrt(26) + 300) - 2.57285545709561e-12*sqrt(26)*(20*sqrt(26) + 300)*(-200/(20*sqrt(26) + 300) - 10*sqrt(26)/(20*sqrt(26) + 300) + 11/16) + 7.85333125056432e-13*(5/16 - 100/(20*sqrt(26) + 300))*(sqrt(26)/5 + 3) + 7.65097188497398e-11*(sqrt(26)/5 + 3)*(-200/(20*sqrt(26) + 300) - 20*sqrt(26)/(20*sqrt(26) + 300) + 15/16) + 8.65938250446284e-10 + 2.49607482420176e-9*(7/16 - 100/(20*sqrt(26) + 300))*(sqrt(26)/5 + 3), -3.16662145494745e-7 + 4.87280383241628e-9*sqrt(26) + 3.63478088955149e-10*sqrt(26)*(20*sqrt(26) + 300)*(-200/(20*sqrt(26) + 300) - 10*sqrt(26)/(20*sqrt(26) + 300) + 11/16) + 6.17773260361117e-10*sqrt(26)*(9/16 - 200/(20*sqrt(26) + 300))*(20*sqrt(26) + 300), -2.2218150881391868e-08], 'pos': [-0.0241654708414921*sqrt(26)*(20*sqrt(26) + 300)*(-200/(20*sqrt(26) + 300) - 10*sqrt(26)/(20*sqrt(26) + 300) + 3/4) - 8.5611058925468*(3/8 - 100/(20*sqrt(26) + 300))*(sqrt(26)/5 + 3) + 0.00043537198601596*(1/4 - 100/(20*sqrt(26) + 300))*(sqrt(26)/5 + 3) + 0.000420581098437307*(sqrt(26)/5 + 3)*(-200/(20*sqrt(26) + 300) - 20*sqrt(26)/(20*sqrt(26) + 300) + 7/8) + 0.0316976964042511*sqrt(26)*(20*sqrt(26) + 300)*(-200/(20*sqrt(26) + 300) - 10*sqrt(26)/(20*sqrt(26) + 300) + 5/8) + 0.0501606196808244*sqrt(26)*(1/2 - 200/(20*sqrt(26) + 300))*(20*sqrt(26) + 300) + 108.875025479554, -0.0684100108128167*sqrt(26)*(20*sqrt(26) + 300)*(-200/(20*sqrt(26) + 300) - 10*sqrt(26)/(20*sqrt(26) + 300) + 3/4) - 0.497773125420269*sqrt(26) - 0.278131935063796*sqrt(26)*(1/2 - 200/(20*sqrt(26) + 300))*(20*sqrt(26) + 300) + 0.106687467083637*sqrt(26)*(20*sqrt(26) + 300)*(-200/(20*sqrt(26) + 300) - 10*sqrt(26)/(20*sqrt(26) + 300) + 5/8) + 122.224453106317, -19.0876818950928*(sqrt(26)/5 + 3)*(-200/(20*sqrt(26) + 300) - 20*sqrt(26)/(20*sqrt(26) + 300) + 13/16) - 0.00405072542958905*sqrt(26)*(20*sqrt(26) + 300)*(-200/(20*sqrt(26) + 300) - 10*sqrt(26)/(20*sqrt(26) + 300) + 11/16) - 2.13831496808409e-5*(5/16 - 100/(20*sqrt(26) + 300))*(sqrt(26)/5 + 3) + 0.00723590339811345*(sqrt(26)/5 + 3)*(-200/(20*sqrt(26) + 300) - 20*sqrt(26)/(20*sqrt(26) + 300) + 15/16) + 2.91246375812911*(7/16 - 100/(20*sqrt(26) + 300))*(sqrt(26)/5 + 3) + 0.0262480695514679*sqrt(26)*(9/16 - 200/(20*sqrt(26) + 300))*(20*sqrt(26) + 300) + 98.9105015541361, -11.031235779703 - 0.0364900857505641*sqrt(26)*(9/16 - 200/(20*sqrt(26) + 300))*(20*sqrt(26) + 300) + 0.341525397560728*sqrt(26) + 0.14937055540896*sqrt(26)*(20*sqrt(26) + 300)*(-200/(20*sqrt(26) + 300) - 10*sqrt(26)/(20*sqrt(26) + 300) + 11/16), -99.60562828197416], 'fit': 9525.36690839256, 'bestpos': [-0.0241654708424154*sqrt(26)*(20*sqrt(26) + 300)*(-200/(20*sqrt(26) + 300) - 10*sqrt(26)/(20*sqrt(26) + 300) + 3/4) - 8.56110589397431*(3/8 - 100/(20*sqrt(26) + 300))*(sqrt(26)/5 + 3) + 0.000435371986599716*(1/4 - 100/(20*sqrt(26) + 300))*(sqrt(26)/5 + 3) + 0.000420581099093555*(sqrt(26)/5 + 3)*(-200/(20*sqrt(26) + 300) - 20*sqrt(26)/(20*sqrt(26) + 300) + 7/8) + 0.0316976964051545*sqrt(26)*(20*sqrt(26) + 300)*(-200/(20*sqrt(26) + 300) - 10*sqrt(26)/(20*sqrt(26) + 300) + 5/8) + 0.0501606196817745*sqrt(26)*(1/2 - 200/(20*sqrt(26) + 300))*(20*sqrt(26) + 300) + 108.875025482081, -0.0684100107967775*sqrt(26)*(20*sqrt(26) + 300)*(-200/(20*sqrt(26) + 300) - 10*sqrt(26)/(20*sqrt(26) + 300) + 3/4) - 0.497773124876032*sqrt(26) - 0.278131935082501*sqrt(26)*(1/2 - 200/(20*sqrt(26) + 300))*(20*sqrt(26) + 300) + 0.106687467077403*sqrt(26)*(20*sqrt(26) + 300)*(-200/(20*sqrt(26) + 300) - 10*sqrt(26)/(20*sqrt(26) + 300) + 5/8) + 122.22445309572, -19.0876818877038*(sqrt(26)/5 + 3)*(-200/(20*sqrt(26) + 300) - 20*sqrt(26)/(20*sqrt(26) + 300) + 13/16) - 0.00405072542701619*sqrt(26)*(20*sqrt(26) + 300)*(-200/(20*sqrt(26) + 300) - 10*sqrt(26)/(20*sqrt(26) + 300) + 11/16) - 2.1383150466174e-5*(5/16 - 100/(20*sqrt(26) + 300))*(sqrt(26)/5 + 3) + 0.00723590332160373*(sqrt(26)/5 + 3)*(-200/(20*sqrt(26) + 300) - 20*sqrt(26)/(20*sqrt(26) + 300) + 15/16) + 2.91246375563303*(7/16 - 100/(20*sqrt(26) + 300))*(sqrt(26)/5 + 3) + 0.0262480695567775*sqrt(26)*(9/16 - 200/(20*sqrt(26) + 300))*(20*sqrt(26) + 300) + 98.9105015532701, -11.0312354630408 - 0.0364900863683373*sqrt(26)*(9/16 - 200/(20*sqrt(26) + 300))*(20*sqrt(26) + 300) + 0.341525392687925*sqrt(26) + 0.149370555045481*sqrt(26)*(20*sqrt(26) + 300)*(-200/(20*sqrt(26) + 300) - 10*sqrt(26)/(20*sqrt(26) + 300) + 11/16), -99.60562825975602], 'bestfit': 9525.366889699919, 'bestvois': [-0.0241654708410253*sqrt(26)*(20*sqrt(26) + 300)*(-200/(20*sqrt(26) + 300) - 10*sqrt(26)/(20*sqrt(26) + 300) + 3/4) - 8.56110589182525*(3/8 - 100/(20*sqrt(26) + 300))*(sqrt(26)/5 + 3) + 0.000435371985717388*(1/4 - 100/(20*sqrt(26) + 300))*(sqrt(26)/5 + 3) + 0.000420581098102114*(sqrt(26)/5 + 3)*(-200/(20*sqrt(26) + 300) - 20*sqrt(26)/(20*sqrt(26) + 300) + 7/8) + 0.0316976964037945*sqrt(26)*(20*sqrt(26) + 300)*(-200/(20*sqrt(26) + 300) - 10*sqrt(26)/(20*sqrt(26) + 300) + 5/8) + 0.0501606196803444*sqrt(26)*(1/2 - 200/(20*sqrt(26) + 300))*(20*sqrt(26) + 300) + 108.875025478277, -0.0684100108864031*sqrt(26)*(20*sqrt(26) + 300)*(-200/(20*sqrt(26) + 300) - 10*sqrt(26)/(20*sqrt(26) + 300) + 3/4) - 0.497773127917988*sqrt(26) - 0.278131934978649*sqrt(26)*(1/2 - 200/(20*sqrt(26) + 300))*(20*sqrt(26) + 300) + 0.106687467112496*sqrt(26)*(20*sqrt(26) + 300)*(-200/(20*sqrt(26) + 300) - 10*sqrt(26)/(20*sqrt(26) + 300) + 5/8) + 122.224453155028, -19.0876819025199*(sqrt(26)/5 + 3)*(-200/(20*sqrt(26) + 300) - 20*sqrt(26)/(20*sqrt(26) + 300) + 13/16) - 0.00405072543217502*sqrt(26)*(20*sqrt(26) + 300)*(-200/(20*sqrt(26) + 300) - 10*sqrt(26)/(20*sqrt(26) + 300) + 11/16) - 2.13831488897166e-5*(5/16 - 100/(20*sqrt(26) + 300))*(sqrt(26)/5 + 3) + 0.00723590347551493*(sqrt(26)/5 + 3)*(-200/(20*sqrt(26) + 300) - 20*sqrt(26)/(20*sqrt(26) + 300) + 15/16) + 2.91246376063626*(7/16 - 100/(20*sqrt(26) + 300))*(sqrt(26)/5 + 3) + 0.0262480695461357*sqrt(26)*(9/16 - 200/(20*sqrt(26) + 300))*(20*sqrt(26) + 300) + 98.9105015550178, -11.0312348641445 - 0.0364900875367143*sqrt(26)*(9/16 - 200/(20*sqrt(26) + 300))*(20*sqrt(26) + 300) + 0.341525383472843*sqrt(26) + 0.149370554358046*sqrt(26)*(20*sqrt(26) + 300)*(-200/(20*sqrt(26) + 300) - 10*sqrt(26)/(20*sqrt(26) + 300) + 11/16), -99.60562831151383]}\n",
    "draw_polygons([land, Rectangle(*sol[\"pos\"]).to_rect()], colors=[\"green\", \"blue\"])\n",
    "sol[\"pos\"]"
   ]
  },
  {
   "cell_type": "code",
   "execution_count": null,
   "metadata": {},
   "outputs": [],
   "source": [
    "sol = [98.60236160251716,\n",
    " 100.80276931888929,\n",
    " 99.395493294684,\n",
    " 5.175248415058288,\n",
    " -99.60562828197416]\n",
    "st = time.time()\n",
    "rectangle=sol_to_rect(sol)\n",
    "estValide(rectangle, land)\n",
    "print(time.time() - st)\n",
    "st = time.time()\n",
    "Rectangle(*sol).is_valid(land)\n",
    "print(time.time() - st)"
   ]
  },
  {
   "cell_type": "code",
   "execution_count": null,
   "metadata": {},
   "outputs": [],
   "source": []
  },
  {
   "cell_type": "code",
   "execution_count": null,
   "metadata": {},
   "outputs": [],
   "source": []
  },
  {
   "cell_type": "code",
   "execution_count": null,
   "metadata": {},
   "outputs": [],
   "source": []
  },
  {
   "cell_type": "code",
   "execution_count": null,
   "metadata": {},
   "outputs": [],
   "source": []
  }
 ],
 "metadata": {
  "kernelspec": {
   "display_name": "Python 3",
   "language": "python",
   "name": "python3"
  },
  "language_info": {
   "codemirror_mode": {
    "name": "ipython",
    "version": 3
   },
   "file_extension": ".py",
   "mimetype": "text/x-python",
   "name": "python",
   "nbconvert_exporter": "python",
   "pygments_lexer": "ipython3",
   "version": "3.8.3"
  }
 },
 "nbformat": 4,
 "nbformat_minor": 4
}
