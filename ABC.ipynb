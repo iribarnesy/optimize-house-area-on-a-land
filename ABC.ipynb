{
 "cells": [
  {
   "cell_type": "code",
   "execution_count": 3,
   "metadata": {},
   "outputs": [],
   "source": [
    "from math import *\n",
    "import numpy as np\n",
    "from numpy import *\n",
    "from numpy import linalg as LA\n",
    "import random\n",
    "import matplotlib.pyplot as plt\n",
    "import statistics\n",
    "from statistics import mean, median"
   ]
  },
  {
   "cell_type": "code",
   "execution_count": 4,
   "metadata": {},
   "outputs": [],
   "source": [
    "NBPOINT  = 30\n",
    "NONIMPROVINGMAX = 100\n",
    "NBEXPLORATION = 1\n",
    "DIMENSION = 2\n",
    "MAXITERATION = 1000"
   ]
  },
  {
   "cell_type": "code",
   "execution_count": null,
   "metadata": {},
   "outputs": [],
   "source": []
  },
  {
   "cell_type": "code",
   "execution_count": 5,
   "metadata": {},
   "outputs": [],
   "source": [
    "def fitness(point):\n",
    "    partSum = 0\n",
    "    partProd = 0\n",
    "    for j in range(1,DIMENSION+1):\n",
    "        value = point[j-1]\n",
    "        partSum += value**2/4000\n",
    "        partProd = partProd * cos(value/sqrt(j))\n",
    "    \n",
    "    # Griewank Function\n",
    "    return partSum-partProd +1"
   ]
  },
  {
   "cell_type": "code",
   "execution_count": 6,
   "metadata": {},
   "outputs": [],
   "source": [
    "def initializationPoints():\n",
    "    allPoints = np.array([[random.uniform(-600,600) for i in range(DIMENSION)] for j in range(NBPOINT)])\n",
    "    allNonImprovingPoints = np.array([])\n",
    "\n",
    "    allFitnessPoints = np.array([fitness(allPoints[i]) for i in range(NBPOINT)])\n",
    "\n",
    "    allNonImprovingPoints = np.zeros(NBPOINT)\n",
    "    return allPoints,allFitnessPoints,allNonImprovingPoints\n",
    "    "
   ]
  },
  {
   "cell_type": "code",
   "execution_count": 7,
   "metadata": {},
   "outputs": [],
   "source": [
    "def probaFitness(fitnessPoint,allFitnessPoints):\n",
    "    probaPoint = fitnessPoint // np.sum(allFitnessPoints)\n",
    "    return probaPoint"
   ]
  },
  {
   "cell_type": "code",
   "execution_count": 8,
   "metadata": {},
   "outputs": [],
   "source": [
    "def foraging(allPoints,allFitnessPoints,allNonImprovingPoints,indexPoint):\n",
    "    actualPoint = allPoints[indexPoint]\n",
    "    newNeighbor = actualPoint.copy()\n",
    "    targetPoint = allPoints[random.randint(0,DIMENSION-1)]\n",
    "    randomCoefficient = random.uniform(-1,1)\n",
    "    randomDimension = random.randint(0,DIMENSION-1)\n",
    "    \n",
    "    otherCoefficient = random.uniform(0,1.5)\n",
    "\n",
    "    max_index = np.argmax(allFitnessPoints)\n",
    "    maxFitnessPoint = allPoints[max_index]\n",
    "    \n",
    "    newNeighbor[randomDimension] =  actualPoint[randomDimension] + randomCoefficient*(actualPoint[randomDimension] - targetPoint[randomDimension]) + otherCoefficient*(maxFitnessPoint[randomDimension]-actualPoint[randomDimension])\n",
    "    if (newNeighbor[randomDimension] > 600 ):\n",
    "        newNeighbor[randomDimension] = 600\n",
    "    elif newNeighbor[randomDimension] < -600:\n",
    "        newNeighbor[randomDimension] = -600\n",
    "        \n",
    "    fitnessNeighbor = fitness(newNeighbor)\n",
    "    \n",
    "    if(allFitnessPoints[indexPoint] > fitnessNeighbor):\n",
    "        allPoints[indexPoint] = newNeighbor\n",
    "        allFitnessPoints[indexPoint] = fitnessNeighbor\n",
    "        allNonImprovingPoints[indexPoint] = 0\n",
    "    else :\n",
    "        allNonImprovingPoints[indexPoint] += 1\n",
    "        \n",
    "    return allPoints,allFitnessPoints,allNonImprovingPoints    "
   ]
  },
  {
   "cell_type": "code",
   "execution_count": 9,
   "metadata": {},
   "outputs": [],
   "source": [
    "def employedBee(allPoints,allFitnessPoints,allNonImprovingPoints):\n",
    "    for i in range(NBPOINT):\n",
    "        allPoints,allFitnessPoints,allNonImprovingPoints = foraging(allPoints,allFitnessPoints,allNonImprovingPoints,i)\n",
    "    return allPoints,allFitnessPoints,allNonImprovingPoints"
   ]
  },
  {
   "cell_type": "code",
   "execution_count": 10,
   "metadata": {},
   "outputs": [],
   "source": [
    "def onlookerBee(allPoints,allFitnessPoints,allNonImprovingPoints):\n",
    "    i = 0\n",
    "    while i < NBPOINT:\n",
    "        randomDimension = random.randint(0,NBPOINT)\n",
    "        if (random.random() < probaFitness(allFitnessPoints[i], allFitnessPoints)):\n",
    "            allPoints,allFitnessPoints,allNonImprovingPoints = foraging(allPoints,allFitnessPoints,allNonImprovingPoints,i)\n",
    "        i += 1\n",
    "    return allPoints,allFitnessPoints,allNonImprovingPoints"
   ]
  },
  {
   "cell_type": "code",
   "execution_count": 11,
   "metadata": {},
   "outputs": [],
   "source": [
    "def explorerBee(allPoints,allFitnessPoints,allNonImprovingPoints):\n",
    "    \n",
    "    for i in range(NBEXPLORATION):\n",
    "        max_index = np.argmax(allNonImprovingPoints)     \n",
    "        if allNonImprovingPoints[max_index] >= NONIMPROVINGMAX :\n",
    "            newNeighbor = [random.uniform(-600,600) for i in range(DIMENSION)]\n",
    "        \n",
    "    return allPoints,allFitnessPoints,allNonImprovingPoints\n",
    "        "
   ]
  },
  {
   "cell_type": "code",
   "execution_count": 12,
   "metadata": {
    "scrolled": true
   },
   "outputs": [],
   "source": [
    "def abc():\n",
    "    allPoints,allFitnessPoints,allNonImprovingPoints = initializationPoints()\n",
    "    i = 0\n",
    "    while i < MAXITERATION:\n",
    "        allPoints,allFitnessPoints,allNonImprovingPoints = employedBee(allPoints,allFitnessPoints,allNonImprovingPoints)\n",
    "        allPoints,allFitnessPoints,allNonImprovingPoints = onlookerBee(allPoints,allFitnessPoints,allNonImprovingPoints)\n",
    "        allPoints,allFitnessPoints,allNonImprovingPoints = explorerBee(allPoints,allFitnessPoints,allNonImprovingPoints)\n",
    "        i+= 1\n",
    "    return allPoints,allFitnessPoints\n",
    "\n"
   ]
  },
  {
   "cell_type": "code",
   "execution_count": 15,
   "metadata": {},
   "outputs": [],
   "source": [
    "def showResult():\n",
    "    resultPoints,resultFitnessPoint = abc()\n",
    "    max_index = np.argmax(resultFitnessPoint)\n",
    "    min_index = np.argmin(resultFitnessPoint)\n",
    "    print(\"Debug:\", resultPoints[max_index], resultPoints[min_index])\n",
    "    print(\"Debug:\", resultFitnessPoint[max_index], resultFitnessPoint[min_index])\n",
    "    \n",
    "    np.delete(resultFitnessPoint,np.array([max_index, min_index]))\n",
    "    np.delete(resultPoints,np.array([max_index, min_index]))\n",
    "    \n",
    "    newMax_index = np.argmax(resultFitnessPoint)\n",
    "    newMin_index = np.argmin(resultFitnessPoint)\n",
    "    print(\"Debug:\", resultPoints[newMax_index], resultPoints[newMin_index])\n",
    "    print(\"Debug:\", resultFitnessPoint[newMax_index], resultFitnessPoint[newMin_index])\n",
    "    \n",
    "    print(\"Mediane : \", np.median(resultFitnessPoint))\n",
    "    print(\"Moyenne : \", np.mean(resultFitnessPoint))\n",
    "    print(\"Pire : \", resultPoints[newMax_index], resultFitnessPoint[newMax_index])\n",
    "    print(\"Meilleure : \", resultPoints[newMin_index], resultFitnessPoint[newMin_index])\n",
    "    "
   ]
  },
  {
   "cell_type": "code",
   "execution_count": 16,
   "metadata": {},
   "outputs": [
    {
     "name": "stdout",
     "output_type": "stream",
     "text": [
      "Debug: [-1.70344739e+00  1.39421075e-07] [-8.85944084e-05  1.64353404e-07]\n",
      "Debug: 1.0007254332560322 1.0000000000019622\n",
      "Debug: [-1.70344739e+00  1.39421075e-07] [-8.85944084e-05  1.64353404e-07]\n",
      "Debug: 1.0007254332560322 1.0000000000019622\n",
      "Mediane :  1.0000003264782082\n",
      "Moyenne :  1.000335450677087\n",
      "Pire :  [-1.70344739e+00  1.39421075e-07] 1.0007254332560322\n",
      "Meilleure :  [-8.85944084e-05  1.64353404e-07] 1.0000000000019622\n"
     ]
    }
   ],
   "source": [
    "showResult()\n"
   ]
  }
 ],
 "metadata": {
  "kernelspec": {
   "display_name": "Python 3",
   "language": "python",
   "name": "python3"
  },
  "language_info": {
   "codemirror_mode": {
    "name": "ipython",
    "version": 3
   },
   "file_extension": ".py",
   "mimetype": "text/x-python",
   "name": "python",
   "nbconvert_exporter": "python",
   "pygments_lexer": "ipython3",
   "version": "3.8.3"
  }
 },
 "nbformat": 4,
 "nbformat_minor": 4
}
