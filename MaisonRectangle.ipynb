{
 "cells": [
  {
   "cell_type": "markdown",
   "metadata": {},
   "source": [
    "# Optimisation : Placer la plus grande maison possible dans un terrain"
   ]
  },
  {
   "cell_type": "markdown",
   "metadata": {},
   "source": [
    "- La maison est un rectangle\n",
    "- Le terrain est un polygone quelconque, il peut être convexe ou concave\n",
    "- L'optimisation peut être faite en utilisant les algorithmes PSO, DE ou ABC"
   ]
  },
  {
   "cell_type": "code",
   "execution_count": 1,
   "metadata": {},
   "outputs": [],
   "source": [
    "from sympy.geometry import Point\n",
    "from sympy.geometry import Polygon as SympyPolygon\n",
    "from scipy import *\n",
    "from math import *\n",
    "import sys\n",
    "from copy import deepcopy\n",
    "import numpy as np\n",
    "import matplotlib.pyplot as plt\n",
    "from matplotlib import animation\n",
    "from matplotlib.patches import Polygon\n",
    "import pyclipper\n",
    "import functools\n",
    "\n",
    "from IPython.display import Markdown, display, HTML\n",
    "def printmd(string):\n",
    "    display(Markdown(string))"
   ]
  },
  {
   "cell_type": "markdown",
   "metadata": {},
   "source": [
    "## Class and converting functions"
   ]
  },
  {
   "cell_type": "code",
   "execution_count": 2,
   "metadata": {},
   "outputs": [],
   "source": [
    "class Rectangle:\n",
    "    \"\"\"Minimal representation of a rectangle\"\"\"\n",
    "    def __init__(self, point1_x, point1_y, point2_x, point2_y, longueur):\n",
    "        self.point1_x = point1_x\n",
    "        self.point1_y = point1_y\n",
    "        self.point2_x = point2_x\n",
    "        self.point2_y = point2_y\n",
    "        self.longueur = longueur\n",
    "        \n",
    "    def side_length(self):\n",
    "        return dist((self.point1_x, self.point1_y), (self.point2_x, self.point2_y))\n",
    "    \n",
    "    def area(self):\n",
    "        return abs(self.side_length() * self.longueur)\n",
    "    \n",
    "    def to_rect(self, strategy=\"Default\"):\n",
    "        \"\"\"Convert a minimal rectangle to a full rectangle\"\"\"\n",
    "        vect = (self.point2_x - self.point1_x, self.point2_y - self.point1_y)\n",
    "        distance = self.side_length()\n",
    "        vectUnitaire = (vect[0] / distance * self.longueur, vect[1] / distance * self.longueur)\n",
    "        normalVect = (-vectUnitaire[1], vectUnitaire[0])\n",
    "        point1 = (self.point1_x, self.point1_y)\n",
    "        point2 = (self.point2_x, self.point2_y)\n",
    "        point3 = (self.point2_x + normalVect[0], self.point2_y + normalVect[1])\n",
    "        point4 = (self.point1_x + normalVect[0], self.point1_y + normalVect[1])\n",
    "        if strategy == \"Default\":\n",
    "            return [point1, point2, point3, point4]\n",
    "        else:\n",
    "            return SimpyPolygon(point1, point2, point3, point4)\n",
    "      \n",
    "    def is_valid(self, polygon, verbose=False):\n",
    "        \"\"\" Determine if the rectangle is in the polygon\n",
    "\n",
    "        @param polygon: whether a polygon or a list of vertices\n",
    "        \"\"\"\n",
    "        if verbose:\n",
    "            print(\"entrée: est_valide\")\n",
    "            start_time = time.time()\n",
    "        try:\n",
    "            rectangle = self.to_rect()\n",
    "            pc = pyclipper.Pyclipper()\n",
    "            pc.AddPath(polygon, pyclipper.PT_CLIP, True)\n",
    "            pc.AddPath(rectangle, pyclipper.PT_SUBJECT, True)\n",
    "\n",
    "            intersections = pc.Execute(pyclipper.CT_INTERSECTION, pyclipper.PFT_EVENODD, pyclipper.PFT_EVENODD)\n",
    "\n",
    "            res = (intersections != []) and (len(intersections[0]) == len(rectangle)) and np.all([vertice_in_polygon(v, intersections[0]) for v in rectangle]) \n",
    "            if verbose:\n",
    "                print(\"--- %s seconds ---\" % (time.time() - start_time))\n",
    "            return res\n",
    "        except pyclipper.ClipperException:\n",
    "            if verbose:\n",
    "                print(\"Clipper exception\")\n",
    "            return False"
   ]
  },
  {
   "cell_type": "markdown",
   "metadata": {},
   "source": [
    "### Util functions"
   ]
  },
  {
   "cell_type": "code",
   "execution_count": 3,
   "metadata": {},
   "outputs": [],
   "source": [
    "def vertice_in_polygon(vertice, polygon):\n",
    "    \"\"\" Determine if the vertice is in the polygon\n",
    "    Not a strict check because of the pyclipper library in which\n",
    "    the coordinates are floored.\n",
    "    \"\"\"\n",
    "    x, y = vertice\n",
    "    x, y = int(x), int(y)\n",
    "    return [x,y] in polygon"
   ]
  },
  {
   "cell_type": "markdown",
   "metadata": {},
   "source": [
    "## Drawing functions"
   ]
  },
  {
   "cell_type": "code",
   "execution_count": 4,
   "metadata": {},
   "outputs": [],
   "source": [
    "COLORS_LEGEND_MAP = {\"Swarm\": \"purple\", \"Best\": \"blue\", \"Best final\": \"blue\", \"Land\": \"green\"}\n",
    "def get_color(legend):\n",
    "    return COLORS_LEGEND_MAP[legend.split(\" - \")[-1]]\n",
    "\n",
    "def draw_polygon(polygon, ax=None, color=\"green\"):\n",
    "    \"\"\"Draw a polygon over an axis (not shown directly)\n",
    "    \n",
    "    @param polygon: Whether a polygon or a path\n",
    "    \"\"\"\n",
    "    if ax is None:\n",
    "        ax = plt.gca()\n",
    "    if type(polygon) == SympyPolygon:\n",
    "        polygon = np.array(list(map(lambda p: [p.x, p.y], polygon.vertices)))\n",
    "    p = Polygon(polygon, closed=False, color=color, alpha=0.3, lw=0)\n",
    "    ax.add_patch(p)\n",
    "    ax.axis('equal')\n",
    "    return ax\n",
    "\n",
    "def draw_polygons(polygons, colors=None, verbose=False):\n",
    "    \"\"\"Draw polygons and print the figure\n",
    "    \n",
    "    @param polygons: SimpyPolygon or list(SympyPolygon)\n",
    "    @param colors: colors to match to the polygons\n",
    "    \"\"\"\n",
    "    ax = plt.gca()\n",
    "    if type(polygons) == SympyPolygon:\n",
    "        polygons = [polygons]\n",
    "    if colors is None:\n",
    "        colors = [\"grey\"]*len(polygons)\n",
    "    if len(colors) > 0 and len(colors) < len(polygons):\n",
    "        colors = colors + [colors[-1]] * (len(polygons) - len(colors))\n",
    "    colors.reverse()\n",
    "    \n",
    "    colors = deepcopy(colors)\n",
    "    for polygon in polygons:\n",
    "        color = colors.pop()\n",
    "        if verbose:\n",
    "            print(color, \"Polygon : \", polygon)\n",
    "        ax = draw_polygon(polygon, ax, color=color)\n",
    "    return ax"
   ]
  },
  {
   "cell_type": "code",
   "execution_count": 5,
   "metadata": {},
   "outputs": [],
   "source": [
    "def create_animation(legend, land):\n",
    "    fig, ax = plt.subplots()\n",
    "    \n",
    "    ax = draw_polygons([land], colors=[get_color(\"Land\")])\n",
    "    log_frames = LOGS[legend]\n",
    "    n_frames = len(log_frames)\n",
    "    \n",
    "    def update(i):\n",
    "        log_frame = log_frames[i]\n",
    "\n",
    "        sols = log_frame['polygons']\n",
    "        polygons = [Rectangle(*sol).to_rect() for sol in sols]\n",
    "        ax.clear()\n",
    "        draw_polygons([land]+polygons, colors=[get_color(\"Land\"), get_color(legend)])\n",
    "        ax.set_title(log_frame['title'])\n",
    "        return fig,\n",
    "\n",
    "    anim = animation.FuncAnimation(fig, update, frames=n_frames, blit=True)\n",
    "    anim = HTML(anim.to_html5_video())\n",
    "    plt.close()\n",
    "    return anim"
   ]
  },
  {
   "cell_type": "markdown",
   "metadata": {},
   "source": [
    "## Lambda functions to use in the calls"
   ]
  },
  {
   "cell_type": "markdown",
   "metadata": {},
   "source": [
    "### Logger function"
   ]
  },
  {
   "cell_type": "code",
   "execution_count": 6,
   "metadata": {},
   "outputs": [],
   "source": [
    "LOGS = {}\n",
    "    \n",
    "def log_polygons(land, sols, colors=[\"green\", \"brown\"], legend=\"Best\", text=\"\", padding=1, iteration=0, fitness=None, beautify=True, show=True):\n",
    "    if (iteration % padding == 0):\n",
    "        if not legend in LOGS.keys():\n",
    "            LOGS[legend] = []\n",
    "        sols = list(sols) if type(sols) == map else [sols]\n",
    "        title = \"Itération \" + str(iteration)\n",
    "        title += \" : \" + legend if legend is not None else \"\"\n",
    "        title += \" = \" + text if text is not None else \"\"\n",
    "        polygons = [land]+[Rectangle(*sol).to_rect() for sol in sols]\n",
    "        \n",
    "        if show:\n",
    "            ax = plt.gca()\n",
    "            ax = draw_polygons(polygons, colors)\n",
    "            if beautify:\n",
    "                printmd(\"### \"+ title)\n",
    "            else:\n",
    "                ax.set_title(title)\n",
    "            plt.show()\n",
    "            \n",
    "        log_to_append = {\"polygons\": sols, \"title\": title, \"iteration\": iteration}\n",
    "        if legend.startswith(\"Best\"):\n",
    "            log_to_append['fitness'] = fitness\n",
    "        LOGS[legend].append(log_to_append)"
   ]
  },
  {
   "cell_type": "markdown",
   "metadata": {},
   "source": [
    "### Bounding function"
   ]
  },
  {
   "cell_type": "code",
   "execution_count": 7,
   "metadata": {},
   "outputs": [],
   "source": [
    "def polygon_bounding(sol, land_polygon, verbose=False):\n",
    "    if verbose:\n",
    "        print(\"entrée: polygon_bornage\")\n",
    "    solution = Rectangle(*sol)\n",
    "    if solution.is_valid(land_polygon):\n",
    "        if verbose:\n",
    "            print(sol)\n",
    "            printmd(\"## Est valide\")\n",
    "        return sol \n",
    "    else:\n",
    "        if verbose:\n",
    "            print(\"this one is invalid\")\n",
    "        # print(sol)\n",
    "        raise ValueError(\"Solution invalide par contrainte de bornage\")"
   ]
  },
  {
   "cell_type": "markdown",
   "metadata": {},
   "source": [
    "## Initialization function"
   ]
  },
  {
   "cell_type": "code",
   "execution_count": 8,
   "metadata": {},
   "outputs": [],
   "source": [
    "from sympy import Symbol\n",
    "def pick_random_sol(land, size=1, delta=0.05, stochastic=False, strategy=\"random\", inf=0, sup=200):\n",
    "    if strategy == \"random\":\n",
    "        sols = []\n",
    "        for _ in range(size):\n",
    "            sol = random.uniform(inf,sup,5)\n",
    "            rect = Rectangle(*sol)\n",
    "            while not rect.is_valid(land):\n",
    "                sol = random.uniform(inf,sup,5)\n",
    "                rect = Rectangle(*sol)\n",
    "            sols.append(sol)\n",
    "        return sols\n",
    "    else:\n",
    "        t = Symbol('t', real=True)\n",
    "        p = SympyPolygon(*land).arbitrary_point('t')\n",
    "        if stochastic:\n",
    "            picks = sorted([random.rand() for i in range(size*2)])\n",
    "        else:\n",
    "            picks = np.linspace(0, 1, size*2+1)\n",
    "        points_on_perimeter = [p.subs(t, pick) for pick in picks]\n",
    "        sols = [[points_on_perimeter[i*2].x, points_on_perimeter[i*2].y, points_on_perimeter[i*2+1].x, points_on_perimeter[i*2+1].y, -10-delta*2000*random.rand()] for i in range(size)]\n",
    "        for sol in sols:\n",
    "            while not Rectangle(*sol).is_valid(land):\n",
    "                sol[4] = sol[4] / 2\n",
    "        return sols\n",
    "\n",
    "def get_border_search_field(polygon):\n",
    "    min_func = lambda acc, vertice: min(min(*vertice),acc)\n",
    "    max_func = lambda acc, vertice: max(max(*vertice),acc)\n",
    "    \n",
    "    min_search_field = functools.reduce(min_func, polygon, sys.maxsize)\n",
    "    max_search_field = functools.reduce(max_func, polygon, -sys.maxsize)\n",
    "    \n",
    "    return min_search_field, max_search_field"
   ]
  },
  {
   "cell_type": "markdown",
   "metadata": {},
   "source": [
    "# Main"
   ]
  },
  {
   "cell_type": "code",
   "execution_count": 9,
   "metadata": {},
   "outputs": [],
   "source": [
    "poly1 = [(0,0), (0,100), (100,100), (110, 50), (100, 0)]\n",
    "poly2 = [(0,0), (0,100), (30,90), (30,40), (71,25), (71,100), (100,100), (100,0)]\n",
    "poly3 = [(0,0), (0,100), (30,90), (30,10), (71,25), (71,100), (100,100), (100,0)]\n",
    "poly4 = [[10,10],[10,400],[400,400],[400,10]]\n",
    "poly5 = [[10,10],[10,300],[250,300],[350,130],[200,10]] \n",
    "poly6 = [[50,150],[200,50],[350,150],[350,300],[250,300],[200,250],[150,350],[100,250],[100,200]]\n",
    "poly7 = [[50,50],[50,400],[220,310],[220,170],[330,170],[330,480],[450,480],[450,50]]"
   ]
  },
  {
   "cell_type": "code",
   "execution_count": 10,
   "metadata": {},
   "outputs": [
    {
     "data": {
      "text/markdown": [
       "### L'aire du terrain est de **81100** m²\n",
       "\n"
      ],
      "text/plain": [
       "<IPython.core.display.Markdown object>"
      ]
     },
     "metadata": {},
     "output_type": "display_data"
    },
    {
     "data": {
      "image/png": "[encoded data removed]",
      "text/plain": [
       "<Figure size 432x288 with 1 Axes>"
      ]
     },
     "metadata": {
      "needs_background": "light"
     },
     "output_type": "display_data"
    }
   ],
   "source": [
    "LAND = poly5\n",
    "draw_polygon(LAND, color=COLORS_LEGEND_MAP[\"Land\"])\n",
    "printmd(f\"### L'aire du terrain est de **{abs(SympyPolygon(*LAND).area)}** m²\\n\\n\")"
   ]
  },
  {
   "cell_type": "code",
   "execution_count": 11,
   "metadata": {},
   "outputs": [],
   "source": [
    "from ipynb.fs.full.PSO import fit as PSO_fit"
   ]
  },
  {
   "cell_type": "code",
   "execution_count": 12,
   "metadata": {},
   "outputs": [],
   "source": [
    "LOGS = {}\n",
    "DIM = 5\n",
    "\n",
    "ACCEPT_WHEN_INVALID_MOVE = False\n",
    "NB_PARTICLES = 100\n",
    "NB_CYCLES = 1000\n",
    "PSI, CMAX = 0.4, 1.47\n",
    "\n",
    "LOG_PADDING = 50\n",
    "INF, SUP = get_border_search_field(LAND)\n",
    "\n",
    "if ACCEPT_WHEN_INVALID_MOVE:\n",
    "    eval_function = lambda x: (\n",
    "        rect := Rectangle(*x),\n",
    "        rect.area() if rect.is_valid(LAND) else -rect.area())[-1]\n",
    "    bounding_function = lambda x: x\n",
    "else:\n",
    "    eval_function = lambda x: Rectangle(*x).area()\n",
    "    bounding_function = lambda x: polygon_bounding(x, LAND)\n",
    "    \n",
    "log_function = lambda x, it=0, fitness=None, legend=None, text=None, padding=LOG_PADDING, colors=[\"green\", \"red\"]: (\n",
    "    log_polygons(LAND, x, colors, legend, text, padding, it, fitness, show=False))\n",
    "\n",
    "init_function = lambda: pick_random_sol(LAND, NB_PARTICLES, inf=INF, sup=SUP)\n",
    "isbetter_function = lambda f1, f2: f1 > f2"
   ]
  },
  {
   "cell_type": "code",
   "execution_count": 13,
   "metadata": {},
   "outputs": [
    {
     "name": "stderr",
     "output_type": "stream",
     "text": [
      "100%|██████████| 1000/1000 [00:04<00:00, 219.52it/s]\n"
     ]
    }
   ],
   "source": [
    "best_sol = PSO_fit(eval_function=eval_function, \n",
    "    bounding_function=bounding_function, \n",
    "    log_function=log_function,\n",
    "    init_function=init_function,\n",
    "    isbetter_function=isbetter_function,\n",
    "    nb_particle=NB_PARTICLES, \n",
    "    dim=DIM, \n",
    "    nb_cycles=NB_CYCLES,\n",
    "    psi=PSI,\n",
    "    cmax=CMAX)"
   ]
  },
  {
   "cell_type": "code",
   "execution_count": 14,
   "metadata": {},
   "outputs": [],
   "source": [
    "# create_animation(\"Swarm\", LAND)"
   ]
  },
  {
   "cell_type": "code",
   "execution_count": 15,
   "metadata": {},
   "outputs": [],
   "source": [
    "# create_animation(\"Best\", LAND)"
   ]
  },
  {
   "cell_type": "code",
   "execution_count": 16,
   "metadata": {},
   "outputs": [
    {
     "data": {
      "text/markdown": [
       "### Solution"
      ],
      "text/plain": [
       "<IPython.core.display.Markdown object>"
      ]
     },
     "metadata": {},
     "output_type": "display_data"
    },
    {
     "name": "stdout",
     "output_type": "stream",
     "text": [
      "[10, 300, 10, 45, 235] Fitness = 60178.51535760884\n"
     ]
    },
    {
     "data": {
      "text/markdown": [
       "### Sommets du rectangle solution"
      ],
      "text/plain": [
       "<IPython.core.display.Markdown object>"
      ]
     },
     "metadata": {},
     "output_type": "display_data"
    },
    {
     "name": "stdout",
     "output_type": "stream",
     "text": [
      "[(10, 300), (10, 45), (245, 46), (245, 300)]\n"
     ]
    }
   ],
   "source": [
    "printmd(\"### Solution\")\n",
    "print([int(x) for x in best_sol['bestpos']], \"Fitness =\", best_sol['bestfit'])\n",
    "\n",
    "printmd(\"### Sommets du rectangle solution\")\n",
    "best_sol_rect = Rectangle(*best_sol['bestpos']).to_rect()\n",
    "print([(int(x), int(y)) for (x,y) in best_sol_rect])"
   ]
  },
  {
   "cell_type": "code",
   "execution_count": 17,
   "metadata": {},
   "outputs": [],
   "source": [
    "from ipynb.fs.full.DE import DE"
   ]
  },
  {
   "cell_type": "code",
   "execution_count": 18,
   "metadata": {},
   "outputs": [],
   "source": [
    "optimizer = DE(eval_function, \n",
    "               bounding_func=bounding_function,\n",
    "               init_func=init_function,\n",
    "               dim=DIM,\n",
    "               inf=INF,\n",
    "               sup=SUP,\n",
    "               n_agents=NB_PARTICLES,\n",
    "               n_cycles=NB_CYCLES,\n",
    "               isbetter_func=isbetter_function,\n",
    "               log_func=log_function)"
   ]
  },
  {
   "cell_type": "code",
   "execution_count": 19,
   "metadata": {},
   "outputs": [
    {
     "name": "stderr",
     "output_type": "stream",
     "text": [
      "100%|██████████| 1000/1000 [00:02<00:00, 385.45it/s]\n"
     ]
    }
   ],
   "source": [
    "optimizer.fit()"
   ]
  },
  {
   "cell_type": "code",
   "execution_count": 20,
   "metadata": {},
   "outputs": [
    {
     "name": "stdout",
     "output_type": "stream",
     "text": [
      "60490.99926962588\n",
      "60490.99926962588\n",
      "60490.99926962588\n"
     ]
    },
    {
     "data": {
      "text/plain": [
       "True"
      ]
     },
     "execution_count": 20,
     "metadata": {},
     "output_type": "execute_result"
    },
    {
     "data": {
      "image/png": "[encoded data removed]",
      "text/plain": [
       "<Figure size 432x288 with 1 Axes>"
      ]
     },
     "metadata": {
      "needs_background": "light"
     },
     "output_type": "display_data"
    }
   ],
   "source": [
    "ag = optimizer.best_agent\n",
    "sol = Rectangle(*ag['pos'])\n",
    "print(ag['fit'])\n",
    "print(sol.area())\n",
    "print(optimizer.eval_func(ag['pos']))\n",
    "draw_polygons([LAND, sol.to_rect()], colors=[\"green\", \"blue\"])\n",
    "sol.is_valid(LAND)"
   ]
  },
  {
   "cell_type": "code",
   "execution_count": 23,
   "metadata": {},
   "outputs": [
    {
     "data": {
      "text/html": [
       "<video width=\"432\" height=\"288\" controls autoplay loop>\n",
       "  <source type=\"video/mp4\" src=\"data:video/mp4;base64,AAAAHGZ0eXBNNFYgAAACAGlzb21pc28yYXZjMQAAAAhmcmVlAAA1fm1kYXQAAAKtBgX//6ncRem9\n",
       "5tlIt5Ys2CDZI+7veDI2NCAtIGNvcmUgMTU1IHIyOTE3IDBhODRkOTggLSBILjI2NC9NUEVHLTQg\n",
       "QVZDIGNvZGVjIC0gQ29weWxlZnQgMjAwMy0yMDE4IC0gaHR0cDovL3d3dy52aWRlb2xhbi5vcmcv\n",
       "eDI2NC5odG1sIC0gb3B0aW9uczogY2FiYWM9MSByZWY9MyBkZWJsb2NrPTE6MDowIGFuYWx5c2U9\n",
       "MHgzOjB4MTEzIG1lPWhleCBzdWJtZT03IHBzeT0xIHBzeV9yZD0xLjAwOjAuMDAgbWl4ZWRfcmVm\n",
       "PTEgbWVfcmFuZ2U9MTYgY2hyb21hX21lPTEgdHJlbGxpcz0xIDh4OGRjdD0xIGNxbT0wIGRlYWR6\n",
       "b25lPTIxLDExIGZhc3RfcHNraXA9MSBjaHJvbWFfcXBfb2Zmc2V0PS0yIHRocmVhZHM9OSBsb29r\n",
       "YWhlYWRfdGhyZWFkcz0xIHNsaWNlZF90aHJlYWRzPTAgbnI9MCBkZWNpbWF0ZT0xIGludGVybGFj\n",
       "ZWQ9MCBibHVyYXlfY29tcGF0PTAgY29uc3RyYWluZWRfaW50cmE9MCBiZnJhbWVzPTMgYl9weXJh\n",
       "bWlkPTIgYl9hZGFwdD0xIGJfYmlhcz0wIGRpcmVjdD0xIHdlaWdodGI9MSBvcGVuX2dvcD0wIHdl\n",
       "aWdodHA9MiBrZXlpbnQ9MjUwIGtleWludF9taW49NSBzY2VuZWN1dD00MCBpbnRyYV9yZWZyZXNo\n",
       "PTAgcmNfbG9va2FoZWFkPTQwIHJjPWNyZiBtYnRyZWU9MSBjcmY9MjMuMCBxY29tcD0wLjYwIHFw\n",
       "bWluPTAgcXBtYXg9NjkgcXBzdGVwPTQgaXBfcmF0aW89MS40MCBhcT0xOjEuMDAAgAAAFgdliIQA\n",
       "Ev/+963fgU3AQO1rulc4tMurlDQ9UfaUpni2SAAAAwADjicePUR6VMh3+I9dhYA4NxkI63Fbs/8v\n",
       "uL4k9LAX/cItEHpT4wmhi0o9C2jiuAhPwR67K/rySmuDe4qTcR3eQ/HJRNdISBdk2bEvZ0rJSQZj\n",
       "BDTZWNaDWc+fH2Ihjv0U+hKEX0Nu/ddmaLmr1ereRHkzBUfkgJ0XdeJ7rDu4cprENzM7r5C1p1VD\n",
       "JX1dwdHMmtZjjZeqkVcdbtH92mnUc0FJ5kDOPOMp+N/dSu+h2ziKrA8S7LZDEHUDDcsijH4Enxyd\n",
       "K5FJOQkTYlFln1EaaPRoTKrbqK1LD2Z+l3F2fn/+kXI+kdHGovvzmc5ZLU5diCgb/ZEMRYdyPnQE\n",
       "TGZW25iVvczAP+Vr+Ip7luRRbKdWkQYMeS92AkCCXDE808IIKQrUsFsnEw6mt5yf6WWNufz1Ix3p\n",
       "HVlxazRKY6NOvhZbL0nJR6osVjCq5/O1d2M497BT3pXzeToWknyyeT6QbLE5OpQONcgIffphKNgq\n",
       "Xr1A8z5YH4UX+K/PpUEcsOa30F27wb6M42gixt2pyQqIyWOYkQMxqCZkKDSf8zMWlYl7A7IBwdob\n",
       "x+fMwy7EfVRlVvn8jZAQ8GMTrXiiR4h6cgunIwI2rkAjeYXlRvJFQ5xFq9a/Lgrj8EUMF12LI9h9\n",
       "OXoQDcB6d7q8mWtolScv/Na/TpSPAMR9m2k7yoYetHAvZwRQiwv8npl7aNVRxGxYRDFRNm4pSFwr\n",
       "3Ejp2b/EN/ZRtKgKeAyYP0Msye27OUOc/KPwk/UC1llOD672tO2cw7dJiXn3I753rANN0QWNcK3q\n",
       "jy9EpPAyfCSOR4qIYb+EI7jCEIPLiCf9p4kjeHyqBSlhbjNIXDHMB2ruF+N399OZLozIsv4KedB3\n",
       "xaKE4PRJO10yV4oZcQHKBwg5dgM2rZB4AZrxm/m1m92jCgGUdJ/BqPYK3CuqgUfLlON0JoeMSwsB\n",
       "gmthQsapIbHI01etfP5RDjU1Ggu/gapy3ZXddaPq2SdqK3/aTMIhxllgRkrljuzD3wU0EKIcuYV4\n",
       "yM4RtKu3xjTjB07e5x0kIsNMNb9a0UwNQda/dqK0Jx5fXW58glEypk6abiJYDz/uZ15gGiBCmAIu\n",
       "+PGIWElDfJLUmHkwSww8WOMsT7Knuk5bJVd9ajl1PMm1pUqf5qbf3KT3dxGqzTA5SAldlnU8Xl6H\n",
       "oT/+XjwyXftAN4TIqMzyzgxIZeB+UtbPtMV+LmaY4i+I5StfiPWqqrUNEr+t/zDfoif/+4h5l+GV\n",
       "Q6JriGYXv1XWv4hEQKGGHO/mku0x2r85Y9UMu+Y10pcrAdVVeI28vcY8nv/zF4QXupAVf+ylRBB5\n",
       "iiBvNnf1eQMZiVdes5LGMsD4PpIFseQdvrUMVOBBrMpPw8f1KbjSTCUAR2LlQTJkQYQoe6hT9SNR\n",
       "F9GNtijjMAja7o35lTKylo2nL4UWpigCXeRNUG7t2jru6xbtAA2F07BoWIpzx3mT+c3N9O6yF80G\n",
       "5beKasgX4i6XTbvp2MMHsSndcVQT3cyNNE0dKl+PZno55dNfznvSffuuQkh0vlbfRXEGSutkvwmu\n",
       "ZCO9hatqyKnQPBrQxpC9JFmINP2n+PAJAJdbM1f9tEWVRxxu7UU+U/NEyzj8K1zVD0rUWEMjfF9k\n",
       "rngB2Ij9333JikIUG6j0bhSs7oAm+YlKWtKaKqrWUJhOPoHQG15plYVublUyvJ0M6eEwzWMtB+Kq\n",
       "uWAHxS0pgoDo0kbuQqeadxKMWfDmzmQ6QVeEWF75nWQ/NAMEPYvQNlaP4yYC8r9WwQ8rCDU2HP5u\n",
       "C6oxKRKT9rJ9EGGYeYfSwXdgQzJM/1ELXTgSEo6bzL4k+p5MaqCVIEX62bbE/Si9SP791Hj3uftu\n",
       "jpLNhXI7pQr1KjnK8zw0eTLjq2aESIrMWnTG63CwQnHf+EUTD9En+ymf824oH1ICFECEKJNh022W\n",
       "24JW+2ZO9oDR8BjbS1Do/8J4LVlhV3Jupnn8piGqwmSbPVcwHwIJws47XOWa11G9d1KQkcc9uLYd\n",
       "9UK0pRNVZU5KmB5UDwvVIfo/A7rGWMrla2n95W/2XZ+YOEbpZ6aVMEQhowYNXYufdZ71qMAAZbt9\n",
       "8Sm7xF2kzN7lk32Ne4nOAVPkEIf7h4wjXuBn5FbW8d6/vEZXzIAS/H3LQt9sIbckn2/KKYW+US2v\n",
       "c0bTqDUqP+AmVqHC8IQdCRtGqmKInusZ7T3BmoIwr46qxo4iFAlFojzrNlrY3xkXXpDVI1XYaKq+\n",
       "s0OksgBmD95TNSMszqbgMRP/vs576w66Xw3SRt2WiRw6a34V2fBESKAFrx9/0FDIMUR2/hpQxzTo\n",
       "rBNgHPtsaB6srHr96KHO6UuEKm4D5EW3yegBruBOMfAOya7okZEfNE/es8qQxsoTc3deW2vB8o+8\n",
       "/Qa1bL37FOrqsF+lYbYMm29uBf73Cd/2Pzr9p/CxtYf8hu0oKPwztIUEAxoTtqDL29c9VH3fjJYE\n",
       "7oB9TSY5vFUem96lN5eRcOT/QBDAv5EhPWz73HevRxdfwcXQMRh/GSHt6ZdHSZrVy3j3+yUeay9H\n",
       "u4LeoB26UkDGSg9WrE4roaljQ0hxeRDbG+5SSvrA4O9qMD289OM+BO8jkNH1IKrQB12Csq/we1PO\n",
       "Dp2PSr8+726G4fqqjFxSIZPQ8pxiiUpLvzqHoCUQvMCviNnWPP9Rty6kpz2De0xVxOvWyRLKwEwS\n",
       "wU6S7Ibz+DwC3DxlXA8GUOc59RX/hMeC4lQdJvocCwQy6ix6280KnPvG5QGzShMZGfvxR2kEHaJs\n",
       "UDUholj+YR9aK8leOaTiKxxElwXipuswDyQchIjkOM7xujcGE87PnMgORnxlG8S/N0O28G+ptp1w\n",
       "r/HLwP2i73kb7ihfgas69ZjR0Qf6dTX4dnXC20c+sOV314F2RDGOA8TgRqWoXOGKhqNL/iKDCs6M\n",
       "ucoNWPb3tvNeGncq7+ATqlGjwmKvdqY+yWE7huQuigp7fzs3wN7LEwRPKJ5UBOJIkV6e76NYck9a\n",
       "3go6VoqDxxGu58eEvLzBn3xuGkKnyxwRhsOss8u9q15MCTGQUNJ/RM5QRb44VUaUvWSrXt457Dvx\n",
       "Aewh38LptTGMPFcuRK3SuIc2rvB+7NjaPXb4SmMaOzgnr57JX/yISzbHW+JU/ZlXyBp0AX44xf5A\n",
       "w51HI2T9hMbzR+UhcI/h2xculQkQM4Oy3+XNC1X1pdhcsYCZcbZcvjl4YZua8tkuWnTYf9cUv4u7\n",
       "9y6zvENX3DqPwY+FdhFH448MI1p9s652ZJMmvVQAJlbDp9/lL2BLN7Rur4kqT/LNhfpFMZi0Ss8d\n",
       "p3zxtiAnwpiHSmytGBWIIXhnRnVcmC9ZF7JnndDOtJNBFSS61YXo++tyCv5rQ8MJZu06tGYYHqpC\n",
       "MraHtWWel9F4izFoUpVcDR1+D91F3Z/au4Ca6Mi1QTCit+sfOqlNPboP9H/v6q9RZbZT5I/3hJ9T\n",
       "S2W4SdbpQuG+LaCQICbhu6DzQ7oQy0SYD1G00qxoC7hKLgB5pkd9LrHR0ABnHvaHrrEpbTh19/Fo\n",
       "ts0jVReu5t5N4VEYiDAAlQp++TwqYDodv11pmQaW685fa+6nsfHandUqukr0CMDB915NClOwO2tr\n",
       "ljapjIph6BfI/9Q9jgIQihuNA4VI0ToGMKqpVCHiiNmmSdht6sc6GMWVCvDQfNcjox4KTSOJuyDf\n",
       "XVett0ah/RNBhZ6z8f7SGYIHyI47Rrax9hlSMEQ1GQPb6+M0mA407493YflHW7xEt4NV8HiGgTA+\n",
       "BzyDbOBY77MTTnb7aD9NxpSSWxrdcEG9cXerTJmDLXNTnoqDrAO3pH+3Kts/HpT+ldFelr49p6Su\n",
       "KCx8iwdF7ys+SSjTuUbLkRKYvbpMFyzRdF6inwWPXYWGzpoJm8Psbn6yUHravyt3r5Tqw1JFHl5Z\n",
       "IZ9DkbPTDtvEiEqVLO4MgUqh+P2IiIyHEW85gs6ORT7A947UhbPQPgLfixYsIrL1Vc+hT78Ji3Kj\n",
       "OkIVBfyRKhWkXt5QLmBYqJhVv7RUOrXI9fAOVJ+SE0EdbWreym20sh3JDjoS/+e1Tgl6lmPMywMj\n",
       "3sb1CQuTgSpayOL/Yv2BhgJ0S5tx8gK/8znGlZCVFqOsq3IOIqwRpYn+QBZhQiYo51o/HgEDON41\n",
       "qj50iZM2ghV2e8CSNB1GkOBb1Fo4gM9/b58aiP/ITq47A9awW7+Che+DXmlTJLzDemENyXo7dMiX\n",
       "zBpCq9ipW0n+Pxf7O3DLCS7iLsnOX5hTY2iYN3R23o8GQjoDs20dFbrb0rW1XsNfF980bnKwvAr6\n",
       "XXpszyjiXUuppjKkOpvyHkgKE79hu9BnVpLbAZPg8zs+xDkKEtxDBBYP4jWFjXDrn9rFpEZ77pQr\n",
       "gA9B/hFdQbC5Ci+VuZss/qHCo0LDCpWjcZpMH9eESU0L0xZ10ttXiH1HZc9wo9VNxpqnclmrxLhQ\n",
       "uf5oGpESoFiKPkmQRTeWJK9bA/dPu7QrNVykhyvgQnG/JKMpI+C3NrwZFtmzKgxdWxqshSDWflIt\n",
       "T8SuwjVeqFxqB6SVxXmJag+XVLwskW4IExx+8FaofJqE/T98D7dXwmOnUD462fEs7iTfB2SJ38l0\n",
       "LqmFbwAehsEVmwI91DFZsToHScVBmbrflgy7+0CViqtRNNqlWOtjg5DeFOoqEzZseKpCMA6T6ng8\n",
       "A7Cdqi/GpS9TU674LFiJmYmg6RXd4Mt36AH+RefkGI6JRKv1R290UlEhKnNVIe4HSmEJ7mwq2MCq\n",
       "Zfks/MBMbnVjiW2bb2ubm5n+dJ66/2ldOlOKgf7rcDKk80aOStsRBZ1CvkKR+5ZO//gAoTMx9/7O\n",
       "0w7myfFZYXaDxhOyvx0+w95K3HEJG1q+2kNXT4pK31EjSvUyJ9ECJo2gHKycUnSHii/AP3sLZy1C\n",
       "CyQeQ1nKYNx16CyFDaY9KTsPrIVwbJnJqXVR7H+ITZg3txflEmX1/a811r4K0i3cjr+ErkHgVMwb\n",
       "mrE4eYAMzKj0HcSX1tScr5mRfD4YsHcMaE+sa02lsaXALq3Fsp5IzQROf6u6Ub9LZUPngecByHwx\n",
       "kX2ij4YXm4zgoSM0rk8LO7U/ULVvv7tgKiOz/yj8yUyrIn/r3fQWtSpxdrY9pEuZWttXgqLynELX\n",
       "nmrYvRZYaS5QkTL/M7kmqgetDrVhDivbY5zN3MOSFFd/FruOceFy35tJjqNb0FMzO4v7hMrglygC\n",
       "ms8NIyjlTpZ1sPDH7wQIUPBJOlpVFdGTGq5cl9Q7iCLaPT8fyXFQDUtUnle+gmIEf/hDAfkpftLt\n",
       "Xc0WZNHsQhKqIb10DxUDzrjmDgmFt/DYSH+m3Vna8bbv17B2ZzN943tUGD6/h6G66xbCkex/YT5i\n",
       "uoXk5zjsUxGZqzWpxZUyTfUC5/PVBiZHrRqGy1FRzQ541EO/mAzFzw0RP5NIArM+yksRsoWBg90q\n",
       "dS2iuYm5qVesyJs8oivM4rnhFJHO37G/8YdgBfktoSFtCk7qaSz6RpWf9I5tPXxcUd7U9yoIEKtn\n",
       "UHnk3flkn3beSpRbzi1hJ7p1f88LDeB/CPUWZIdnM3SIXnDteOq3qM5MXm0fp+AODDlSfqfWv99R\n",
       "ERMFbCoE5A30UDLV7mwGFsv9OEm2HzXCWN9T9tuArjPRKgrr12LUx5vB2a1Q+fHnjG8mgIq6hcgb\n",
       "md/3mBRi+vyWXHkPa3ljfP101GUEe5sHABxnyn02iJwCcKx6Of9HmxPWCbs+Z13Z7EEDYE9PPmle\n",
       "KlfA8rTdaibOWZQOOhn+6187veRYDTK5QzlwMGdFNtDTbBFu3Rtq4HyER19wIcNKJeU992bsqlAE\n",
       "BSG98vpqc71940CrvkDO4qcca7OoEz5JIVkERty2yCLxmQ/uL23yh7w8tH3t6g61kLp/azenGm/d\n",
       "zBrHB09/WAYewJpejqbQKgVm/dOhFhWKqy6z0CfpMXUCCIM6LxxoatGfNXPu7xSeKXMxROCTj+UB\n",
       "gRcmZBP3FHOlW7rp5LiDH40EXMa7DA8sCG4/IRkgTNOgARcrKBBUOnEDqJhVQ3Xgk/EKBfyc/hwI\n",
       "/oCNHxotMnqwZ7o28ABdVMKOx2uRht5iaICCjjiDQJj1QEgAezIPEwFoLbAXMEq47evO1/OrvU7t\n",
       "zNzXO4PEpBOFJU6/pOqO/SXNRWf/knzukLN7GbMFmBJ99gYWjACRzNzFbPQU3AIAi9BAUyA+Mi0F\n",
       "9bSkjlUIpuLbg0pAQWq1sL04iu/kxKu7sY70xCtil+tz0P1kSbY1D4su0WF7f2pzBy33SFvyucx7\n",
       "NYCXRHqXLr8uOHNN8VCmy6WAE2Fex0C9xmp4N5hLE1uiSNQOtObb0eJl7POtY/A199X1XBqoz1dB\n",
       "srqFIoAH4amd/8idRSg8Htly13ebgeatgBt7U3K4u0NNaNONUg8+TflmAatKXquot97Zzv3WVaCE\n",
       "YSn5Gn0pqe6C26K7kE4a88KxGC+LLUsp20MirasTdBL6wFJ/1ph0P1vU8X5KNNy91tr2+KrOnN88\n",
       "xgVLAnmc5PjNtief6qfQfYx2wcMaF2grDKLlmhL5bXjZUn57A5dXu1JkXl8IjaX/vKKz3TVmLHtc\n",
       "GjR3IlKkkyJIZGjHeoxeREeWtu9mxxFa8lKhKAJza/vkM0YZK9BKZGXPVYTu3XfZ0D2EKOPomQS/\n",
       "dopE6sbe7sYC3e6jQMLDCqUTy31QeTbWiyu1hrzUoAO9L43jC0NETSNJx72zjpZ9KT+1KF9JwsKJ\n",
       "IeqTlO/F8FbkT+GuGS2Q8IORHXMpeRTmXIn59mStz8xNTCga3a9KuRPc7kW64N9oviq7Pzf//yZq\n",
       "IIdDkf+6dX9r/zq6CTn7SF6Eggco4YRoTZiLUjzDjyVyl1TDPNwu7dG9l7u/9e4mWc20NM9IwMU1\n",
       "DRPC6XrbnyE65sizwnHCJE3UrbabpAaQmlPsIrMWEnL7YvtTkhjP4Czo0YsOeufcR9ODS1YRisFg\n",
       "OTnYKmXtInztAyVIPaTBzA3LzTBCayAwBx5+P6eO3jBEYgyZ/nrsFzx0OtwY/YUdzHv916Ni+J0D\n",
       "/gr2vBEWVibGAu+KFGQGhYv3/wt7QDowpGkAus7cJuG1aRsgaQ9cKmQTmPx13pSrN8FFRp1GRjbR\n",
       "gqfi8ZItoTUVORtp/gNjRS0d5sBE+f/k8UjwuPoBNmMdE6fuRf+EI5LPY7Scv2xjGnP1LNgMwAcN\n",
       "rRfKEJ4oKABKHMj+/y0riOlPMxC591hGMEg+G+CAXCMHdk+CcKB+UToHpHoMWZXc6pYmQeKkEDmr\n",
       "Mxwzp4snMFJ/kbsalhlInPwNG/CuLsmtZmT/ZTD0cc7oOzqTdyQKWmLnQLTvaHuXrWAdK7RVyqU2\n",
       "kQmj2dZG2YxyV+PHuJTK94wv+gETpBzUaC998S7R6zol0BlouC4fB4oaPEmolvfq++RmdQ8V3/FF\n",
       "bHLduTu4TYnQWG4e3O2Zun0pVnn9G9KdR0YQqI05ySjy1jIXnFlvZLYQw+6AIAAMOQAABlFBmiRs\n",
       "QQ/+qlUCvMP3AAWpHyVK8W/z9poNqIaHYS54mwf3VGRKYvEsDpjRUZkDUml6c7yWMBk6QZq1DRKC\n",
       "9UO347ANd8qvOmSuBPgQK4khIol9EMgRf2jaG+utRr8DMZmM30O5mAWAbqBTDFOaZ/5gzPW2usiD\n",
       "h/EIybwLQLnzn1snZtWK90hhr3JUWqYPe3+gC8q+MHvoF0UDfOZx/dz/4eLfbOMlNSy4aw/iL6Tw\n",
       "4WkgH4NnbHSzKyUl3DVMymjAxqJTYsvZ02Jzyi+8v3E80+YocADBieG/CxJm2/isLPMqs5mVhGQE\n",
       "NExo+AFDfSUlAcZoEKcQ73B74A+iO/kBB+efhCSX24bWDHcCC/lGDhRbJEjr3XZYZDOd2gfV4MCr\n",
       "KoslRbsfwX3l6n1Q8ExV4cbeP8yHZby9S2WJooahVfbEVn4Web1uJKBchPIzkvTXLhS18J9vzhHn\n",
       "/ZgNiE3Z6j7yd0gfJ6t2cKjbV8GwKcf4JWuzLFLfStkbj642YcGuFbvd3SSC7+pQYtkJwi4qcP4u\n",
       "oQJGJkAxpYIz5Oyb8IofOeFSXRbBcALd/cPFaTo77qhmT8Do+tyAfd3eHrG6+aWQQNne0BPIAAHz\n",
       "+zMs31q1RRAgIpY0YP5WhktjrNWJ4OTf6BTKeOdsgtgNA/Gv/oDTxo2rSJ1LBHJ4H69GkypkoNWS\n",
       "FT4eB9tLQUq82msNEodbcQt9qBrTvALDyzPpQ7xaKzdlnfdYOsouEDi4bEIuH8voH/521ilcl1oL\n",
       "OX4zhMsuLE9sX/KHHeVZMcncNXWTwoc4+7iAbGwRVEMwr6G/loezR+o23UbzDNnKHoOu3lM3SWW+\n",
       "a173M4m66xec6yQnzrUpHMrPWDcPJ/2VmWm2XVSpN6KRTw5yJGPRKE1ILOhXKq5xBfZ2g8vs+SfN\n",
       "vNJzJxBmQxojOkKyHcpNK4q3LgvqzRXnEa0kjRsga5IsDuZ6SHlVUtPscIDRcbj6BJW7nFiYgfQj\n",
       "EMHddS8XnwHJ9myWdd4GL6thlTtTlhYwKSUx6UoLKbgEebZjQFbkYI7KZ4GrSa/ETpZh2FfDIXLj\n",
       "JzC59I6oUK/T2rIdEk67I8Ms63MZdi8YGipM/mqgfJai6HdlAMeMjcv9oSqmL8uRQFGlJcmJ+EBQ\n",
       "5fzYPrqC+pCRbsipW/tEGBcOrl6vowf+FnnXTG/eZYRstFAFMViCBjEPNSr2jypJ1rZwU672d2hL\n",
       "aIbG/y5uCkt94tYXG61cXmNUmGBcUT1RVgmWJ/LjSG8zDRrf8twKpFjv+/uzj94OekzhcoAUiBu6\n",
       "5CXgArjW4/Hxl4acwHhY/6DDRcgGfHJO4FF68ttNTiP3opYKN/zWeKaALdPcs7iZgAcTkjrx+bKm\n",
       "obPXdze7nb0bo5/JSlo5m76sJRYlzRi9aqDRMgavrEvvAJduweIHTR9WzrKsvtpwkO8QzUo/mB6o\n",
       "Ue6PYh7+JjykAblS/BJDFq9PnpGdBZ4KtSMOcJDqNu0/e0QSn+i6eSFkHCLbFy4jE0XXdecQmf1N\n",
       "m209h/hVgmbzzDOwHUV8VDY9n0Fxb6IgJzKdqW9tun6YogUDw3q+H/3nfva42QFrzsAiKJ5TanIO\n",
       "/y3Z/jyZGJrcaBoA5AHWCjTfai9Dm/x3Nyp3wAAHcYJxi1mcqnpRpFwWKZYdZWF9wy4oGzS9HthG\n",
       "9o+aQklfQnR6bq/+miZLrh6VpHVCLwa9OnUFffZdPm//YprmL18pNZf6C6BfqwPA/a3Mw0ofyuDb\n",
       "Qyn+OfVGRADjBXpQgp8l2rdyLP4h3arD1XGINeGqszK1l2fkb3CJqeaU39BK0/w+7a7tfzKP5t8G\n",
       "tDDRA8bbqZjK5X0BJnm7DFQZyhL4E5xIXdJyagREP5/FP/7I0h8J4N0e2PrBe+44Ms9byXW5GISs\n",
       "E52OF0ZRWMl1i/D+1+6wHM9rlrotGqFLpjWJ3L5t1r86ExftZNBTEFw39Ek8nbhv413akB8o6doC\n",
       "aeo/JX/iiD/Xe6fluDFU2vmhGcXgV4dXFu+z7urIR9SjHiXy9OpLYXCvWTTfmLxKm/fjB+f8/cvO\n",
       "8B7a9rw8IO+o0siFgQfirTT33c4I2JcsIPDtNY5tzybTVlhF2yHw8v8TXseag89qkVUIPN4rcPOA\n",
       "WgvKtmgxwAiQgAoJEIvFvYAAAANvQZ5CeIIfAFxLRAAHG8YAHZ/qAyoy9QyYURxQGf7a31T9f3S9\n",
       "SP6n2kNMk3fumezxfTRPZqbsVzyBaIa8hJ6TIH8zzu3OJ94SCMEzlD/a4DNvXVYSnhHU1h8qLTFv\n",
       "etzZtOI/U4FxrABaYHKwZZflPs4gWjaC0is2wg4LXzO+E5VAMTXaO1HW8ex+ZwelcTe0bKWFl0a3\n",
       "fd0/tx3Ro1Ar6clu3tUArP/DYReNkFg0jCdJCKQ8gaJtI0PXj9L9mn+D1Fh3/uinoVz9hpY+xL+R\n",
       "3+QiDTzOjJIMh+/Okb+VVTRIdUrFZ9mMe4iHDcZ0BJfYBiZSODCqaYk7iu9XB9Qvm6C2T83+DWyB\n",
       "uhDUcHEq2xuzuum1BGPoh80l6etUEgCr9ij/iXJP8GYWnpgVD7IEt/g+JBsxVWEJntfU0md1XiKv\n",
       "Y9Bk+/tTUMS87hPtrSvI+qgtE4BFLc+nTUeFSha+DPJVwaMNWrSkc++nTEIEdVwjPIKuKnme9hLB\n",
       "ETHSPBCjT5QvrRngyzU4X0Z6WaPTiHFMeQ0aqkZMuWwfhjoGA9Zrfh01Ke90/0++2YCOrJ07Wjmw\n",
       "eNQuZ8gmf3ne92q/2LP/1xVrEb1fWPghIRBmOfQvdO+BMFR4P4CTooR3CTyN4arWiLXjfFIwbLnx\n",
       "BmegxoTVyTzEs6VhYVUPkUobT7DKrReclCSetVCD0Yt3hnfjs2CoUSYO60/LZdVV+fCBvp1aHy7k\n",
       "b3Sa7rhdv42l+Y8xYEF3QUXHyhVVeQ4DaU8PNues6WyTSlu3k3zFMM4kjyP4pQLFO0i+FtOb7VAx\n",
       "4loamQKvMHMeRd5n9iR9p/+N3It9Wi9XDi/A8fyZuaKZi/wr0xZ70rLzU/P+fzicrlGHrm/myaBe\n",
       "hjK2MKvvu9YuBH7poqB6InXb9BzRezzidNB7hLiu/LPPfnkyEELlH6oZVJHQ9iOasB9HrK3NUiBD\n",
       "r5CrfXGbE/QPOHq3oQ2+bd4eslS26ZtVp6lqumLCUlrlwAzm2B89Ydh65hFPGiCADZBIASexO7hV\n",
       "OvnohyazhoE7Z+G1aEsSoiMxX6TaEp8rNIBu2P9xZLI+tzczvcxZuFxxGtASvtikFb9v/t4Xpvw2\n",
       "IDQPTAk9LiJJ0uj4/PkZPgU2lnvkT9txLIzB43O6zP0G22Zx6UBrM9ZCdPZdAAAAtgGeYXRD/wC9\n",
       "CqSUz7cmvR56SiYWACH4gu/X5PXjOf9hsWpapXjSDczHdqtuVSwfttQiFU+MpULjDXWJ189cxX+V\n",
       "/f+6kXDR7/Dmt8pMsqj2/RKidwiRx/OH8jazNZTLf/wN22135M3EUeX/4gRlfqyuN0vX2Xo380v4\n",
       "7oGzAxP0JI791En3gdU87dpT2m+D2x7YcednyEajwKlGjRKD+HYNclDeDMirIxWDudJyC6poo7iV\n",
       "/02AAAAAxgGeY2pD/wCy7GQ7aOW0XhlVEwAQjX5ziZz9sSvIgijaYpDz1yg6F7RGOGreyTzqNCE9\n",
       "yt0zm6nBzjILLHxuO9ceJgWsB/LjIYmyF1gXaCW0B79NmnNErMA/hUwrlN/wZPjV0UfEACs05k0f\n",
       "SWuxdKajtsQRazGREdi13kH/uEbf+IEfzPDaJVk0WMVobel+dD9EZDb8OfeuaNuRObUvO5NQEBX5\n",
       "z69T81ISN4WDv3Pze4r2BuDY42+5LrNKQgMPXBiyb4w6zwAAAyBBmmZJqEFomUwU8E///rUqgV55\n",
       "6wAVn1V05G6s6OXJGnGFTAlC1+6ZO6UswwiKG4cKLx8JRvgfvHVCDheNmnHY1+mCXsqY7nRjhjkU\n",
       "L0aX32+yuY7tKoy+5chpRSrjv+8H+wt+2vnhi83TTQvqzmtdTtnVUUzdq2gg7qz3BlLSohADbXBQ\n",
       "tayjLqMcW31DSEL6Yt3iXkkHEh5f0/Kk5lphRovuyWReapBjg2fBjDacWg2GP62iZ8hR/6LElptQ\n",
       "joNJs4poQagWXClnd28OtL9PY1I8KS2x1FRmjnpZM3SFYhZ6bbkizQoAZJGOEHIRFOoehx8Z5+pT\n",
       "xgxa+TUYLKOFiBKRD2b4Yi2cDgWB20C30QnZwwhTBRqTEWccDl5f0eJA00w+6zJ1KOBuxxUFXidz\n",
       "CSl/hFqm7cTjHD9KqO9VKRh2xSf2L195S4+LapQk7Q23SrlKPuR+jbH7zg2uwA6XYnyFG6ME0BmI\n",
       "cX8hhA/icISkYR/3N9twl6lCqGTbVj6T9nU2bqosYlncrQEURnvUxvfNfQCn6fYXMxjU12NzFsWu\n",
       "WqSvsHxr6PWoRazD9sUuIQhES6JGSaMV2NNitAb7r4nHraA8ogAABPB4sU7zgUPgmBZ7trUsQQjc\n",
       "ToRb92sWMz/x2uASoI9XqCE4k1PqSTi5gctFzPj0Q2H+8dvePGaGAzmV/4q07070IR5Xs3f2JwdF\n",
       "jIwNv5fqOaObnyUe86XtmNA5fcCaZPrK/2uccCb2gWklirxpcwcUZbJqhPcc3GZHHv2/DAMDBgLE\n",
       "qkhMbnVGRq/tqQteNqP/hC4xtlcJ37j04zsPCWYsm7B6GJG3A8l9Wx/BbzHtmMS3zWFylWYFn9ZD\n",
       "peqWz6xFq9PIVg4+OhnXPcIj0wsaiU58f2+kFeFiCxuruQIUmj8ycb6dHWwQX7WDFKKf0dpPEz0o\n",
       "/K/4xeI7GbLBNK585Ar+zSSTYShWYf3cMbXMsEEJ2x9a+p/62apqBQgCKqw4i4oYUdHNtEk+TmYK\n",
       "kNng1TVlpQVoe4sgByVaTA0swZawmcv03fHC34VQU3b0D282SNajgQAAAbcBnoVqQ/8AvijQATtz\n",
       "5f8P4m71dAhgs69M+Kv78PCVX7a/63iRdo74R7LlHudX062uKjRwLfPtG1kvCsiaygipKXp179ix\n",
       "0IKMuevhJeqRAMY+AX2JHxg+f2P/cezz2WbdScp8XeRI/t0+rwKdj/oU5/6Bj4tnYnJHGR0E8Af8\n",
       "hJ2CrfVxaZwLMazLxfH2LiN/+tA6hJI45ThIVGHoQLSYpGCXt2iuzH56ZAD6PkByH98DFLO0MUf1\n",
       "67VSvTlB1bmlNz2vXwT2/InxGcNuetZ6Vm/xBOMsCEifBLDAO/zBODRfikoMYlV4ncn74FoCwmAE\n",
       "eOr2541HnczOTwjdhN9iRObkZdcc+24XPIyjHpJ5Wf/3df39SOiZkdhKHyX+6x1W3725PEqzfHEs\n",
       "KcmZQ7uw+TXJinflVOqLL/xAs8H5vUVQi7KApjFCVMN97azTdy3kkJ0kE0KCIUD5rkOdbGXq70n2\n",
       "MSHbZj0JRmHxVF2foDoY68GvSYHBrZMu7qFuWjfd+SEiVwQHSxbIb6VCNNeM6BMock0u7GkswVDs\n",
       "KWX9ZKI2WZE5XNTIVZEDMHZmQBvPq1jS9kLXAAAB/0GaiknhClJlMCCf//61KoFerwUACI62k1Ca\n",
       "aJt99TkgSkRHXg6A1AfDDska0YM562ROTGuCCOBSNBtiaHvkt6NrstCqnzE4i5UUxnnoFDn7bSD9\n",
       "6jeJs9o04qpTsx1mKmWlObJ5aATsORip5AySgOEM9fpx53tzmNsX/X4ONjh/0pGudsgdGXx6ywWn\n",
       "/QYHfuE5x7adiO88m6+Y6P5eeOd84QPAkfy4qLD5PjtZBHAzOAJhOQa3E9xjsD1bidN+rCE0slWA\n",
       "ANDpNFQt/SLD9WVqnD1DLjIfQXvUTijNoPrxoSureYxlL3u1OdmwjMqnZ4GCDL26t0KIs+OySDIQ\n",
       "0jDQLSnNuXH+3QkPhM5VDWpqbDb/BEOBlfDxzmWzNBOvpUNLvANADVjPoFVZYcXt0R8Yd4+9Q/DE\n",
       "/n8xMhYur4YhzFU1wrbzvMnCpLXhwMXwLLw6SsKWEinXzqjtcSvTUvGBLebcJyAJ8FSHtsRpLeKD\n",
       "0ZfltDwbnC9/z1mU7yB73IZDMM2NqSnWv9J8Tj2tpI7isglJfOu1uBD/Ph8B7hkNHzEOh9aiVc5V\n",
       "I2C8oGEt25ShGYi5F50bqi4hNQaXohessxLypLUApAW+qSpkM3buBOG3P497phcV9LY7vBOOCiGi\n",
       "hZ16gtavfMJFYUtZrDOMcY0Lzf7eblWgrqW6n3EAAAECQZ6oRTRMEP8AXEp6uc7vBQcUem6LzABO\n",
       "k5+rT1/P9Qju97im6k0XHWf1lt6Ptn72UdVAxknZ+AmdE4KfBhVR2TEkBtnbRw4UTvwQWPrdkrK7\n",
       "Mr+9uGfMFhGiYyd3gaLJq3BUnWXV6kV0a4+bpDekj4vM+b5zWzmMDA2DnfaQ9fRsc/TRP5sZGt1q\n",
       "Ekz4DLD0NwtpffiFNZfj0VaNP75jU0qpEI9CMErbL1cxVcsE/CabchPZQSH2h49Ka9g3uAtUMX2r\n",
       "QqL5hKlNKGpcfGBnXm2HPn8FBNyumTKy9xy9r2WoxOGJPcHM5wQ6/vB58dvE5klqSxfrUx6fo7HT\n",
       "PFZozwOAAAABJAGex3RD/wC9L7c4dmZxGhACE7Ts5Rf/rzh5nBYqkSlPjMUrhQDeZA/G4bsSf3hi\n",
       "yRTA62RojyY8nUyV8++fRWvrixddxr/xvODxR/M5jYVDCkpbA6EPP4n3TPykc5SETYL5/P8iKBMK\n",
       "srqDYBUn3plhXZPsFImbJ5PfZBmbsivHwuCcoBjnidPgbwcA0xdiduDvZw+Cl/RdT+Bk2KQYET4y\n",
       "6Q55iJv8ZXKqx7wMUPnjKh1y0MGVI9pjP8GpiIwvxFPKezp+3u5mtiFyar2iihkzfxl9kXOAb1mr\n",
       "S4aWN0S921vDxsMkGHFiXoPnsr/VxmMQpYQf/K6tLD92mJwmdKoyUdbRI9iINntSdUbFBTnwgRgd\n",
       "V7qRLjv1+yo2lOZb8ArDmuoAAAEEAZ7JakP/ALLsnLSdMwAhO07OUX/684eZu0c+kcVeFFK4UA3m\n",
       "QPyuzaL3TmLdrhN2NVhMRquNuwcMnR6eZhGMqButTxVKOzQ89rsy+O924l1gc2yAxKPASsfPmuMI\n",
       "eAsqBib/2PPSbKL7FIiP3ikBUUZgyFuVoO+jKW8BowO8xl2da6cm6uVk5/HmMNsszqgM78ZLDVA6\n",
       "B/8PzVnWbKwQZMxgXO2xOhXXRPOVi/o8hpHs7RKKe2gc/vc25YJe0IJpveEd0DKApJc4LSUoObl0\n",
       "wB6vjhGJG2NqS64CE29Isae5be0lIrjeBjcC46G9VaNK/ToFYSXSY00SxnOXvYAW0L4XnTsAAAEj\n",
       "QZrOSahBaJlMCCX//rUqgSuBqaY9Rqqko/+MYAP5CY3OyE9qPN4xFRzlJ+3Ohwg1tHnXH2DGLmJQ\n",
       "DkHx/nxp3a/voOtRKmn5HVF67nBKKGVnW+bF2GvnrGocLn55VhYR9Ir6//d8RDbr5GfddDSrJJYS\n",
       "rc4VYEfZYAPGcaA0s19Esb7gr6VAVy0Yw5L4bARH0p2DPZEZwouSKrdVQSddsdWKL5vJwxQdmowN\n",
       "bkvu/gL9AR25nYcwIfpAd6gl/9BgtPyuDkgHARgPpPWNAZMvNRMcnXbddDStNJ5hccyZtvWMvS93\n",
       "R0gVNzY5B4mpWxRPXy9s6DYaZAlgGNV8kOUZi7rwDQcCbXfxld6fq6Pn52zhA3C6i2F/He+AIBhw\n",
       "IKRTMDbgAAAA50Ge7EURLBD/AFaKpK/H1JgBNNtkqV299TEci6kzBWnJsMGzmKqjNh2CoSF62zhS\n",
       "5L19s5hl/G0Du4QhnhG0i4vnB/HNMfCKWiFGqweXPx/TzGP7fgCSOqv4X9xqTzpeIi4DnOJ2Ziav\n",
       "FRizIlS6Bc+YORa9tDLZj63mBfMzO1w0WK0y90b6G0qcqmM+cw6QmWmd6Q9mVbXI3g5zoTPfz38u\n",
       "mKnjnIItvAo7M+LMRPZLSxykSloYfriTmBNa/jf/pi1qMhfJ57GuizEXRKF0T16D6LvJf/8aw+/e\n",
       "J4EyjqQt3f7+txhVbgAAAJcBnwt0Q/8Asq+x9OtMwAhO07OUX/684eZwWKpEpT4zFK4UA3mQPyX9\n",
       "FN25det2uE6Z5gMHpK9uWARixgH5853aR6S/FTsQLgMojXMui8JSDNt+SekfvmTvSv5QugexWOzn\n",
       "UBhdJCdrTUj7CZ7UWqp7rPOKD7Qn1VmtRSfo7XsEl13BrZtwquueEMc1f00/blf5gaT6J2IRAAAA\n",
       "bwGfDWpD/wCWmAcsAG0oeY7//+vOHmcEqOQ9KfGYpXCgG8yB+Nw3Yk+AmLMx6xb5GiH+pi8zJN3B\n",
       "s3DijYIDM4Xgxegp66uRSYQEepr5u+JSQ9OqIRJ0dSfZk3VMdN7y/kcqGyL+qLPAdl/p0mfhnwAA\n",
       "ALJBmxJJqEFsmUwIIf/+qlUBft0aAYAIftsIDMqpTVCLlWAKW9HEiWUSNo/ORo4sW1neyNTo+NjB\n",
       "WxBLKmBD3TUc8yVKRbbPxtcfL5TfZF6lOy3/r2LAa8u2Ab36hn2j12Dn9o5yqP6J+9aXY2z1MF7B\n",
       "KyoQVCOBNmtY4CzFCOhnhbcsNk5BZmrLD6bVG7u/AIDxkKG94dFvBWehei01S8P8dOmbQvcUjPsZ\n",
       "yuz0gsBfuTrZAAAAmkGfMEUVLBD/AEgAePYAAftA7FAzAIOA8CyfEw1/RmnUYVEYOb9hyvqNoUB8\n",
       "LQuBQ7XksZxcjKn7Fe1hkjI1bcSBQh1CF2Sx0285pp8kNWl289PGN+5RVES39eD64Yk+bz8z5UY/\n",
       "aiGwX0cdJZ5IFiq4OkcHXSagecbN3mV0S2Q86li2d5TO76/tgjCfOyRXO+C7caJPiWCqjeAAAACE\n",
       "AZ9PdEP/AJNgVbgA2lDzHf//15w8zglRyHpT4zFK4UA3mQPyh3knf/j1oqDRARobsdNeS20fpcfH\n",
       "AsTPPWOv3nFL/QQC5PkgfNtMkYdQON8tjRj4BUHlu3+gZDlGy6qaqjtv6o/rdJIrf5qdux4cHVJe\n",
       "+rh7T7+m6QW/pgvpxcejO7g4AAAAhAGfUWpD/wCTYFW4ANpQ8x3//9ecPM4LFUiUp8ZilcKAbzIH\n",
       "5RoziZLTcs7JyKozVkKhUenNn3KeQtVtFJHfKNTLE+OHoIAevS4961DV23uRcBnT+Od/kKbJhDTa\n",
       "NOuxuxmMn4GbevvG/WxDyDmEv2mBpnjoSMhTF+67p3spLWz5y1HcjQAAAc5Bm1NJqEFsmUwIf//+\n",
       "qZYJWRW6URXVQa4EyfK8IIATV8iCgCj7AFcF2x+T57BlnD7ifcR2zbL28V74Pdg46v4lebl/dNG1\n",
       "sOudLUIIhMMT0UPwzqExjDQPE315/dm+JiGfDFsPyH2+3pfRbuBBXhQuEE5gJR6hXRhimPtI1G+3\n",
       "XgKGPkK8dqwb3VQjbsHG0Akn18UflTgOUdAMIllsMrXu8Is7dv9YaLjyllZRg8CR7WPeAnvPq4fH\n",
       "O5kEQL+qXFUAhsUrm45ZvW6hZ5qCg4Y6QB7jqLirs09HmtoYywV15ir96OwkzamGxjPi6mIz4mBY\n",
       "/myjEuLeYyTfS8BrHQByTQmX7Yhm84Ybu6XkBOovLLyfBs6MAwMWS5qjn8phs4eTkmO0F+4C4pXu\n",
       "CHsufLLpLZp6D7AJ5cyTDAXpE4NpIN5kT+M1Ua8HUPOZqcGIUlFcb9uBoiw7TpiLrUrE4ILA37Yd\n",
       "MLN8RI18I1qejFSbbplJGfAlUt/GA1wEGew6t5qfSzo468la8SymP5DyYa/HBqi8hiJiR7CQUWIg\n",
       "Od9OiqO9KkT//gwWoBRImvDhMOzcYqNuekJF29cM0AmeEDfen1wLA3qFPfyQqppAYMAAAAQebW9v\n",
       "dgAAAGxtdmhkAAAAAAAAAAAAAAAAAAAD6AAAD6AAAQAAAQAAAAAAAAAAAAAAAAEAAAAAAAAAAAAA\n",
       "AAAAAAABAAAAAAAAAAAAAAAAAABAAAAAAAAAAAAAAAAAAAAAAAAAAAAAAAAAAAAAAAAAAgAAA0h0\n",
       "cmFrAAAAXHRraGQAAAADAAAAAAAAAAAAAAABAAAAAAAAD6AAAAAAAAAAAAAAAAAAAAAAAAEAAAAA\n",
       "AAAAAAAAAAAAAAABAAAAAAAAAAAAAAAAAABAAAAAAbAAAAEgAAAAAAAkZWR0cwAAABxlbHN0AAAA\n",
       "AAAAAAEAAA+gAAAQAAABAAAAAALAbWRpYQAAACBtZGhkAAAAAAAAAAAAAAAAAAAoAAAAoABVxAAA\n",
       "AAAALWhkbHIAAAAAAAAAAHZpZGUAAAAAAAAAAAAAAABWaWRlb0hhbmRsZXIAAAACa21pbmYAAAAU\n",
       "dm1oZAAAAAEAAAAAAAAAAAAAACRkaW5mAAAAHGRyZWYAAAAAAAAAAQAAAAx1cmwgAAAAAQAAAitz\n",
       "dGJsAAAAs3N0c2QAAAAAAAAAAQAAAKNhdmMxAAAAAAAAAAEAAAAAAAAAAAAAAAAAAAAAAbABIABI\n",
       "AAAASAAAAAAAAAABAAAAAAAAAAAAAAAAAAAAAAAAAAAAAAAAAAAAAAAAAAAAGP//AAAAMWF2Y0MB\n",
       "ZAAV/+EAGGdkABWs2UGwloQAAAMABAAAAwAoPFi2WAEABmjr48siwAAAABx1dWlka2hA8l8kT8W6\n",
       "OaUbzwMj8wAAAAAAAAAYc3R0cwAAAAAAAAABAAAAFAAACAAAAAAUc3RzcwAAAAAAAAABAAAAAQAA\n",
       "ALBjdHRzAAAAAAAAABQAAAABAAAQAAAAAAEAACgAAAAAAQAAEAAAAAABAAAAAAAAAAEAAAgAAAAA\n",
       "AQAAGAAAAAABAAAIAAAAAAEAACgAAAAAAQAAEAAAAAABAAAAAAAAAAEAAAgAAAAAAQAAKAAAAAAB\n",
       "AAAQAAAAAAEAAAAAAAAAAQAACAAAAAABAAAoAAAAAAEAABAAAAAAAQAAAAAAAAABAAAIAAAAAAEA\n",
       "ABAAAAAAHHN0c2MAAAAAAAAAAQAAAAEAAAAUAAAAAQAAAGRzdHN6AAAAAAAAAAAAAAAUAAAYvAAA\n",
       "BlUAAANzAAAAugAAAMoAAAMkAAABuwAAAgMAAAEGAAABKAAAAQgAAAEnAAAA6wAAAJsAAABzAAAA\n",
       "tgAAAJ4AAACIAAAAiAAAAdIAAAAUc3RjbwAAAAAAAAABAAAALAAAAGJ1ZHRhAAAAWm1ldGEAAAAA\n",
       "AAAAIWhkbHIAAAAAAAAAAG1kaXJhcHBsAAAAAAAAAAAAAAAALWlsc3QAAAAlqXRvbwAAAB1kYXRh\n",
       "AAAAAQAAAABMYXZmNTguMjkuMTAw\n",
       "\">\n",
       "  Your browser does not support the video tag.\n",
       "</video>"
      ],
      "text/plain": [
       "<IPython.core.display.HTML object>"
      ]
     },
     "execution_count": 23,
     "metadata": {},
     "output_type": "execute_result"
    }
   ],
   "source": [
    "create_animation(\"DE - Best\", LAND)"
   ]
  }
 ],
 "metadata": {
  "kernelspec": {
   "display_name": "Python 3",
   "language": "python",
   "name": "python3"
  },
  "language_info": {
   "codemirror_mode": {
    "name": "ipython",
    "version": 3
   },
   "file_extension": ".py",
   "mimetype": "text/x-python",
   "name": "python",
   "nbconvert_exporter": "python",
   "pygments_lexer": "ipython3",
   "version": "3.8.3"
  }
 },
 "nbformat": 4,
 "nbformat_minor": 4
}
