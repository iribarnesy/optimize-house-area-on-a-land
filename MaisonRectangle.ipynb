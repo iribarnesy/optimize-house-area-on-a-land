{
 "cells": [
  {
   "cell_type": "markdown",
   "metadata": {},
   "source": [
    "# Optimisation : Placer la plus grande maison possible dans un terrain"
   ]
  },
  {
   "cell_type": "markdown",
   "metadata": {},
   "source": [
    "- La maison est un rectangle\n",
    "- Le terrain est un polygone quelconque, il peut être convexe ou concave\n",
    "- L'optimisation peut être faite en utilisant les algorithmes PSO, DE ou ABC"
   ]
  },
  {
   "cell_type": "code",
   "execution_count": 1,
   "metadata": {},
   "outputs": [],
   "source": [
    "from sympy.geometry import Point\n",
    "from sympy.geometry import Polygon as SimpyPolygon\n",
    "import math\n",
    "import sys\n",
    "import numpy as np\n",
    "import matplotlib.pyplot as plt\n",
    "from matplotlib.patches import Polygon\n",
    "import pyclipper\n",
    "import functools\n",
    "\n",
    "from IPython.display import Markdown, display\n",
    "def printmd(string):\n",
    "    display(Markdown(string))"
   ]
  },
  {
   "cell_type": "markdown",
   "metadata": {},
   "source": [
    "## Class and converting functions"
   ]
  },
  {
   "cell_type": "code",
   "execution_count": 2,
   "metadata": {},
   "outputs": [],
   "source": [
    "class Rectangle:\n",
    "    \"\"\"Minimal representation of a rectangle\"\"\"\n",
    "    def __init__(self, point1_x, point1_y, point2_x, point2_y, longueur):\n",
    "        self.point1_x = point1_x\n",
    "        self.point1_y = point1_y\n",
    "        self.point2_x = point2_x\n",
    "        self.point2_y = point2_y\n",
    "        self.longueur = longueur"
   ]
  },
  {
   "cell_type": "code",
   "execution_count": 3,
   "metadata": {},
   "outputs": [],
   "source": [
    "def sol_to_rect(solution):\n",
    "    \"\"\"Convert a minimal rectangle to a SimpyPolygon rectangle\"\"\"\n",
    "    if type(solution) != Rectangle:\n",
    "        solution = Rectangle(*solution)\n",
    "    point1 = Point(solution.point1_x, solution.point1_y)\n",
    "    point2 = Point(solution.point2_x, solution.point2_y)\n",
    "    if point1.equals(point2):\n",
    "        raise ValueError(\"Point 1 and point 2 are the same\")\n",
    "    if solution.longueur == 0:\n",
    "        raise ValueError(\"Longueur nulle interdite\")\n",
    "    longueur = solution.longueur\n",
    "    vect = (point2.x - point1.x, point2.y - point1.y)\n",
    "    distance = point1.distance(point2)\n",
    "    vectUnitaire = (vect[0] / distance * longueur, vect[1] / distance * longueur)\n",
    "    normalVect = (-vectUnitaire[1], vectUnitaire[0])\n",
    "    point3 = Point(point2.x + normalVect[0], point2.y + normalVect[1])\n",
    "    point4 = Point(point1.x + normalVect[0], point1.y + normalVect[1])\n",
    "    return SimpyPolygon(point1, point2, point3, point4)"
   ]
  },
  {
   "cell_type": "code",
   "execution_count": 4,
   "metadata": {},
   "outputs": [],
   "source": [
    "def path_to_polygon(path):\n",
    "    \"\"\"Return a polygon if it is not one yet\"\"\"\n",
    "    if type(path) == list:\n",
    "        return SimpyPolygon(*path)\n",
    "    return path\n",
    "\n",
    "def polygon_to_path(polygon):\n",
    "    \"\"\"Return a path if it is not one yet\"\"\"\n",
    "    if type(polygon) == SimpyPolygon:\n",
    "        return list(map(lambda p: [p.x, p.y], polygon.vertices))\n",
    "    return polygon"
   ]
  },
  {
   "cell_type": "markdown",
   "metadata": {},
   "source": [
    "## Drawing functions"
   ]
  },
  {
   "cell_type": "code",
   "execution_count": 5,
   "metadata": {},
   "outputs": [],
   "source": [
    "def draw_polygon(polygon, ax=None, color=\"green\"):\n",
    "    \"\"\"Draw a polygon over an axis (not shown directly)\n",
    "    \n",
    "    @param polygon: Whether a polygon or a path\n",
    "    \"\"\"\n",
    "    if ax is None:\n",
    "        ax = plt.gca()\n",
    "    if type(polygon) == SimpyPolygon:\n",
    "        polygon = np.array(list(map(lambda p: [p.x, p.y], polygon.vertices)))\n",
    "    p = Polygon(polygon, closed=False, color=color, alpha=0.3)\n",
    "    ax.add_patch(p)\n",
    "    ax.axis('equal')\n",
    "    return ax"
   ]
  },
  {
   "cell_type": "code",
   "execution_count": 6,
   "metadata": {},
   "outputs": [],
   "source": [
    "def draw_polygons(polygons, colors=None, verbose=False):\n",
    "    \"\"\"Draw polygons and print the figure\n",
    "    \n",
    "    @param polygons: SimpyPolygon or list(SimpyPolygon)\n",
    "    @param colors: colors to match to the polygons\n",
    "    \"\"\"\n",
    "    ax = plt.gca()\n",
    "    if type(polygons) == SimpyPolygon:\n",
    "        polygons = [polygons]\n",
    "    if colors is None:\n",
    "        colors = [\"grey\"]*len(polygons)\n",
    "    colors.reverse()\n",
    "    \n",
    "    for polygon in polygons:\n",
    "        color = colors.pop()\n",
    "        if verbose:\n",
    "            print(color, \"Polygon : \", polygon)\n",
    "        ax = draw_polygon(polygon, ax, color=color)\n",
    "    plt.show()"
   ]
  },
  {
   "cell_type": "markdown",
   "metadata": {},
   "source": [
    "## Calculate the area of a polygon"
   ]
  },
  {
   "cell_type": "code",
   "execution_count": 7,
   "metadata": {},
   "outputs": [],
   "source": [
    "def area(polygon):\n",
    "    try:\n",
    "        if type(polygon) == SimpyPolygon:\n",
    "            return abs(polygon.area)\n",
    "        print(\"In area : \", polygon)\n",
    "        print(\"In area : \", abs(float((sol_to_rect(polygon)).area)))\n",
    "        return abs(float((sol_to_rect(polygon)).area))\n",
    "    except:\n",
    "        printmd(\"### Error !\")\n",
    "        print(polygon)\n",
    "\n",
    "def get_bornage_search_field(polygon):\n",
    "    polygon = polygon_to_path(polygon)\n",
    "    min_func = lambda acc, vertice: min(min(*vertice),acc)\n",
    "    max_func = lambda acc, vertice: max(max(*vertice),acc)\n",
    "    \n",
    "    min_search_field = functools.reduce(min_func, polygon, sys.maxsize)\n",
    "    max_search_field = functools.reduce(max_func, polygon, -sys.maxsize)\n",
    "    \n",
    "    return min_search_field, max_search_field\n",
    "    "
   ]
  },
  {
   "cell_type": "markdown",
   "metadata": {},
   "source": [
    "## Calculate the validity of a solution"
   ]
  },
  {
   "cell_type": "code",
   "execution_count": 8,
   "metadata": {},
   "outputs": [],
   "source": [
    "def vertice_in_polygon(vertice, polygon):\n",
    "    \"\"\" Determine if the vertice is in the polygon\n",
    "    Not a strict check because of the pyclipper library in which\n",
    "    the coordinates are floored.\n",
    "    \"\"\"\n",
    "    return list(map(lambda c: int(c), vertice)) in polygon\n",
    "\n",
    "def est_valide(rectangle, polygon):\n",
    "    \"\"\" Determine if the rectangle is in the polygon\n",
    "    \n",
    "    @param rectangle: whether a polygon or a list of vertices\n",
    "    @param polygon: whether a polygon or a list of vertices\n",
    "    \"\"\"\n",
    "    try:\n",
    "        rectangle, polygon = polygon_to_path(rectangle), polygon_to_path(polygon)\n",
    "        pc = pyclipper.Pyclipper()\n",
    "        pc.AddPath(polygon, pyclipper.PT_SUBJECT, True)\n",
    "        pc.AddPath(rectangle, pyclipper.PT_CLIP, True)\n",
    "    \n",
    "        intersections = pc.Execute(pyclipper.CT_INTERSECTION, pyclipper.PFT_EVENODD, pyclipper.PFT_EVENODD)\n",
    "        \n",
    "        res = (intersections != []) and (len(intersections[0]) == len(rectangle)) and np.all([vertice_in_polygon(v, intersections[0]) for v in rectangle]) \n",
    "        return res, intersections\n",
    "    except pyclipper.ClipperException:\n",
    "        print(\"Clipper exception\")\n",
    "        return False"
   ]
  },
  {
   "cell_type": "code",
   "execution_count": 9,
   "metadata": {},
   "outputs": [
    {
     "name": "stdout",
     "output_type": "stream",
     "text": [
      "House : Polygon(Point2D(12, 66), Point2D(38, 37), Point2D(1334*sqrt(1517)/1517 + 38, 1196*sqrt(1517)/1517 + 37), Point2D(12 + 1334*sqrt(1517)/1517, 1196*sqrt(1517)/1517 + 66))\n",
      "Land : Polygon(Point2D(0, 0), Point2D(0, 100), Point2D(100, 100), Point2D(110, 50), Point2D(100, 0))\n"
     ]
    },
    {
     "data": {
      "image/png": "[encoded data removed]",
      "text/plain": [
       "<Figure size 432x288 with 1 Axes>"
      ]
     },
     "metadata": {
      "needs_background": "light"
     },
     "output_type": "display_data"
    },
    {
     "data": {
      "text/markdown": [
       "### Validité : C'est bon ça passe"
      ],
      "text/plain": [
       "<IPython.core.display.Markdown object>"
      ]
     },
     "metadata": {},
     "output_type": "display_data"
    },
    {
     "data": {
      "text/markdown": [
       "### L'aire de la maison est de **1791** m² sur 10500 m² possible\n",
       "\n"
      ],
      "text/plain": [
       "<IPython.core.display.Markdown object>"
      ]
     },
     "metadata": {},
     "output_type": "display_data"
    },
    {
     "name": "stdout",
     "output_type": "stream",
     "text": [
      "green Polygon :  Polygon(Point2D(0, 0), Point2D(0, 100), Point2D(100, 100), Point2D(110, 50), Point2D(100, 0))\n",
      "brown Polygon :  Polygon(Point2D(12, 66), Point2D(38, 37), Point2D(1334*sqrt(1517)/1517 + 38, 1196*sqrt(1517)/1517 + 37), Point2D(12 + 1334*sqrt(1517)/1517, 1196*sqrt(1517)/1517 + 66))\n",
      "blue Polygon :  [[72, 67], [46, 96], [12, 66], [38, 37]]\n"
     ]
    },
    {
     "data": {
      "image/png": "[encoded data removed]",
      "text/plain": [
       "<Figure size 432x288 with 1 Axes>"
      ]
     },
     "metadata": {
      "needs_background": "light"
     },
     "output_type": "display_data"
    }
   ],
   "source": [
    "solution = Rectangle(*[12, 66, 38, 37, 46])\n",
    "house = sol_to_rect(solution)\n",
    "print(\"House :\", house)\n",
    "\n",
    "land = SimpyPolygon((0,0), (0,100), (100,100), (110, 50), (100, 0))\n",
    "print(\"Land :\", land)\n",
    "\n",
    "# draw the situation\n",
    "draw_polygons([land, house], colors=[\"green\", \"brown\"], verbose=False)\n",
    "\n",
    "# determine if the house is well placed over the land\n",
    "res, clip = est_valide(house, land)\n",
    "printmd(\"### Validité : C'est bon ça passe\" if res else \"### Validité : Noooooooon, construction incorrecte\")\n",
    "printmd(f\"### L'aire de la maison est de **{int(area(house))}** m² sur {area(land)} m² possible\\n\\n\")\n",
    "\n",
    "# draw the solution to verify it is correct\n",
    "draw_polygons([land, house, clip[0]], colors=[\"green\",\"brown\",\"blue\"], verbose=True)"
   ]
  },
  {
   "cell_type": "code",
   "execution_count": 10,
   "metadata": {},
   "outputs": [],
   "source": [
    "from ipynb.fs.full.PSO import fit as PSO_fit"
   ]
  },
  {
   "cell_type": "code",
   "execution_count": 11,
   "metadata": {},
   "outputs": [
    {
     "data": {
      "text/plain": [
       "(0, 110)"
      ]
     },
     "execution_count": 11,
     "metadata": {},
     "output_type": "execute_result"
    }
   ],
   "source": [
    "get_bornage_search_field(land)"
   ]
  },
  {
   "cell_type": "code",
   "execution_count": 12,
   "metadata": {},
   "outputs": [],
   "source": [
    "def polygon_bornage(sol, land_polygon):\n",
    "    rect = sol_to_rect(sol)\n",
    "    if est_valide(rect, land_polygon):\n",
    "        return sol \n",
    "    else:\n",
    "        raise ValueError(\"Solution invalide par contrainte de bornage\")"
   ]
  },
  {
   "cell_type": "code",
   "execution_count": 24,
   "metadata": {},
   "outputs": [
    {
     "name": "stderr",
     "output_type": "stream",
     "text": [
      "  0%|          | 0/3 [00:00<?, ?it/s]"
     ]
    },
    {
     "name": "stdout",
     "output_type": "stream",
     "text": [
      "In area :  [18.406384728234855, 22.98866657378805, 75.99572629168767, 79.35343287998107, 110.1864592247068]\n",
      "In area :  8879.086564740232\n",
      "In area :  [15.406224260675728, 20.531192599236295, 51.886373301871764, 54.03390120784465, 125.01890171511428]\n",
      "In area :  6192.20116757649\n",
      "In area :  [2.410492083241329, 25.377122980015464, 96.16338832552051, 81.34018220097909, 95.2023864430271]\n",
      "In area :  10394.718482552737\n",
      "In area :  [20.558019861633284, 28.689207907510863, 93.06510223603414, 56.56567633865104, 127.80709808441496]\n",
      "In area :  9928.213398254546\n",
      "In area :  [33.047018488472574, 11.303299562666341, 78.52062739815001, 104.99658547740744, 58.9674569048164]\n",
      "In area :  6141.194083444723\n",
      "In area :  [40.525545549427896, 27.919810535909022, 72.19783652350426, 89.33376729434244, 105.27284143852884]\n",
      "In area :  7274.3518962992275\n",
      "In area :  [-25.97389266067548, 25.128665284743356, 98.11597292672802, 76.08804711271762, 75.19967564888005]\n",
      "In area :  10087.736816863548\n",
      "In area :  [46.47936524477325, 17.48148810346993, 114.85340606118697, 76.60055539199077, 84.57844161288955]\n",
      "In area :  7644.915027384802\n",
      "In area :  [7.4137797225098865, 38.23955246171779, 87.89035597315569, 86.78512469264089, 99.49845341181776]\n",
      "In area :  9351.34715495022\n",
      "In area :  [83.019189335849, 49.70402130801047, 76.09789389429078, 79.93175357056384, 95.86723265281205]\n",
      "In area :  2972.842928348439\n",
      "In area :  [12.941589374869288, 23.880706740450023, 79.2157202183876, 94.25055571189208, 74.42605969652595]\n",
      "In area :  7194.415786622679\n",
      "In area :  [-37.264996324590555, 32.09800968949591, 87.1811684102633, 90.22892551882364, 92.12793514915607]\n",
      "In area :  12654.1169208569\n",
      "In area :  [-0.05131193102549858, 50.93701548213822, 93.95830405718573, 73.61168299555852, 89.17992609533243]\n",
      "In area :  8624.18690607842\n",
      "In area :  [51.84761042155107, 9.008495235632758, 93.64669594116432, 58.879438056783286, 83.20501935531065]\n",
      "In area :  5414.259034559299\n",
      "In area :  [9.81016414915004, 29.99097845449053, 94.46723152468104, 61.47385654270329, 95.20210808613373]\n",
      "In area :  8598.80632664571\n",
      "In area :  [2.124315037477963, 19.86827779286105, 73.33981211132803, 82.91313325363318, 32.75517678636953]\n",
      "In area :  3115.411800181773\n",
      "In area :  [16.631395491010736, 40.56742033493325, 92.92206809145546, 67.61132905476953, 81.25987089619781]\n",
      "In area :  6577.3527139400385\n",
      "In area :  [41.426509174620975, 70.70023557119126, 21.816451411300147, 67.53850492320386, 79.51366360894326]\n",
      "In area :  1579.4041932596176\n",
      "In area :  [11.375768204625214, 13.269849304786248, 101.71656977594955, 86.00519793321291, 127.02327830702538]\n",
      "In area :  14732.45057814891\n",
      "In area :  [8.760625188125502, 59.76932193282273, 108.88417691079954, 17.107842858828313, 94.51146525035811]\n",
      "In area :  10286.012113551424\n"
     ]
    },
    {
     "data": {
      "image/png": "[encoded data removed]",
      "text/plain": [
       "<Figure size 432x288 with 1 Axes>"
      ]
     },
     "metadata": {
      "needs_background": "light"
     },
     "output_type": "display_data"
    },
    {
     "name": "stderr",
     "output_type": "stream",
     "text": [
      " 33%|███▎      | 1/3 [00:08<00:17,  8.62s/it]"
     ]
    },
    {
     "name": "stdout",
     "output_type": "stream",
     "text": [
      "In area :  [8.731111609557518, 37.3642477962146, 34.17837794553117, 68.65984991257768, 8.182451605885177]\n",
      "In area :  330.04586477873346\n",
      "In area :  [54.25592070342417, 57.03984404206942, 46.15017779125688, 56.07608147740595, 190.97426063345904]\n",
      "In area :  1558.8917437919993\n",
      "In area :  [45.38582020401543, 43.602280246470144, -17.87266649070871, 75.39279495836037, 4.112479016501567]\n",
      "In area :  291.152854388058\n",
      "In area :  [15.725013700490642, 64.34332922915752, 0.4488645040260195, 72.45889541886132, 57.142350290789366]\n",
      "In area :  988.4522483240071\n",
      "In area :  [81.3546865902655, 102.43513726045208, 40.753843377570064, 140.2540484488111, -3.3514314399478593]\n",
      "In area :  185.957594853599\n",
      "In area :  [46.53310722969595, 99.45899278228663, 0.42951248424674304, 96.1380198728233, 117.00301194752454]\n",
      "In area :  5408.236018517102\n",
      "In area :  [-35.39005628833448, 49.77241855743183, 36.82893009380237, 67.04774840994529, 19.00943697335218]\n",
      "In area :  1411.5731332104783\n",
      "In area :  [64.76248958667217, 35.43388788291754, 112.80257428688356, 97.46727697439943, 54.5696047082721]\n",
      "In area :  4281.5379666766485\n",
      "In area :  [-44.771633693653925, 51.3179155528033, 89.48278997704674, 80.5912968865621, 42.074400335312404]\n",
      "In area :  5781.393291375136\n",
      "In area :  [79.82026606888832, 74.2466534562104, 20.695460324197427, 58.22069971533122, 33.96437902525977]\n",
      "In area :  2080.5986028913735\n",
      "In area :  [66.02963676964171, 7.209624355289073, 32.898722008496186, 105.13349386977131, 59.4054787300077]\n",
      "In area :  6141.142246921909\n",
      "In area :  [17.37193450399326, 108.24831867734676, 11.329831310323229, 69.5231142536538, 15.421346250513906]\n",
      "In area :  604.4200806572014\n",
      "In area :  [85.33413808153212, 59.237714489574614, 23.80657586791446, 81.42607935194512, 2.7889246489563106]\n",
      "In area :  182.41282370220833\n",
      "In area :  [78.74103451382004, 63.7531294530558, 21.828355177048252, 85.7532560931415, 67.3630101199739]\n",
      "In area :  4110.280151013774\n",
      "In area :  [31.16072264842701, 56.013009125496765, 70.22947667258967, 71.14445554639194, 43.260872780868034]\n",
      "In area :  1812.485093466451\n",
      "In area :  [29.767943417103048, 69.89881119346691, 24.55502414546165, 93.87213314958734, 2.405154483297295]\n",
      "In area :  59.0069590166929\n",
      "In area :  [46.7182487908252, 107.83231527078937, 54.75113090363019, 83.23115865801672, 6.07389220034915]\n",
      "In area :  157.18877468635625\n",
      "In area :  [67.25641268618062, 80.41269507383501, 33.18317479944, 67.33302952080129, 28.623476882241988]\n",
      "In area :  1044.6836553981118\n",
      "In area :  [24.19652930361402, 60.70529336522974, 22.318015404676288, 73.67135637233307, 36.73228678602909]\n",
      "In area :  481.2456751771406\n",
      "In area :  [81.71905785891899, 79.57532261889507, 63.479092956904616, 39.82054431033771, 64.26250882665164]\n",
      "In area :  2810.806227290458\n"
     ]
    },
    {
     "data": {
      "image/png": "[encoded data removed]",
      "text/plain": [
       "<Figure size 432x288 with 1 Axes>"
      ]
     },
     "metadata": {
      "needs_background": "light"
     },
     "output_type": "display_data"
    },
    {
     "name": "stderr",
     "output_type": "stream",
     "text": [
      " 67%|██████▋   | 2/3 [00:17<00:08,  8.66s/it]"
     ]
    },
    {
     "name": "stdout",
     "output_type": "stream",
     "text": [
      "In area :  [4.686431450583035, 27.529600750444224, 90.93238669809773, 67.39173361013354, 67.58102980303403]\n",
      "In area :  6421.035223967285\n",
      "In area :  [44.033142084839206, 77.26926142880313, 73.06383541409078, 67.76223961116611, -1.3340253189305997]\n",
      "In area :  40.751462961172166\n",
      "In area :  [-33.323985772323255, 8.495176412414203, -2.6151133609237505, 79.99098995127389, 55.95779845516776]\n",
      "In area :  4354.180610039752\n",
      "In area :  [14.618287071808396, 49.17851305501249, 61.35615748992314, 75.4059051265655, 82.91923087443334]\n",
      "In area :  4443.96381405232\n",
      "In area :  [74.8249473590258, 57.56625339016415, 23.723196179471238, 126.49749539855219, 58.71979882319867]\n",
      "In area :  5038.591624429062\n",
      "In area :  [2.0920683882298903, 85.46544182889427, 82.9942147007663, 87.406025901189, 54.08305989849505]\n",
      "In area :  4376.694184242174\n",
      "In area :  [-26.87047343339733, 63.499364595844426, 109.00102988576442, 80.39077269809724, 24.014962634349445]\n",
      "In area :  3288.0671797838727\n",
      "In area :  [38.56292690099782, 17.766208542165057, 103.59827288157055, 86.44861160232507, 44.433261421170535]\n",
      "In area :  4202.84839250902\n",
      "In area :  [13.432674257123814, 13.443670921963623, 75.89163309445465, 77.96890274454863, 41.41142426777636]\n",
      "In area :  3718.881263442786\n",
      "In area :  [-13.223782947818492, 62.067890802700624, 64.54715203774148, 91.62371103654787, 44.53081632387247]\n",
      "In area :  3704.8635185878134\n",
      "In area :  [-2.5143690566917485, 6.718319227740917, 28.91615358983796, 96.75963820158752, 34.835605127569494]\n",
      "In area :  3322.2497405534364\n",
      "In area :  [-33.60551370491869, -4.679386764959588, 47.401366783947665, 70.09813149803159, 74.8154784399264]\n",
      "In area :  8247.975381324284\n",
      "In area :  [24.215570024573744, 62.64851676452935, 71.61415948993974, 86.53240541618169, 57.313599933019454]\n",
      "In area :  3041.979137665534\n",
      "In area :  [-27.3752440032965, 43.67032583657979, 8.463093514441312, 93.78991093137668, 62.02137961521369]\n",
      "In area :  3821.422653947524\n",
      "In area :  [15.014628507800278, 29.534560442184226, 83.41735009776905, 90.21296291292686, 58.597148003420465]\n",
      "In area :  5357.971735137901\n",
      "In area :  [2.591632218280779, 52.90095690202085, 39.38569000469898, 91.10179258807874, 7.8851983883289165]\n",
      "In area :  418.2208827061297\n",
      "In area :  [42.688366954187714, 109.81461387163932, 86.09861452223475, 91.88540534009643, 48.631399532130914]\n",
      "In area :  2284.0745780139264\n",
      "In area :  [8.041670132673538, 80.03224631630148, 75.4647091016345, 79.80371935395532, 41.60043714841679]\n",
      "In area :  2804.844006381339\n",
      "In area :  [-11.749621902512303, 20.262040113061815, 69.32882659005091, 76.84416261776974, -28.483656489920435]\n",
      "In area :  2816.1754435650973\n",
      "In area :  [84.2387971956852, -1.5261400087699002, 88.72414457060546, 95.20113673911544, 40.09021116109835]\n",
      "In area :  3881.983899758182\n"
     ]
    },
    {
     "data": {
      "image/png": "[encoded data removed]",
      "text/plain": [
       "<Figure size 432x288 with 1 Axes>"
      ]
     },
     "metadata": {
      "needs_background": "light"
     },
     "output_type": "display_data"
    },
    {
     "name": "stderr",
     "output_type": "stream",
     "text": [
      "100%|██████████| 3/3 [00:26<00:00,  8.69s/it]"
     ]
    },
    {
     "name": "stdout",
     "output_type": "stream",
     "text": [
      "point = [2.410492083241329, 25.377122980015464, 96.16338832552051, 81.34018220097909, 95.2023864430271]\n",
      "eval = 13.185120841399211\n"
     ]
    },
    {
     "name": "stderr",
     "output_type": "stream",
     "text": [
      "\n"
     ]
    }
   ],
   "source": [
    "inf, sup = get_bornage_search_field(land)\n",
    "PSO_fit(eval_function=area, \n",
    "        bornage_function=lambda x: polygon_bornage(x, land), \n",
    "        log_function=lambda x:draw_polygons([land, sol_to_rect(x)], colors=[\"green\", \"brown\"]), \n",
    "        nb_particle=20, \n",
    "        dim=5, inf=inf, sup=sup, \n",
    "        nb_cycles=3)"
   ]
  },
  {
   "cell_type": "code",
   "execution_count": 21,
   "metadata": {},
   "outputs": [
    {
     "name": "stdout",
     "output_type": "stream",
     "text": [
      "In area :  [17.238688824344802, 33.826900857585485, 89.20655264720808, 43.35993743447405, 63.179434758583284]\n",
      "In area :  4586.60600835587\n",
      "4586.60600835587\n"
     ]
    },
    {
     "data": {
      "image/png": "[encoded data removed]",
      "text/plain": [
       "<Figure size 432x288 with 1 Axes>"
      ]
     },
     "metadata": {
      "needs_background": "light"
     },
     "output_type": "display_data"
    }
   ],
   "source": [
    "sol = [17.238688824344802, 33.826900857585485, 89.20655264720808, 43.35993743447405, 63.179434758583284]\n",
    "print(area(sol))\n",
    "draw_polygons(polygons=[sol_to_rect(sol), land], colors=[\"red\", \"green\"])"
   ]
  }
 ],
 "metadata": {
  "kernelspec": {
   "display_name": "Python 3",
   "language": "python",
   "name": "python3"
  },
  "language_info": {
   "codemirror_mode": {
    "name": "ipython",
    "version": 3
   },
   "file_extension": ".py",
   "mimetype": "text/x-python",
   "name": "python",
   "nbconvert_exporter": "python",
   "pygments_lexer": "ipython3",
   "version": "3.8.3"
  }
 },
 "nbformat": 4,
 "nbformat_minor": 4
}
